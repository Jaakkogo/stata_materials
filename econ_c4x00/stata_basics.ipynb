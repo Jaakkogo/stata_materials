{
 "cells": [
  {
   "cell_type": "markdown",
   "metadata": {},
   "source": [
    "## Stata basics\n",
    "### Printing in Stata\n",
    "\n",
    "The print command for Stata is the `display` or `di` command. Let's start by printing a familiar message:"
   ]
  },
  {
   "cell_type": "code",
   "execution_count": 1,
   "metadata": {},
   "outputs": [
    {
     "name": "stdout",
     "output_type": "stream",
     "text": [
      "Hello World!\n"
     ]
    }
   ],
   "source": [
    "di \"Hello World!\""
   ]
  },
  {
   "cell_type": "markdown",
   "metadata": {},
   "source": [
    "### Help\n",
    "\n",
    "The most important Stata command is the `help` command. It searches the Stata documentation for the user input. Since this instance uses the `stata_kernel` for Jupyter Lab, we'll need to include `%` to the start of the command:"
   ]
  },
  {
   "cell_type": "code",
   "execution_count": 2,
   "metadata": {},
   "outputs": [
    {
     "data": {
      "text/html": [
       "\n",
       "<html>\n",
       "<head>\n",
       "<meta content=\"noindex, nofollow\" name=\"robots\"/>\n",
       "<title>Stata 16 help for help</title>\n",
       "<link href=\"//www.stata.com/includes/css/stylehelp.css\" rel=\"stylesheet\" type=\"text/css\"/>\n",
       "<style type=\"text/css\">h2 {\n",
       "    font-family: Arial,Helvetica,Helv,sans-serif;\n",
       "    color: #000000;\n",
       "}\n",
       "\n",
       "pre {\n",
       "    margin: 10px;\n",
       "}\n",
       "\n",
       "table {\n",
       "    background-color: transparent;\n",
       "    border-color: transparent;\n",
       "    bgcolor: transparent;\n",
       "}\n",
       "\n",
       "tr {\n",
       "    background-color: transparent;\n",
       "    border-color: transparent;\n",
       "    bgcolor: transparent;\n",
       "}\n",
       "\n",
       "body {\n",
       "    background-color: transparent;\n",
       "    border-color: transparent;\n",
       "    margin: 0px;\n",
       "}\n",
       "\n",
       "div {\n",
       "    background-color: transparent;\n",
       "    border-color: transparent;\n",
       "}\n",
       "</style>\n",
       "</head>\n",
       "<body>\n",
       "\n",
       "<p>\n",
       "<table align=\"center\" bgcolor=\"transparent\" border=\"1\" cellpadding=\"5\" cellspacing=\"0\">\n",
       "<tr bgcolor=\"transparent\"><td align=\"left\" bgcolor=\"transparent\" valign=\"top\">\n",
       "<!-- END HEAD -->\n",
       "\n",
       "<pre>\n",
       "<p>\n",
       "<b>[R] help</b> -- Display help in Stata\n",
       "<p>\n",
       "<p>\n",
       "-------------------------------------------------------------------------------\n",
       "<p>\n",
       "<b><u>Stata's help system</u></b>\n",
       "<p>\n",
       "    There are several kinds of help available to the Stata user. For more\n",
       "    information, see <a href=\"https://www.stata.com/help.cgi?help_advice\" target=\"_blank\">Advice on getting help</a>.  The information below is\n",
       "    technical details about Stata's <b>help</b> command.\n",
       "<p>\n",
       "-------------------------------------------------------------------------------\n",
       "<p>\n",
       "<a name=\"syntax\"></a><b><u>Syntax</u></b>\n",
       "<p>\n",
       "        <b><u>h</u></b><b>elp</b> [<i>command_or_topic_name</i>] [<b>,</b> <b><u>non</u></b><b>ew</b> <b>name(</b><i>viewername</i><b>)</b>\n",
       "              <b><u>mark</u></b><b>er(</b><i>markername</i><b>)</b>]\n",
       "<p>\n",
       "<p>\n",
       "<a name=\"menu\"></a><b><u>Menu</u></b>\n",
       "<p>\n",
       "    <b>Help &gt; Stata command...</b>\n",
       "<p>\n",
       "<p>\n",
       "<a name=\"description\"></a><b><u>Description</u></b>\n",
       "<p>\n",
       "    The <b>help</b> command displays help information about the specified command or\n",
       "    topic.  <b>help</b> launches a new Viewer to display help for the specified\n",
       "    command or topic or displays help on the console in Stata for\n",
       "    Unix(console).  If <b>help</b> is not followed by a command or a topic name,\n",
       "    Stata displays advice for using the help system and documentation.\n",
       "<p>\n",
       "<p>\n",
       "<a name=\"options\"></a><b><u>Options</u></b>\n",
       "<p>\n",
       "    <b>nonew</b> specifies that a new Viewer window not be opened for the help topic\n",
       "        if a Viewer window is already open.  The default is for a new Viewer\n",
       "        window to be opened each time <b>help</b> is typed so that multiple help\n",
       "        files may be viewed at once.  <b>nonew</b> causes the help file to be\n",
       "        displayed in the topmost open Viewer.\n",
       "<p>\n",
       "    <b>name(</b><i>viewername</i><b>)</b> specifies that help be displayed in a Viewer window\n",
       "        named <i>viewername</i>.  If the named window already exists, its contents\n",
       "        will be replaced.  If the named window does not exist, it will be\n",
       "        created.\n",
       "<p>\n",
       "    <b>marker(</b><i>markername</i><b>)</b> specifies that the help file be opened to the position\n",
       "        of <i>markername</i> within the help file.\n",
       "<p>\n",
       "<p>\n",
       "<a name=\"remarks\"></a><b><u>Remarks</u></b>\n",
       "<p>\n",
       "    To obtain help for any Stata command, type <b>help</b> <i>command</i> or select <b>Help &gt;</b>\n",
       "    <b>Stata command...</b> and fill in <i>command</i>.\n",
       "<p>\n",
       "    <b>help</b> is best explained by examples.\n",
       "<p>\n",
       "        To obtain help for ...              type\n",
       "          <b>regress</b>                             <b>help regress</b>\n",
       "          postestimation tools for <b>regress</b>    <b>help regress postestimation</b>\n",
       "                                              or   <b>help regress post</b>\n",
       "          graph option <b>xlabel()</b>               <b>help graph xlabel()</b>\n",
       "          Stata function <b>strpos()</b>             <b>help strpos()</b>\n",
       "          Mata function <b>optimize()</b>            <b>help mata optimize()</b>\n",
       "<p>\n",
       "    Tips:\n",
       "<p>\n",
       "        o <b>help</b> displays advice for using the help system and documentation.\n",
       "<p>\n",
       "        o <b>help guide</b> displays a table of contents for basic Stata concepts.\n",
       "<p>\n",
       "        o <b>help estimation commands</b> displays an alphabetical listing of all\n",
       "            Stata estimation commands.\n",
       "<p>\n",
       "        o <b>help functions</b> displays help on Stata functions by category.\n",
       "<p>\n",
       "        o <b>help mata functions</b> displays a subject table of contents for Mata's\n",
       "            functions.\n",
       "<p>\n",
       "        o <b>help ts glossary</b> displays the glossary for the time-series manual,\n",
       "            and similarly for the other Stata specialty manuals.\n",
       "<p>\n",
       "    If you type <b>help</b> <i>topic</i> and help for <i>topic</i> is not found, Stata will\n",
       "    automatically perform a search for <i>topic</i>.\n",
       "<p>\n",
       "    For instance, try typing <b>help forecasting</b>.  A forecasting help file is\n",
       "    not found, so Stata executes <b>search forecasting</b> and displays the results\n",
       "    in the Viewer.\n",
       "<p>\n",
       "    See <b>[U] 4 Stata's help and search facilities</b> for a complete description\n",
       "    of how to use <b>help</b>.\n",
       "<p>\n",
       "<p>\n",
       "<a name=\"video\"></a><b><u>Video example</u></b>\n",
       "<p>\n",
       "    Quick help in Stata\n",
       "<p>\n",
       "</p></p></p></p></p></p></p></p></p></p></p></p></p></p></p></p></p></p></p></p></p></p></p></p></p></p></p></p></p></p></p></p></p></p></p></p></p></p></pre>\n",
       "<!-- BEGIN FOOT -->\n",
       "</td></tr></table>\n",
       "\n",
       "\n",
       "<br/>\n",
       "</p></body>\n",
       "</html>\n"
      ],
      "text/plain": [
       "This front-end cannot display HTML help."
      ]
     },
     "metadata": {},
     "output_type": "display_data"
    }
   ],
   "source": [
    "%help help"
   ]
  },
  {
   "cell_type": "markdown",
   "metadata": {},
   "source": [
    "### Macros and scalars\n",
    "\n",
    "Stata has two types of \"variables\" called local and global macros (not to be confused with actual Stata variables). Local macros are saved in memory until the end of the current do-file or Stata instance. Global macros are saved until you exit Stata.\n",
    "\n",
    "Let’s start by saving your working directory with macros. Create a folder called `ECON-C4100` somewhere on your computer and copy the path to Stata:"
   ]
  },
  {
   "cell_type": "code",
   "execution_count": 3,
   "metadata": {},
   "outputs": [],
   "source": [
    "local userPath \"Z:/ECON-C4100\"\n",
    "global userPath \"Z:/ECON-C4100\""
   ]
  },
  {
   "cell_type": "markdown",
   "metadata": {},
   "source": [
    "Macros are referenced with `` `localName' `` and ` $globalName `. We can print them by typing:"
   ]
  },
  {
   "cell_type": "code",
   "execution_count": 4,
   "metadata": {},
   "outputs": [
    {
     "name": "stdout",
     "output_type": "stream",
     "text": [
      "\n",
      "Z:/ECON-C4100\n",
      "\n",
      "Z:/ECON-C4100\n"
     ]
    }
   ],
   "source": [
    "di \"`userPath'\"\n",
    "di \"$userPath\""
   ]
  },
  {
   "cell_type": "markdown",
   "metadata": {},
   "source": [
    "One crucial thing about statistical programming is to know which folder your working directory is pointing at. Let's set our working dir to `$userPath`:"
   ]
  },
  {
   "cell_type": "code",
   "execution_count": 5,
   "metadata": {},
   "outputs": [
    {
     "name": "stdout",
     "output_type": "stream",
     "text": [
      "Z:\\ECON-C4100\n"
     ]
    }
   ],
   "source": [
    "cd $userPath"
   ]
  },
  {
   "cell_type": "markdown",
   "metadata": {},
   "source": [
    "You can print the location of the current working directory with two commands:"
   ]
  },
  {
   "cell_type": "code",
   "execution_count": 6,
   "metadata": {},
   "outputs": [
    {
     "name": "stdout",
     "output_type": "stream",
     "text": [
      "\n",
      "Z:\\ECON-C4100\n",
      "\n",
      "Z:\\ECON-C4100\n"
     ]
    }
   ],
   "source": [
    "pwd\n",
    "cd"
   ]
  },
  {
   "cell_type": "markdown",
   "metadata": {},
   "source": [
    "To print the Stata system directories you can type:"
   ]
  },
  {
   "cell_type": "code",
   "execution_count": 7,
   "metadata": {},
   "outputs": [
    {
     "name": "stdout",
     "output_type": "stream",
     "text": [
      "   STATA:  C:\\Program Files\\Stata16\\\n",
      "    BASE:  C:\\Program Files\\Stata16\\ado\\base\\\n",
      "    SITE:  C:\\Program Files\\Stata16\\ado\\site\\\n",
      "    PLUS:  c:\\ado\\plus\\\n",
      "PERSONAL:  C:\\Users\\markkaj4\\ado\\personal\\\n",
      "OLDPLACE:  c:\\ado\\\n"
     ]
    }
   ],
   "source": [
    "sysdir"
   ]
  },
  {
   "cell_type": "markdown",
   "metadata": {},
   "source": [
    "You can combine macros easily:"
   ]
  },
  {
   "cell_type": "code",
   "execution_count": 8,
   "metadata": {},
   "outputs": [
    {
     "name": "stdout",
     "output_type": "stream",
     "text": [
      "\n",
      "\n",
      "Z:/ECON-C4100 Z:/ECON-C4100 Z:/ECON-C4100\n"
     ]
    }
   ],
   "source": [
    "local userPathTwice `userPath' $userPath $userPath\n",
    "di \"`userPathTwice'\""
   ]
  },
  {
   "cell_type": "markdown",
   "metadata": {},
   "source": [
    "You can also erase macros by simply typing:"
   ]
  },
  {
   "cell_type": "code",
   "execution_count": 9,
   "metadata": {},
   "outputs": [],
   "source": [
    "local userPathTwice"
   ]
  },
  {
   "cell_type": "markdown",
   "metadata": {},
   "source": [
    "Macros can be used as counters:"
   ]
  },
  {
   "cell_type": "code",
   "execution_count": 10,
   "metadata": {},
   "outputs": [],
   "source": [
    "local one_ 1\n",
    "local two_ 2\n",
    "local three_ `one_' + `two_'"
   ]
  },
  {
   "cell_type": "code",
   "execution_count": 11,
   "metadata": {},
   "outputs": [
    {
     "name": "stdout",
     "output_type": "stream",
     "text": [
      "3\n"
     ]
    }
   ],
   "source": [
    "di `three_'"
   ]
  },
  {
   "cell_type": "markdown",
   "metadata": {},
   "source": [
    "However notice who `\"\"` change the output:"
   ]
  },
  {
   "cell_type": "code",
   "execution_count": 12,
   "metadata": {},
   "outputs": [
    {
     "name": "stdout",
     "output_type": "stream",
     "text": [
      "1 + 2\n"
     ]
    }
   ],
   "source": [
    "di \"`three_'\""
   ]
  },
  {
   "cell_type": "markdown",
   "metadata": {},
   "source": [
    "You can also use scalars. They are refered with their names but can only store numbers:"
   ]
  },
  {
   "cell_type": "code",
   "execution_count": 13,
   "metadata": {},
   "outputs": [],
   "source": [
    "scalar one_ = 1\n",
    "scalar two_ = 2\n",
    "scalar three_ = one_ + two_\n",
    "di three_\n",
    "scalar drop three_"
   ]
  },
  {
   "cell_type": "markdown",
   "metadata": {},
   "source": [
    "### Commenting and line breaks in Stata\n",
    "\n",
    "Including comments to your code is easy:"
   ]
  },
  {
   "cell_type": "code",
   "execution_count": 15,
   "metadata": {},
   "outputs": [],
   "source": [
    "// Comment, one line\n",
    "* Comment, one line\n",
    "\n",
    "/* Comment, \n",
    "multiple \n",
    "lines */"
   ]
  },
  {
   "cell_type": "markdown",
   "metadata": {},
   "source": [
    "The default chracter that marks the end of a command is newline (line break). You can change it to `;` and back easily:"
   ]
  },
  {
   "cell_type": "code",
   "execution_count": 16,
   "metadata": {},
   "outputs": [],
   "source": [
    "#delimit ;\n",
    "#delimit cr"
   ]
  },
  {
   "cell_type": "markdown",
   "metadata": {},
   "source": [
    "When using the standard line break, we need to use `///` to tell Stata if our command is presented in multiple lines."
   ]
  },
  {
   "cell_type": "markdown",
   "metadata": {},
   "source": [
    "### Importing data to Stata\n",
    "\n",
    "Next I demonstrate on how to import text and Excel data to Stata. We obtain our data directly through Statistics Finland API (I’ve created the links beforehand). We could also download the data to disk and replace the address with the file path. More on that later... "
   ]
  },
  {
   "cell_type": "code",
   "execution_count": 17,
   "metadata": {},
   "outputs": [
    {
     "name": "stdout",
     "output_type": "stream",
     "text": [
      "\n",
      "\n",
      "(3 vars, 191 obs)\n"
     ]
    }
   ],
   "source": [
    "local delimiter \"tab\" // our data has 'tabulate' key as the delimiter.\n",
    "import delimited using ///\n",
    "https://pxnet2.stat.fi:443/PXWeb/sq/2c23b351-c9a5-4946-b9c1-06c8146e7119 , ///\n",
    "delimiter(`delimiter') clear"
   ]
  },
  {
   "cell_type": "markdown",
   "metadata": {},
   "source": [
    "Let's describe our data in memory:"
   ]
  },
  {
   "cell_type": "code",
   "execution_count": 18,
   "metadata": {},
   "outputs": [
    {
     "name": "stdout",
     "output_type": "stream",
     "text": [
      "\n",
      "              storage   display    value\n",
      "variable name   type    format     label      variable label\n",
      "---------------------------------------------------------------------------------------------------------------------------------------------------------------------------------------------------------------------------------------------------------------\n",
      "month           str7    %9s                   Month\n",
      "commodity       str5    %9s                   Commodity\n",
      "pointfigure     float   %9.0g                 Point figure\n"
     ]
    }
   ],
   "source": [
    "describe _all"
   ]
  },
  {
   "cell_type": "markdown",
   "metadata": {},
   "source": [
    "In Stata, the data is saved as variables. Think them as vectors or matrices or as columns.\n",
    "\n",
    "Notice how the month variable has storage type `str7`. That means it’s a string variable. We can turn it into a time variable that Stata understands:"
   ]
  },
  {
   "cell_type": "code",
   "execution_count": 19,
   "metadata": {},
   "outputs": [],
   "source": [
    "generate temp = monthly(month, \"YM\")\n",
    "drop month\n",
    "rename temp month\n",
    "label variable month \"Month\""
   ]
  },
  {
   "cell_type": "markdown",
   "metadata": {},
   "source": [
    "Above, we first generate a new variable with the `generate` or `gen` command. Then we delete the old variable with the `drop` command and rename the variable *temp* back to *month* with the `rename` command.\n",
    "\n",
    "Finally, we give the new month variable it’s old label."
   ]
  },
  {
   "cell_type": "code",
   "execution_count": 20,
   "metadata": {},
   "outputs": [
    {
     "name": "stdout",
     "output_type": "stream",
     "text": [
      "\n",
      "              storage   display    value\n",
      "variable name   type    format     label      variable label\n",
      "---------------------------------------------------------------------------------------------------------------------------------------------------------------------------------------------------------------------------------------------------------------\n",
      "commodity       str5    %9s                   Commodity\n",
      "pointfigure     float   %9.0g                 Point figure\n",
      "month           float   %9.0g                 Month\n"
     ]
    }
   ],
   "source": [
    "describe _all"
   ]
  },
  {
   "cell_type": "markdown",
   "metadata": {},
   "source": [
    "We could also do the same with Excel data. This time Statistics Finland gives us a direct link to an Excel file:"
   ]
  },
  {
   "cell_type": "code",
   "execution_count": 21,
   "metadata": {},
   "outputs": [
    {
     "name": "stdout",
     "output_type": "stream",
     "text": [
      "(6 vars, 191 obs)\n"
     ]
    }
   ],
   "source": [
    "import excel using ///\n",
    "https://pxnet2.stat.fi/PXWeb/sq/feec4f38-7ddb-4c9f-b091-a0688c3f7b89 , ///\n",
    "cellrange(A3:F194) firstrow clear"
   ]
  },
  {
   "cell_type": "code",
   "execution_count": 22,
   "metadata": {},
   "outputs": [],
   "source": [
    "keep A B Pointfigure\n",
    "rename A month\n",
    "rename B commodity\n",
    "generate temp = monthly(month, \"YM\")\n",
    "drop month\n",
    "rename temp month\n",
    "label variable month \"Month\""
   ]
  },
  {
   "cell_type": "markdown",
   "metadata": {},
   "source": [
    "Excel files are often quite awkward. Notice how we need to determine the precise cellrange or the data would include some unwanted metadata from the Statistics Finland.\n",
    "\n",
    "Command `keep` is the opposite of `drop`.\n",
    "\n",
    "Finally, to demonstrate the dynamic options of Stata, let’s do a graph:"
   ]
  },
  {
   "cell_type": "markdown",
   "metadata": {},
   "source": [
    "### Simple line graphs in Stata"
   ]
  },
  {
   "cell_type": "code",
   "execution_count": 23,
   "metadata": {},
   "outputs": [
    {
     "data": {
      "application/pdf": "[encoded data removed]",
      "image/svg+xml": [
       "<?xml version=\"1.0\" encoding=\"UTF-8\" standalone=\"no\"?>\n",
       "<!-- This is a Stata 16.1 generated SVG file (http://www.stata.com) -->\n",
       "\n",
       "<svg version=\"1.1\" width=\"600px\" height=\"436px\" viewBox=\"0 0 3960 2880\" xmlns=\"http://www.w3.org/2000/svg\" xmlns:xlink=\"http://www.w3.org/1999/xlink\">\n",
       "\t<desc>Stata Graph - Graph</desc>\n",
       "\t<rect x=\"0\" y=\"0\" width=\"3960\" height=\"2880\" style=\"fill:#FFFFFF;stroke:none\"/>\n",
       "\t<rect x=\"0.00\" y=\"0.00\" width=\"3959.88\" height=\"2880.00\" style=\"fill:#FFFFFF\"/>\n",
       "\t<rect x=\"2.88\" y=\"2.88\" width=\"3954.12\" height=\"2874.24\" style=\"fill:none;stroke:#FFFFFF;stroke-width:5.76\"/>\n",
       "\t<rect x=\"393.68\" y=\"103.74\" width=\"3462.46\" height=\"2382.57\" style=\"fill:none;stroke:#000000;stroke-width:5.76\"/>\n",
       "\t<path d=\" M454.04 2425.95 L470.00 2364.81 L485.84 2338.58 L501.81 2329.91 L517.77 2354.29 L533.61 2344.76 L549.57 2382.26 L565.41 2349.96 L581.38 2302.81 L597.34 2309.87 L613.18 2330.78 L629.14 2329.05 L644.99 2356.89 L660.95 2287.10 L676.79 2260.12 L692.75 2213.83 L708.72 2203.31 L724.56 2194.65 L740.52 2218.16 L756.36 2184.13 L772.32 2171.88 L788.29 2148.37 L804.13 2143.91 L820.09 2134.38 L835.93 2152.70 L851.89 2096.89 L867.74 2028.70 L883.70 1985.14 L899.66 1994.66 L915.50 1981.55 L931.47 1991.20 L947.31 1978.08 L963.27 1937.12 L979.23 1909.15 L995.07 1888.24 L1011.04 1903.95 L1026.88 1809.65 L1042.84 1762.50 L1058.81 1679.59 L1074.64 1665.60 L1090.61 1615.85 L1106.45 1581.82 L1122.41 1595.81 L1138.25 1553.85 L1154.22 1506.70 L1170.18 1508.44 L1186.02 1556.45 L1201.98 1585.29 L1217.82 1608.06 L1233.79 1600.14 L1249.75 1593.21 L1265.59 1594.94 L1281.56 1612.39 L1297.39 1589.62 L1313.36 1650.75 L1329.20 1621.05 L1345.16 1604.47 L1361.13 1655.08 L1376.97 1645.56 L1392.93 1636.77 L1408.77 1625.51 L1424.73 1588.75 L1440.70 1539.87 L1456.54 1513.76 L1472.50 1522.42 L1488.34 1502.37 L1504.31 1551.25 L1520.14 1511.16 L1536.11 1470.94 L1552.07 1434.31 L1567.91 1410.67 L1583.88 1362.65 L1599.72 1326.89 L1615.68 1268.48 L1631.64 1215.14 L1647.48 1195.09 L1663.45 1189.89 L1679.29 1161.93 L1695.25 1189.89 L1711.09 1150.54 L1727.06 1109.58 L1743.02 1085.07 L1758.86 1078.14 L1774.82 1081.61 L1790.66 1017.88 L1806.63 962.93 L1822.59 923.70 L1838.43 888.68 L1854.39 887.81 L1870.23 880.88 L1886.20 900.06 L1902.04 880.88 L1918.00 840.66 L1933.96 825.93 L1949.81 859.10 L1965.77 845.98 L1981.61 853.78 L1997.57 793.63 L2013.54 747.35 L2029.38 731.63 L2045.34 729.90 L2061.18 735.96 L2077.14 738.56 L2092.98 754.28 L2108.95 718.51 L2124.91 703.66 L2140.75 719.38 L2156.72 681.02 L2172.55 687.95 L2188.52 661.84 L2204.48 637.33 L2220.32 622.48 L2236.29 647.85 L2252.13 640.80 L2268.09 652.18 L2283.93 636.47 L2299.89 579.66 L2315.86 598.97 L2331.70 618.15 L2347.66 632.13 L2363.50 703.66 L2379.47 677.43 L2395.43 643.40 L2411.27 644.26 L2427.23 652.18 L2443.07 652.18 L2459.04 675.70 L2475.00 656.51 L2490.84 642.53 L2506.80 625.95 L2522.64 643.40 L2538.61 656.51 L2554.45 701.07 L2570.41 687.08 L2586.38 647.85 L2602.22 616.42 L2618.18 620.75 L2634.02 614.69 L2649.98 622.48 L2665.95 617.28 L2681.79 599.83 L2697.75 577.06 L2713.59 575.33 L2729.55 549.22 L2745.39 612.95 L2761.36 560.48 L2777.32 560.48 L2793.16 528.18 L2809.13 544.76 L2824.97 536.97 L2840.93 566.67 L2856.89 540.43 L2872.73 518.65 L2888.70 520.39 L2904.54 494.15 L2920.50 498.60 L2936.34 529.91 L2952.30 496.75 L2968.27 475.83 L2984.11 448.73 L3000.07 437.47 L3015.91 414.70 L3031.88 423.49 L3047.84 406.90 L3063.68 385.12 L3079.64 358.89 L3095.48 361.49 L3111.45 373.74 L3127.29 414.70 L3143.25 364.08 L3159.21 357.15 L3175.05 294.29 L3191.02 312.60 L3206.86 305.67 L3222.82 335.25 L3238.78 290.82 L3254.63 287.36 L3270.59 277.70 L3286.43 289.09 L3302.39 275.10 L3318.23 309.14 L3334.20 273.37 L3350.16 291.69 L3366.00 328.32 L3381.96 330.92 L3397.80 310.00 L3413.77 271.64 L3429.73 268.92 L3445.57 269.78 L3461.53 258.52 L3477.38 266.32\" stroke-linejoin=\"round\" style=\"fill:none;stroke:#606060;stroke-width:8.64\"/>\n",
       "\t<line x1=\"390.80\" y1=\"2489.19\" x2=\"390.80\" y2=\"100.86\" style=\"stroke:#000000;stroke-width:5.76\"/>\n",
       "\t<line x1=\"390.80\" y1=\"2346.37\" x2=\"350.83\" y2=\"2346.37\" style=\"stroke:#000000;stroke-width:5.76\"/>\n",
       "\t<text x=\"300.72\" y=\"2346.37\" style=\"font-family:'Helvetica';font-size:99.99px;fill:#000000\" transform=\"rotate(-90 300.72,2346.37)\" text-anchor=\"middle\">100</text>\n",
       "\t<line x1=\"390.80\" y1=\"1910.02\" x2=\"350.83\" y2=\"1910.02\" style=\"stroke:#000000;stroke-width:5.76\"/>\n",
       "\t<text x=\"300.72\" y=\"1910.02\" style=\"font-family:'Helvetica';font-size:99.99px;fill:#000000\" transform=\"rotate(-90 300.72,1910.02)\" text-anchor=\"middle\">105</text>\n",
       "\t<line x1=\"390.80\" y1=\"1473.54\" x2=\"350.83\" y2=\"1473.54\" style=\"stroke:#000000;stroke-width:5.76\"/>\n",
       "\t<text x=\"300.72\" y=\"1473.54\" style=\"font-family:'Helvetica';font-size:99.99px;fill:#000000\" transform=\"rotate(-90 300.72,1473.54)\" text-anchor=\"middle\">110</text>\n",
       "\t<line x1=\"390.80\" y1=\"1037.06\" x2=\"350.83\" y2=\"1037.06\" style=\"stroke:#000000;stroke-width:5.76\"/>\n",
       "\t<text x=\"300.72\" y=\"1037.06\" style=\"font-family:'Helvetica';font-size:99.99px;fill:#000000\" transform=\"rotate(-90 300.72,1037.06)\" text-anchor=\"middle\">115</text>\n",
       "\t<line x1=\"390.80\" y1=\"600.58\" x2=\"350.83\" y2=\"600.58\" style=\"stroke:#000000;stroke-width:5.76\"/>\n",
       "\t<text x=\"300.72\" y=\"600.58\" style=\"font-family:'Helvetica';font-size:99.99px;fill:#000000\" transform=\"rotate(-90 300.72,600.58)\" text-anchor=\"middle\">120</text>\n",
       "\t<line x1=\"390.80\" y1=\"164.22\" x2=\"350.83\" y2=\"164.22\" style=\"stroke:#000000;stroke-width:5.76\"/>\n",
       "\t<text x=\"300.72\" y=\"164.22\" style=\"font-family:'Helvetica';font-size:99.99px;fill:#000000\" transform=\"rotate(-90 300.72,164.22)\" text-anchor=\"middle\">125</text>\n",
       "\t<text x=\"190.71\" y=\"1294.96\" style=\"font-family:'Helvetica';font-size:99.99px;fill:#000000\" transform=\"rotate(-90 190.71,1294.96)\" text-anchor=\"middle\">Point figure</text>\n",
       "\t<line x1=\"390.80\" y1=\"2489.19\" x2=\"3859.02\" y2=\"2489.19\" style=\"stroke:#000000;stroke-width:5.76\"/>\n",
       "\t<line x1=\"613.30\" y1=\"2489.19\" x2=\"613.30\" y2=\"2529.16\" style=\"stroke:#000000;stroke-width:5.76\"/>\n",
       "\t<text x=\"613.30\" y=\"2619.14\" style=\"font-family:'Helvetica';font-size:99.99px;fill:#000000\" text-anchor=\"middle\">550</text>\n",
       "\t<line x1=\"1408.89\" y1=\"2489.19\" x2=\"1408.89\" y2=\"2529.16\" style=\"stroke:#000000;stroke-width:5.76\"/>\n",
       "\t<text x=\"1408.89\" y=\"2619.14\" style=\"font-family:'Helvetica';font-size:99.99px;fill:#000000\" text-anchor=\"middle\">600</text>\n",
       "\t<line x1=\"2204.48\" y1=\"2489.19\" x2=\"2204.48\" y2=\"2529.16\" style=\"stroke:#000000;stroke-width:5.76\"/>\n",
       "\t<text x=\"2204.48\" y=\"2619.14\" style=\"font-family:'Helvetica';font-size:99.99px;fill:#000000\" text-anchor=\"middle\">650</text>\n",
       "\t<line x1=\"3000.07\" y1=\"2489.19\" x2=\"3000.07\" y2=\"2529.16\" style=\"stroke:#000000;stroke-width:5.76\"/>\n",
       "\t<text x=\"3000.07\" y=\"2619.14\" style=\"font-family:'Helvetica';font-size:99.99px;fill:#000000\" text-anchor=\"middle\">700</text>\n",
       "\t<line x1=\"3795.66\" y1=\"2489.19\" x2=\"3795.66\" y2=\"2529.16\" style=\"stroke:#000000;stroke-width:5.76\"/>\n",
       "\t<text x=\"3795.66\" y=\"2619.14\" style=\"font-family:'Helvetica';font-size:99.99px;fill:#000000\" text-anchor=\"middle\">750</text>\n",
       "\t<text x=\"2124.91\" y=\"2729.16\" style=\"font-family:'Helvetica';font-size:99.99px;fill:#000000\" text-anchor=\"middle\">Month</text>\n",
       "</svg>\n"
      ],
      "text/html": [
       "                <iframe frameborder=\"0\" scrolling=\"no\" height=\"436\" width=\"600\"                srcdoc=\"<html><body>&lt;?xml version=&quot;1.0&quot; encoding=&quot;UTF-8&quot; standalone=&quot;no&quot;?&gt;\n",
       "&lt;!-- This is a Stata 16.1 generated SVG file (http://www.stata.com) --&gt;\n",
       "\n",
       "&lt;svg version=&quot;1.1&quot; width=&quot;600px&quot; height=&quot;436px&quot; viewBox=&quot;0 0 3960 2880&quot; xmlns=&quot;http://www.w3.org/2000/svg&quot; xmlns:xlink=&quot;http://www.w3.org/1999/xlink&quot;&gt;\n",
       "\t&lt;desc&gt;Stata Graph - Graph&lt;/desc&gt;\n",
       "\t&lt;rect x=&quot;0&quot; y=&quot;0&quot; width=&quot;3960&quot; height=&quot;2880&quot; style=&quot;fill:#FFFFFF;stroke:none&quot;/&gt;\n",
       "\t&lt;rect x=&quot;0.00&quot; y=&quot;0.00&quot; width=&quot;3959.88&quot; height=&quot;2880.00&quot; style=&quot;fill:#FFFFFF&quot;/&gt;\n",
       "\t&lt;rect x=&quot;2.88&quot; y=&quot;2.88&quot; width=&quot;3954.12&quot; height=&quot;2874.24&quot; style=&quot;fill:none;stroke:#FFFFFF;stroke-width:5.76&quot;/&gt;\n",
       "\t&lt;rect x=&quot;393.68&quot; y=&quot;103.74&quot; width=&quot;3462.46&quot; height=&quot;2382.57&quot; style=&quot;fill:none;stroke:#000000;stroke-width:5.76&quot;/&gt;\n",
       "\t&lt;path d=&quot; M454.04 2425.95 L470.00 2364.81 L485.84 2338.58 L501.81 2329.91 L517.77 2354.29 L533.61 2344.76 L549.57 2382.26 L565.41 2349.96 L581.38 2302.81 L597.34 2309.87 L613.18 2330.78 L629.14 2329.05 L644.99 2356.89 L660.95 2287.10 L676.79 2260.12 L692.75 2213.83 L708.72 2203.31 L724.56 2194.65 L740.52 2218.16 L756.36 2184.13 L772.32 2171.88 L788.29 2148.37 L804.13 2143.91 L820.09 2134.38 L835.93 2152.70 L851.89 2096.89 L867.74 2028.70 L883.70 1985.14 L899.66 1994.66 L915.50 1981.55 L931.47 1991.20 L947.31 1978.08 L963.27 1937.12 L979.23 1909.15 L995.07 1888.24 L1011.04 1903.95 L1026.88 1809.65 L1042.84 1762.50 L1058.81 1679.59 L1074.64 1665.60 L1090.61 1615.85 L1106.45 1581.82 L1122.41 1595.81 L1138.25 1553.85 L1154.22 1506.70 L1170.18 1508.44 L1186.02 1556.45 L1201.98 1585.29 L1217.82 1608.06 L1233.79 1600.14 L1249.75 1593.21 L1265.59 1594.94 L1281.56 1612.39 L1297.39 1589.62 L1313.36 1650.75 L1329.20 1621.05 L1345.16 1604.47 L1361.13 1655.08 L1376.97 1645.56 L1392.93 1636.77 L1408.77 1625.51 L1424.73 1588.75 L1440.70 1539.87 L1456.54 1513.76 L1472.50 1522.42 L1488.34 1502.37 L1504.31 1551.25 L1520.14 1511.16 L1536.11 1470.94 L1552.07 1434.31 L1567.91 1410.67 L1583.88 1362.65 L1599.72 1326.89 L1615.68 1268.48 L1631.64 1215.14 L1647.48 1195.09 L1663.45 1189.89 L1679.29 1161.93 L1695.25 1189.89 L1711.09 1150.54 L1727.06 1109.58 L1743.02 1085.07 L1758.86 1078.14 L1774.82 1081.61 L1790.66 1017.88 L1806.63 962.93 L1822.59 923.70 L1838.43 888.68 L1854.39 887.81 L1870.23 880.88 L1886.20 900.06 L1902.04 880.88 L1918.00 840.66 L1933.96 825.93 L1949.81 859.10 L1965.77 845.98 L1981.61 853.78 L1997.57 793.63 L2013.54 747.35 L2029.38 731.63 L2045.34 729.90 L2061.18 735.96 L2077.14 738.56 L2092.98 754.28 L2108.95 718.51 L2124.91 703.66 L2140.75 719.38 L2156.72 681.02 L2172.55 687.95 L2188.52 661.84 L2204.48 637.33 L2220.32 622.48 L2236.29 647.85 L2252.13 640.80 L2268.09 652.18 L2283.93 636.47 L2299.89 579.66 L2315.86 598.97 L2331.70 618.15 L2347.66 632.13 L2363.50 703.66 L2379.47 677.43 L2395.43 643.40 L2411.27 644.26 L2427.23 652.18 L2443.07 652.18 L2459.04 675.70 L2475.00 656.51 L2490.84 642.53 L2506.80 625.95 L2522.64 643.40 L2538.61 656.51 L2554.45 701.07 L2570.41 687.08 L2586.38 647.85 L2602.22 616.42 L2618.18 620.75 L2634.02 614.69 L2649.98 622.48 L2665.95 617.28 L2681.79 599.83 L2697.75 577.06 L2713.59 575.33 L2729.55 549.22 L2745.39 612.95 L2761.36 560.48 L2777.32 560.48 L2793.16 528.18 L2809.13 544.76 L2824.97 536.97 L2840.93 566.67 L2856.89 540.43 L2872.73 518.65 L2888.70 520.39 L2904.54 494.15 L2920.50 498.60 L2936.34 529.91 L2952.30 496.75 L2968.27 475.83 L2984.11 448.73 L3000.07 437.47 L3015.91 414.70 L3031.88 423.49 L3047.84 406.90 L3063.68 385.12 L3079.64 358.89 L3095.48 361.49 L3111.45 373.74 L3127.29 414.70 L3143.25 364.08 L3159.21 357.15 L3175.05 294.29 L3191.02 312.60 L3206.86 305.67 L3222.82 335.25 L3238.78 290.82 L3254.63 287.36 L3270.59 277.70 L3286.43 289.09 L3302.39 275.10 L3318.23 309.14 L3334.20 273.37 L3350.16 291.69 L3366.00 328.32 L3381.96 330.92 L3397.80 310.00 L3413.77 271.64 L3429.73 268.92 L3445.57 269.78 L3461.53 258.52 L3477.38 266.32&quot; stroke-linejoin=&quot;round&quot; style=&quot;fill:none;stroke:#606060;stroke-width:8.64&quot;/&gt;\n",
       "\t&lt;line x1=&quot;390.80&quot; y1=&quot;2489.19&quot; x2=&quot;390.80&quot; y2=&quot;100.86&quot; style=&quot;stroke:#000000;stroke-width:5.76&quot;/&gt;\n",
       "\t&lt;line x1=&quot;390.80&quot; y1=&quot;2346.37&quot; x2=&quot;350.83&quot; y2=&quot;2346.37&quot; style=&quot;stroke:#000000;stroke-width:5.76&quot;/&gt;\n",
       "\t&lt;text x=&quot;300.72&quot; y=&quot;2346.37&quot; style=&quot;font-family:&#x27;Helvetica&#x27;;font-size:99.99px;fill:#000000&quot; transform=&quot;rotate(-90 300.72,2346.37)&quot; text-anchor=&quot;middle&quot;&gt;100&lt;/text&gt;\n",
       "\t&lt;line x1=&quot;390.80&quot; y1=&quot;1910.02&quot; x2=&quot;350.83&quot; y2=&quot;1910.02&quot; style=&quot;stroke:#000000;stroke-width:5.76&quot;/&gt;\n",
       "\t&lt;text x=&quot;300.72&quot; y=&quot;1910.02&quot; style=&quot;font-family:&#x27;Helvetica&#x27;;font-size:99.99px;fill:#000000&quot; transform=&quot;rotate(-90 300.72,1910.02)&quot; text-anchor=&quot;middle&quot;&gt;105&lt;/text&gt;\n",
       "\t&lt;line x1=&quot;390.80&quot; y1=&quot;1473.54&quot; x2=&quot;350.83&quot; y2=&quot;1473.54&quot; style=&quot;stroke:#000000;stroke-width:5.76&quot;/&gt;\n",
       "\t&lt;text x=&quot;300.72&quot; y=&quot;1473.54&quot; style=&quot;font-family:&#x27;Helvetica&#x27;;font-size:99.99px;fill:#000000&quot; transform=&quot;rotate(-90 300.72,1473.54)&quot; text-anchor=&quot;middle&quot;&gt;110&lt;/text&gt;\n",
       "\t&lt;line x1=&quot;390.80&quot; y1=&quot;1037.06&quot; x2=&quot;350.83&quot; y2=&quot;1037.06&quot; style=&quot;stroke:#000000;stroke-width:5.76&quot;/&gt;\n",
       "\t&lt;text x=&quot;300.72&quot; y=&quot;1037.06&quot; style=&quot;font-family:&#x27;Helvetica&#x27;;font-size:99.99px;fill:#000000&quot; transform=&quot;rotate(-90 300.72,1037.06)&quot; text-anchor=&quot;middle&quot;&gt;115&lt;/text&gt;\n",
       "\t&lt;line x1=&quot;390.80&quot; y1=&quot;600.58&quot; x2=&quot;350.83&quot; y2=&quot;600.58&quot; style=&quot;stroke:#000000;stroke-width:5.76&quot;/&gt;\n",
       "\t&lt;text x=&quot;300.72&quot; y=&quot;600.58&quot; style=&quot;font-family:&#x27;Helvetica&#x27;;font-size:99.99px;fill:#000000&quot; transform=&quot;rotate(-90 300.72,600.58)&quot; text-anchor=&quot;middle&quot;&gt;120&lt;/text&gt;\n",
       "\t&lt;line x1=&quot;390.80&quot; y1=&quot;164.22&quot; x2=&quot;350.83&quot; y2=&quot;164.22&quot; style=&quot;stroke:#000000;stroke-width:5.76&quot;/&gt;\n",
       "\t&lt;text x=&quot;300.72&quot; y=&quot;164.22&quot; style=&quot;font-family:&#x27;Helvetica&#x27;;font-size:99.99px;fill:#000000&quot; transform=&quot;rotate(-90 300.72,164.22)&quot; text-anchor=&quot;middle&quot;&gt;125&lt;/text&gt;\n",
       "\t&lt;text x=&quot;190.71&quot; y=&quot;1294.96&quot; style=&quot;font-family:&#x27;Helvetica&#x27;;font-size:99.99px;fill:#000000&quot; transform=&quot;rotate(-90 190.71,1294.96)&quot; text-anchor=&quot;middle&quot;&gt;Point figure&lt;/text&gt;\n",
       "\t&lt;line x1=&quot;390.80&quot; y1=&quot;2489.19&quot; x2=&quot;3859.02&quot; y2=&quot;2489.19&quot; style=&quot;stroke:#000000;stroke-width:5.76&quot;/&gt;\n",
       "\t&lt;line x1=&quot;613.30&quot; y1=&quot;2489.19&quot; x2=&quot;613.30&quot; y2=&quot;2529.16&quot; style=&quot;stroke:#000000;stroke-width:5.76&quot;/&gt;\n",
       "\t&lt;text x=&quot;613.30&quot; y=&quot;2619.14&quot; style=&quot;font-family:&#x27;Helvetica&#x27;;font-size:99.99px;fill:#000000&quot; text-anchor=&quot;middle&quot;&gt;550&lt;/text&gt;\n",
       "\t&lt;line x1=&quot;1408.89&quot; y1=&quot;2489.19&quot; x2=&quot;1408.89&quot; y2=&quot;2529.16&quot; style=&quot;stroke:#000000;stroke-width:5.76&quot;/&gt;\n",
       "\t&lt;text x=&quot;1408.89&quot; y=&quot;2619.14&quot; style=&quot;font-family:&#x27;Helvetica&#x27;;font-size:99.99px;fill:#000000&quot; text-anchor=&quot;middle&quot;&gt;600&lt;/text&gt;\n",
       "\t&lt;line x1=&quot;2204.48&quot; y1=&quot;2489.19&quot; x2=&quot;2204.48&quot; y2=&quot;2529.16&quot; style=&quot;stroke:#000000;stroke-width:5.76&quot;/&gt;\n",
       "\t&lt;text x=&quot;2204.48&quot; y=&quot;2619.14&quot; style=&quot;font-family:&#x27;Helvetica&#x27;;font-size:99.99px;fill:#000000&quot; text-anchor=&quot;middle&quot;&gt;650&lt;/text&gt;\n",
       "\t&lt;line x1=&quot;3000.07&quot; y1=&quot;2489.19&quot; x2=&quot;3000.07&quot; y2=&quot;2529.16&quot; style=&quot;stroke:#000000;stroke-width:5.76&quot;/&gt;\n",
       "\t&lt;text x=&quot;3000.07&quot; y=&quot;2619.14&quot; style=&quot;font-family:&#x27;Helvetica&#x27;;font-size:99.99px;fill:#000000&quot; text-anchor=&quot;middle&quot;&gt;700&lt;/text&gt;\n",
       "\t&lt;line x1=&quot;3795.66&quot; y1=&quot;2489.19&quot; x2=&quot;3795.66&quot; y2=&quot;2529.16&quot; style=&quot;stroke:#000000;stroke-width:5.76&quot;/&gt;\n",
       "\t&lt;text x=&quot;3795.66&quot; y=&quot;2619.14&quot; style=&quot;font-family:&#x27;Helvetica&#x27;;font-size:99.99px;fill:#000000&quot; text-anchor=&quot;middle&quot;&gt;750&lt;/text&gt;\n",
       "\t&lt;text x=&quot;2124.91&quot; y=&quot;2729.16&quot; style=&quot;font-family:&#x27;Helvetica&#x27;;font-size:99.99px;fill:#000000&quot; text-anchor=&quot;middle&quot;&gt;Month&lt;/text&gt;\n",
       "&lt;/svg&gt;\n",
       "</body></html>\"></iframe>\n"
      ],
      "text/plain": [
       "This front-end cannot display the desired image type."
      ]
     },
     "metadata": {
      "image/svg+xml": {
       "height": 436,
       "width": 600
      },
      "text/html": {
       "height": 436,
       "width": 600
      }
     },
     "output_type": "display_data"
    }
   ],
   "source": [
    "set scheme s1mono // just a style for our graph\n",
    "line Pointfigure month"
   ]
  }
 ],
 "metadata": {
  "kernelspec": {
   "display_name": "Stata",
   "language": "stata",
   "name": "stata"
  },
  "language_info": {
   "codemirror_mode": "stata",
   "file_extension": ".do",
   "mimetype": "text/x-stata",
   "name": "stata",
   "version": "15.1"
  }
 },
 "nbformat": 4,
 "nbformat_minor": 4
}

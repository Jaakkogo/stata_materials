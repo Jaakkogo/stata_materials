{
 "cells": [
  {
   "cell_type": "markdown",
   "metadata": {},
   "source": [
    "## Importing data\n",
    "### Excel data\n",
    "\n",
    "Excel data is imported with the `import excel` command. The command is is then followed with the path or the webaddress to the data.\n",
    "\n",
    "The options for the command are separated with `,`. The most important options here are `sheet`, `firstrow` and `cellrange` which determine the sheet where the data is located, whether the variable names are located in the first row and the cell ranges for the data. Stata by default assumes that the data is located in the first sheet and looks for active cells in data.\n",
    "\n",
    "In this example we download the [Swedish pharmaceutical data](https://www.tlv.se/beslut/sok-i-databasen.html) directly to Stata with follwing command:"
   ]
  },
  {
   "cell_type": "code",
   "execution_count": 1,
   "metadata": {},
   "outputs": [],
   "source": [
    "import excel using \"https://www.tlv.se/file/medprice\", firstrow clear // variable names in first row"
   ]
  },
  {
   "cell_type": "markdown",
   "metadata": {},
   "source": [
    "Let's see what the metadata tells us. Use the `describe` command:"
   ]
  },
  {
   "cell_type": "code",
   "execution_count": 2,
   "metadata": {},
   "outputs": [
    {
     "name": "stdout",
     "output_type": "stream",
     "text": [
      "\n",
      "              storage   display    value\n",
      "variable name   type    format     label      variable label\n",
      "---------------------------------------------------------------------------------------------------------------------------------------------------------------------------------------------------------------------------------------------------------------\n",
      "Produktnamn     str50   %50s                  Produktnamn\n",
      "Varunummer      str6    %9s                   Varunummer\n",
      "ATCkod          str16   %16s                  ATC-kod\n",
      "NPLid           str14   %14s                  NPL id\n",
      "NPLpackid       str14   %14s                  NPL pack-id\n",
      "Form            str86   %86s                  Form\n",
      "Styrka          str43   %43s                  Styrka\n",
      "Förpackning     str142  %142s                 Förpackning\n",
      "Antal           str9    %9s                   Antal\n",
      "Företag         str49   %49s                  Företag\n",
      "AIP             str9    %9s                   AIP\n",
      "AUP             str9    %9s                   AUP\n",
      "AIPperst        str9    %9s                   AIP per st\n",
      "AUPperst        str9    %9s                   AUP per st\n",
      "Subventionerad  str2    %9s                   Subventionerad\n"
     ]
    }
   ],
   "source": [
    "describe _all"
   ]
  },
  {
   "cell_type": "markdown",
   "metadata": {},
   "source": [
    "We can also look at the observations in memory wiht the `list` command:"
   ]
  },
  {
   "cell_type": "code",
   "execution_count": 3,
   "metadata": {},
   "outputs": [
    {
     "name": "stdout",
     "output_type": "stream",
     "text": [
      "\n",
      "       +-----------------------------------------------------------------------------------+\n",
      "       |                        Produktnamn                              Företag       AIP |\n",
      "       |-----------------------------------------------------------------------------------|\n",
      "    1. |           Abacavir/Lamivudin Mylan                             Mylan AB    447,93 |\n",
      "    2. |         Abacavir/Lamivudine Accord                 Accord Healthcare AB   1199,00 |\n",
      "    3. |       Abacavir/Lamivudine Glenmark   Glenmark Pharmaceuticals Nordic AB    230,09 |\n",
      "    4. | Abacavir/Lamivudine Medical Valley             Medical Valley Invest AB   1400,00 |\n",
      "    5. |         Abacavir/Lamivudine Sandoz                           Sandoz A/S    235,03 |\n",
      "       |-----------------------------------------------------------------------------------|\n",
      "    6. |          Abacavir/Lamivudine STADA                     STADA Nordic ApS    221,00 |\n",
      "    7. |           Abacavir/Lamivudine Teva                       Teva Sweden AB    274,07 |\n",
      "    8. |             Abakavir/Lamivudin Ebb                       Ebb Medical AB   4232,00 |\n",
      "    9. |                          ABASAGLAR                           Orifarm AB    421,00 |\n",
      "   10. |                          ABASAGLAR                        Pharmachim AB    421,00 |\n",
      "       +-----------------------------------------------------------------------------------+\n"
     ]
    }
   ],
   "source": [
    "list Produktnamn Företag AIP if _n < 11"
   ]
  },
  {
   "cell_type": "markdown",
   "metadata": {},
   "source": [
    "Above, we tell the `list` command to print the variables `Produktnamn`, `Företag` and `AIP` if the observation/row number is less than 21. That is, we ask Stata to print the first 20 values of these variables based on the current sort order. If you want to view the data \"like in Excel\", you can type `browse` or `br` to the command line."
   ]
  },
  {
   "cell_type": "markdown",
   "metadata": {},
   "source": [
    "Having downloaded our data, we can save it on disk. But first, we may want to keep all of our data files within its own folder. We can tell Stata directly to make a new folder (directory) with the `shell` and `mkdir` commands. `Shell` is the common name for the command line of your operating system and `mkdir` is short for *make directory*.\n",
    "\n",
    "The actual file save is done with the `save` command. It's only argument is the path/name of the file relative to the working directory. The data files in Stata have the `.dta` file extension and we can include it also in the argument. Had we not done that, Stata would have understood it anycase. Finally, we include the `replace` option so that Stata can owerwrite if there already exists a file with the same and path.\n",
    "\n",
    "Notice: the `save` is meant for only `dta` files. If we wanted to save the data in another format, we would neeed to use the `export` command(s)."
   ]
  },
  {
   "cell_type": "code",
   "execution_count": 4,
   "metadata": {},
   "outputs": [
    {
     "name": "stdout",
     "output_type": "stream",
     "text": [
      "\n",
      "Z:\\ECON-C4100\n",
      "\n",
      "\n",
      "file data/sweden_prices.dta saved\n"
     ]
    }
   ],
   "source": [
    "cd \"Z:/ECON-C4100\" // change working directory\n",
    "shell mkdir data // make a new directory for the data\n",
    "save data/sweden_prices.dta, replace // save the data"
   ]
  },
  {
   "cell_type": "markdown",
   "metadata": {},
   "source": [
    "Now, having saved the data we can import some text delimited data! Let's clear our memory first."
   ]
  },
  {
   "cell_type": "code",
   "execution_count": 5,
   "metadata": {},
   "outputs": [],
   "source": [
    "clear all"
   ]
  },
  {
   "cell_type": "code",
   "execution_count": 6,
   "metadata": {},
   "outputs": [
    {
     "name": "stdout",
     "output_type": "stream",
     "text": [
      "\n",
      "Contains data\n",
      "  obs:             0                          \n",
      " vars:             0                          \n",
      " size:             0                          \n",
      "Sorted by: \n"
     ]
    }
   ],
   "source": [
    "describe"
   ]
  },
  {
   "cell_type": "markdown",
   "metadata": {},
   "source": [
    "### Text delimited data"
   ]
  },
  {
   "cell_type": "markdown",
   "metadata": {},
   "source": [
    "Next, we will import the Finnish pharmaceutical data and modify it so it's ready for your homework exercises. Before doing this yourself, do the following steps:\n",
    "\n",
    "1. Make a new folder in your ECON-C4100 folder and name it `rawdata`\n",
    "2. Download the Finnish pharmaceutical data from MyCourses and place it to `ECON-C4100/rawdata`."
   ]
  },
  {
   "cell_type": "code",
   "execution_count": 7,
   "metadata": {},
   "outputs": [],
   "source": [
    "shell mkdir rawdata // make new directory\n",
    "shell copy \"%USERPROFILE%\\Downloads\\SALVIA.txt\" \"Z:/ECON-C4100/rawdata\" // copy file to the new directory"
   ]
  },
  {
   "cell_type": "markdown",
   "metadata": {},
   "source": [
    "Before importing the data, let's take a look at it in Notepad.\n",
    "\n",
    "![](figures/salvia_window.jpg)\n",
    "\n",
    "The data clearly is \"\\t\" or tab delimited. Notice also that there are no variable names! Don't worry though, the data comes with a data description which tells us which columns are which. More on that later.\n",
    "\n",
    "The cell in the data has a file identifier attached to it. For general good practice and debugging reasons, we want to keep that. We will next read the data into memory \"as it is\". We do this with the `import delimited` command. The most important option is `delimiters` which tells Stata which delmiter the data is coded with."
   ]
  },
  {
   "cell_type": "code",
   "execution_count": 8,
   "metadata": {},
   "outputs": [
    {
     "name": "stdout",
     "output_type": "stream",
     "text": [
      "\n",
      "(42 vars, 11,085 obs)\n",
      "\n",
      "\n",
      "Contains data\n",
      "  obs:        11,085                          \n",
      " vars:            42                          \n",
      " size:     7,803,840                          \n",
      "---------------------------------------------------------------------------------------------------------------------------------------------------------------------------------------------------------------------------------------------------------------\n",
      "              storage   display    value\n",
      "variable name   type    format     label      variable label\n",
      "---------------------------------------------------------------------------------------------------------------------------------------------------------------------------------------------------------------------------------------------------------------\n",
      "v1              str29   %29s                  \n",
      "v2              str7    %9s                   \n",
      "v3              str1    %9s                   \n",
      "v4              str5    %9s                   \n",
      "v5              str3    %9s                   \n",
      "v6              str2    %9s                   \n",
      "v7              str9    %9s                   \n",
      "v8              str9    %9s                   \n",
      "v9              str9    %9s                   \n",
      "v10             str2    %9s                   \n",
      "v11             str1    %9s                   \n",
      "v12             str43   %43s                  \n",
      "v13             str39   %39s                  \n",
      "v14             str64   %64s                  \n",
      "v15             str7    %9s                   \n",
      "v16             str16   %16s                  \n",
      "v17             str67   %67s                  \n",
      "v18             str8    %9s                   \n",
      "v19             str13   %13s                  \n",
      "v20             str1    %9s                   \n",
      "v21             str7    %9s                   \n",
      "v22             str1    %9s                   \n",
      "v23             str7    %9s                   \n",
      "v24             str1    %9s                   \n",
      "v25             str3    %9s                   \n",
      "v26             str1    %9s                   \n",
      "v27             str84   %84s                  \n",
      "v28             str85   %85s                  \n",
      "v29             str7    %9s                   \n",
      "v30             str9    %9s                   \n",
      "v31             str6    %9s                   \n",
      "v32             str3    %9s                   \n",
      "v33             str10   %10s                  \n",
      "v34             str1    %9s                   \n",
      "v35             str3    %9s                   \n",
      "v36             str7    %9s                   \n",
      "v37             str99   %99s                  \n",
      "v38             str7    %9s                   \n",
      "v39             str10   %10s                  \n",
      "v40             str10   %10s                  \n",
      "v41             str1    %9s                   \n",
      "v42             str7    %9s                   \n",
      "---------------------------------------------------------------------------------------------------------------------------------------------------------------------------------------------------------------------------------------------------------------\n",
      "Sorted by: \n",
      "     Note: Dataset has changed since last saved.\n"
     ]
    }
   ],
   "source": [
    "import delimited using \"rawdata/SALVIA.txt\", delimiter(tab) varnames(nonames) encoding(UTF-16) stringcols(_all) clear\n",
    "describe"
   ]
  },
  {
   "cell_type": "markdown",
   "metadata": {},
   "source": [
    "Let's see what the first cell looks like:"
   ]
  },
  {
   "cell_type": "code",
   "execution_count": 9,
   "metadata": {},
   "outputs": [
    {
     "name": "stdout",
     "output_type": "stream",
     "text": [
      "\n",
      "       +-------------------------------+\n",
      "       |                            v1 |\n",
      "       |-------------------------------|\n",
      "    1. | TAXA: 01/21 PVM: 01.01.2021   |\n",
      "       +-------------------------------+\n"
     ]
    }
   ],
   "source": [
    "list v1 if _n == 1"
   ]
  },
  {
   "cell_type": "markdown",
   "metadata": {},
   "source": [
    "How could we save this value for every observation?\n",
    "\n",
    "We do this by creating a new variable `stamp` with the `generate` command:"
   ]
  },
  {
   "cell_type": "code",
   "execution_count": 10,
   "metadata": {},
   "outputs": [
    {
     "name": "stdout",
     "output_type": "stream",
     "text": [
      "\n",
      "\n",
      "\n",
      "              storage   display    value\n",
      "variable name   type    format     label      variable label\n",
      "---------------------------------------------------------------------------------------------------------------------------------------------------------------------------------------------------------------------------------------------------------------\n",
      "stamp           str29   %29s                  \n",
      "\n",
      "\n",
      "                        stamp |      Freq.     Percent        Cum.\n",
      "------------------------------+-----------------------------------\n",
      "TAXA: 01/21 PVM: 01.01.2021   |     11,085      100.00      100.00\n",
      "------------------------------+-----------------------------------\n",
      "                        Total |     11,085      100.00\n"
     ]
    }
   ],
   "source": [
    "gen stamp = v1[1] // new variable that takes the first value of variable v1\n",
    "describe stamp\n",
    "tab stamp // list or tabulate all the unique values of stamp"
   ]
  },
  {
   "cell_type": "markdown",
   "metadata": {},
   "source": [
    "Notice that we can refer the Stata variable values with indexes starting from 1.\n",
    "\n",
    "`tabulate` or `tab` is a great command to list all the different values of a variable. We can see that the identifier is now attached to every observation/row. We can count the number of observations in memory with the `count` command:"
   ]
  },
  {
   "cell_type": "code",
   "execution_count": 11,
   "metadata": {},
   "outputs": [
    {
     "name": "stdout",
     "output_type": "stream",
     "text": [
      "  11,085\n"
     ]
    }
   ],
   "source": [
    "count"
   ]
  },
  {
   "cell_type": "markdown",
   "metadata": {},
   "source": [
    "Recall that now the first row is useless for us. We can drop it with the `drop` command. It can be used either to drop observations or entire variables. \n",
    "\n",
    "In this intro, we will next keep only variable number 2 and 12. Do this with either the `keep` or `drop` command:"
   ]
  },
  {
   "cell_type": "code",
   "execution_count": 12,
   "metadata": {},
   "outputs": [
    {
     "name": "stdout",
     "output_type": "stream",
     "text": [
      "\n",
      "(1 observation deleted)\n",
      "\n",
      "\n",
      "\n",
      "       +-----------------------------------------------------------------------------------+\n",
      "       |     v2                                        v12                           stamp |\n",
      "       |-----------------------------------------------------------------------------------|\n",
      "    1. | 693986            3,4-DIAMINOPYRIDINE (ERIT.LUPA)   TAXA: 01/21 PVM: 01.01.2021   |\n",
      "    2. | 695616                 A.T.10 TROPFEN (ERIT.LUPA)   TAXA: 01/21 PVM: 01.01.2021   |\n",
      "    3. | 810689        A.T.10 TROPFEN (MÄÄRÄAIK.ERIT.LUPA)   TAXA: 01/21 PVM: 01.01.2021   |\n",
      "    4. | 695604            A.T.10 WEICHKAPSELN (ERIT.LUPA)   TAXA: 01/21 PVM: 01.01.2021   |\n",
      "    5. | 810688   A.T.10 WEICHKAPSELN (MÄÄRÄAIK.ERIT.LUPA)   TAXA: 01/21 PVM: 01.01.2021   |\n",
      "       |-----------------------------------------------------------------------------------|\n",
      "    6. | 882795                   A12T DENATUROITU ETANOLI   TAXA: 01/21 PVM: 01.01.2021   |\n",
      "    7. | 874206                   A12T DENATUROITU ETANOLI   TAXA: 01/21 PVM: 01.01.2021   |\n",
      "    8. | 874636                   A12T DENATUROITU ETANOLI   TAXA: 01/21 PVM: 01.01.2021   |\n",
      "    9. | 810363                   A12T DENATUROITU ETANOLI   TAXA: 01/21 PVM: 01.01.2021   |\n",
      "   10. | 810203                               A12T DILUTUS   TAXA: 01/21 PVM: 01.01.2021   |\n",
      "       +-----------------------------------------------------------------------------------+\n"
     ]
    }
   ],
   "source": [
    "drop if _n == 1\n",
    "keep stamp v2 v12\n",
    "list if _n < 11"
   ]
  },
  {
   "cell_type": "markdown",
   "metadata": {},
   "source": [
    "Variable `v2` and variable `v12` give the VNR (id) and the name of a pharmaceutical product. You can look their data descriptions from the pdf file found on MyCourses. Next we will rename them and give them new labels in English. We use the `rename` and `label` commands."
   ]
  },
  {
   "cell_type": "code",
   "execution_count": 13,
   "metadata": {},
   "outputs": [],
   "source": [
    "rename v2 vnr // VNR id\n",
    "label variable vnr \"VNR code\"\n",
    "rename v12 product_name // Product name\n",
    "label variable product_name \"Product name\""
   ]
  },
  {
   "cell_type": "markdown",
   "metadata": {},
   "source": [
    "Let's describe what we got and save the data."
   ]
  },
  {
   "cell_type": "code",
   "execution_count": 14,
   "metadata": {},
   "outputs": [
    {
     "name": "stdout",
     "output_type": "stream",
     "text": [
      "\n",
      "\n",
      "              storage   display    value\n",
      "variable name   type    format     label      variable label\n",
      "---------------------------------------------------------------------------------------------------------------------------------------------------------------------------------------------------------------------------------------------------------------\n",
      "vnr             str7    %9s                   VNR code\n",
      "product_name    str43   %43s                  Product name\n",
      "stamp           str29   %29s                  \n",
      "\n",
      "file data/finland_pharmaceuticals.data saved\n"
     ]
    }
   ],
   "source": [
    "describe _all\n",
    "save data/finland_pharmaceuticals.data, replace"
   ]
  },
  {
   "cell_type": "markdown",
   "metadata": {},
   "source": [
    "In the exercises, you will get to rename all the rest of the variables yourself. Now let us get back to the Swedish data."
   ]
  },
  {
   "cell_type": "markdown",
   "metadata": {},
   "source": [
    "### Basic statistical functions with Stata\n",
    "\n",
    "Start by clearing the memory and then `use` the previously saved data:"
   ]
  },
  {
   "cell_type": "code",
   "execution_count": 15,
   "metadata": {},
   "outputs": [
    {
     "name": "stdout",
     "output_type": "stream",
     "text": [
      "\n",
      "\n",
      "\n",
      "\n",
      "              storage   display    value\n",
      "variable name   type    format     label      variable label\n",
      "---------------------------------------------------------------------------------------------------------------------------------------------------------------------------------------------------------------------------------------------------------------\n",
      "Produktnamn     str50   %50s                  Produktnamn\n",
      "Varunummer      str6    %9s                   Varunummer\n",
      "ATCkod          str16   %16s                  ATC-kod\n",
      "NPLid           str14   %14s                  NPL id\n",
      "NPLpackid       str14   %14s                  NPL pack-id\n",
      "Form            str86   %86s                  Form\n",
      "Styrka          str43   %43s                  Styrka\n",
      "Förpackning     str142  %142s                 Förpackning\n",
      "Antal           str9    %9s                   Antal\n",
      "Företag         str49   %49s                  Företag\n",
      "AIP             str9    %9s                   AIP\n",
      "AUP             str9    %9s                   AUP\n",
      "AIPperst        str9    %9s                   AIP per st\n",
      "AUPperst        str9    %9s                   AUP per st\n",
      "Subventionerad  str2    %9s                   Subventionerad\n"
     ]
    }
   ],
   "source": [
    "clear all // Clear memory\n",
    "use \"data/sweden_prices.dta\"\n",
    "describe _all"
   ]
  },
  {
   "cell_type": "markdown",
   "metadata": {},
   "source": [
    "Notice that all of our variables are in the string format. We want them to be numbers. Let's `destring` them. Because the numbers separated with commas and not dots, we use the `dpcomma` option."
   ]
  },
  {
   "cell_type": "code",
   "execution_count": 16,
   "metadata": {},
   "outputs": [
    {
     "name": "stdout",
     "output_type": "stream",
     "text": [
      "Produktnamn: contains nonnumeric characters; no replace\n",
      "Varunummer: all characters numeric; replaced as long\n",
      "(3 missing values generated)\n",
      "ATCkod: contains nonnumeric characters; no replace\n",
      "NPLid: all characters numeric; replaced as double\n",
      "NPLpackid: all characters numeric; replaced as double\n",
      "Form: contains nonnumeric characters; no replace\n",
      "Styrka: contains nonnumeric characters; no replace\n",
      "Förpackning: contains nonnumeric characters; no replace\n",
      "Antal: all characters numeric; replaced as double\n",
      "Företag: contains nonnumeric characters; no replace\n",
      "AIP: all characters numeric; replaced as double\n",
      "AUP: all characters numeric; replaced as double\n",
      "AIPperst: all characters numeric; replaced as double\n",
      "AUPperst: all characters numeric; replaced as double\n",
      "Subventionerad: contains nonnumeric characters; no replace\n"
     ]
    }
   ],
   "source": [
    "destring _all, replace dpcomma // remember to use the replace command"
   ]
  },
  {
   "cell_type": "markdown",
   "metadata": {},
   "source": [
    "Notice that Stata did not replace any values if the variable had nonnumeric characters.\n",
    "\n",
    "Next, let's tabulate some statistics for `AIP` or Apotek Inköp Pris and `AUP` or Apotek Utköp Pris:"
   ]
  },
  {
   "cell_type": "code",
   "execution_count": 18,
   "metadata": {},
   "outputs": [
    {
     "name": "stdout",
     "output_type": "stream",
     "text": [
      "\n",
      "\n",
      "   stats |       AIP       AUP\n",
      "---------+--------------------\n",
      "    mean |  2785.647  2884.004\n",
      "      sd |  10735.13  10865.21\n",
      "     p25 |    102.66    157.58\n",
      "     p50 |       329     387.5\n",
      "     p75 |      1087      1156\n",
      "     max |    255000  256046.3\n",
      "     min |       .98      31.7\n",
      "------------------------------\n",
      "\n",
      "\n",
      "    Variable |        Obs        Mean    Std. Dev.       Min        Max\n",
      "-------------+---------------------------------------------------------\n",
      "         AIP |     14,274    2785.647    10735.13        .98     255000\n",
      "         AUP |     14,274    2884.004    10865.21       31.7   256046.3\n"
     ]
    }
   ],
   "source": [
    "tabstat AIP AUP, stats(mean sd p25 p50 p75 max min)\n",
    "summarize AIP AUP"
   ]
  },
  {
   "cell_type": "markdown",
   "metadata": {},
   "source": [
    "We can also also calculate the confidence interval of the means or variance:"
   ]
  },
  {
   "cell_type": "code",
   "execution_count": 20,
   "metadata": {},
   "outputs": [
    {
     "name": "stdout",
     "output_type": "stream",
     "text": [
      "\n",
      "\n",
      "    Variable |        Obs        Mean    Std. Err.       [95% Conf. Interval]\n",
      "-------------+---------------------------------------------------------------\n",
      "         AIP |     14,274    2785.647    89.85338        2609.522    2961.771\n",
      "\n",
      "\n",
      "    Variable |        Obs      Variance       [95% Conf. Interval]\n",
      "-------------+----------------------------------------------------\n",
      "         AIP |     14,274      1.15e+08       1.13e+08    1.18e+08\n"
     ]
    }
   ],
   "source": [
    "ci mean AIP\n",
    "ci variances AIP"
   ]
  },
  {
   "cell_type": "markdown",
   "metadata": {},
   "source": [
    "Next we will make a light hearted test if for the mean prices of two different means.\n",
    "\n",
    "We will sort the data by descending order and divide the data in two. Then we will test if the the two means are statistically significantly different. "
   ]
  },
  {
   "cell_type": "code",
   "execution_count": 26,
   "metadata": {},
   "outputs": [
    {
     "name": "stdout",
     "output_type": "stream",
     "text": [
      "\n",
      "\n",
      "\n",
      "\n",
      "\n",
      "      dummy |      Freq.     Percent        Cum.\n",
      "------------+-----------------------------------\n",
      "          0 |      7,137       50.00       50.00\n",
      "          1 |      7,137       50.00      100.00\n",
      "------------+-----------------------------------\n",
      "      Total |     14,274      100.00\n",
      "\n",
      "\n",
      "Summary for variables: AIP\n",
      "     by categories of: dummy \n",
      "\n",
      "   dummy |      mean        sd\n",
      "---------+--------------------\n",
      "       0 |  3451.099  13028.48\n",
      "       1 |  2120.195  7737.889\n",
      "---------+--------------------\n",
      "   Total |  2785.647  10735.13\n",
      "------------------------------\n",
      "\n",
      "\n",
      "Two-sample t test with unequal variances\n",
      "------------------------------------------------------------------------------\n",
      "   Group |     Obs        Mean    Std. Err.   Std. Dev.   [95% Conf. Interval]\n",
      "---------+--------------------------------------------------------------------\n",
      "       0 |   7,137    3451.099    154.2184    13028.48    3148.785    3753.412\n",
      "       1 |   7,137    2120.195     91.5935    7737.889    1940.644    2299.745\n",
      "---------+--------------------------------------------------------------------\n",
      "combined |  14,274    2785.647    89.85338    10735.13    2609.522    2961.771\n",
      "---------+--------------------------------------------------------------------\n",
      "    diff |            1330.904    179.3674                979.3133    1682.494\n",
      "------------------------------------------------------------------------------\n",
      "    diff = mean(0) - mean(1)                                      t =   7.4200\n",
      "Ho: diff = 0                     Satterthwaite's degrees of freedom =  11613.2\n",
      "\n",
      "    Ha: diff < 0                 Ha: diff != 0                 Ha: diff > 0\n",
      " Pr(T < t) = 1.0000         Pr(|T| > |t|) = 0.0000          Pr(T > t) = 0.0000\n"
     ]
    }
   ],
   "source": [
    "scalar temp = _N/2\n",
    "gsort -Produktnamn\n",
    "gen dummy = _n > temp\n",
    "tab dummy\n",
    "tabstat AIP, by(dummy) stats(mean sd)\n",
    "ttest AIP, by(dummy) unequal"
   ]
  },
  {
   "cell_type": "code",
   "execution_count": 27,
   "metadata": {},
   "outputs": [
    {
     "data": {
      "text/html": [
       "\n",
       "<html>\n",
       "<head>\n",
       "<meta content=\"noindex, nofollow\" name=\"robots\"/>\n",
       "<title>Stata 16 help for ttest</title>\n",
       "<link href=\"//www.stata.com/includes/css/stylehelp.css\" rel=\"stylesheet\" type=\"text/css\"/>\n",
       "<style type=\"text/css\">h2 {\n",
       "    font-family: Arial,Helvetica,Helv,sans-serif;\n",
       "    color: #000000;\n",
       "}\n",
       "\n",
       "pre {\n",
       "    margin: 10px;\n",
       "}\n",
       "\n",
       "table {\n",
       "    background-color: transparent;\n",
       "    border-color: transparent;\n",
       "    bgcolor: transparent;\n",
       "}\n",
       "\n",
       "tr {\n",
       "    background-color: transparent;\n",
       "    border-color: transparent;\n",
       "    bgcolor: transparent;\n",
       "}\n",
       "\n",
       "body {\n",
       "    background-color: transparent;\n",
       "    border-color: transparent;\n",
       "    margin: 0px;\n",
       "}\n",
       "\n",
       "div {\n",
       "    background-color: transparent;\n",
       "    border-color: transparent;\n",
       "}\n",
       "</style>\n",
       "</head>\n",
       "<body>\n",
       "\n",
       "<p>\n",
       "<table align=\"center\" bgcolor=\"transparent\" border=\"1\" cellpadding=\"5\" cellspacing=\"0\">\n",
       "<tr bgcolor=\"transparent\"><td align=\"left\" bgcolor=\"transparent\" valign=\"top\">\n",
       "<!-- END HEAD -->\n",
       "\n",
       "<pre>\n",
       "<p>\n",
       "<b>[R] ttest</b> -- t tests (mean-comparison tests)\n",
       "<p>\n",
       "<p>\n",
       "<a name=\"syntax\"></a><b><u>Syntax</u></b>\n",
       "<p>\n",
       "    One-sample t test\n",
       "<p>\n",
       "        <b>ttest</b> <a href=\"https://www.stata.com/help.cgi?varname\" target=\"_blank\"><i>varname</i></a> <b>==</b> <i>#</i> [<a href=\"https://www.stata.com/help.cgi?if\" target=\"_blank\"><i>if</i></a>] [<a href=\"https://www.stata.com/help.cgi?in\" target=\"_blank\"><i>in</i></a>] [<b>,</b> <b><u>l</u></b><b>evel(</b><i>#</i><b>)</b>]\n",
       "<p>\n",
       "<p>\n",
       "    Two-sample t test using groups\n",
       "<p>\n",
       "        <b>ttest</b> <a href=\"https://www.stata.com/help.cgi?varname\" target=\"_blank\"><i>varname</i></a> [<a href=\"https://www.stata.com/help.cgi?if\" target=\"_blank\"><i>if</i></a>] [<a href=\"https://www.stata.com/help.cgi?in\" target=\"_blank\"><i>in</i></a>] <b>,</b> <b>by(</b><a href=\"https://www.stata.com/help.cgi?varlist\" target=\"_blank\"><i>groupvar</i></a><b>)</b> [<a href=\"#options1\"><i>options1</i></a>]\n",
       "<p>\n",
       "<p>\n",
       "    Two-sample t test using variables\n",
       "<p>\n",
       "        <b>ttest</b> <a href=\"https://www.stata.com/help.cgi?varname\" target=\"_blank\"><i>varname1</i></a> <b>==</b> <a href=\"https://www.stata.com/help.cgi?varname\" target=\"_blank\"><i>varname2</i></a> [<a href=\"https://www.stata.com/help.cgi?if\" target=\"_blank\"><i>if</i></a>] [<a href=\"https://www.stata.com/help.cgi?in\" target=\"_blank\"><i>in</i></a>]<b>,</b> <b><u>unp</u></b><b>aired</b> [<b><u>une</u></b><b>qual</b> <b><u>w</u></b><b>elch</b>\n",
       "              <b><u>l</u></b><b>evel(</b><i>#</i><b>)</b>]\n",
       "<p>\n",
       "<p>\n",
       "    Paired t test\n",
       "<p>\n",
       "        <b>ttest</b> <a href=\"https://www.stata.com/help.cgi?varname\" target=\"_blank\"><i>varname1</i></a> <b>==</b> <a href=\"https://www.stata.com/help.cgi?varname\" target=\"_blank\"><i>varname2</i></a> [<a href=\"https://www.stata.com/help.cgi?if\" target=\"_blank\"><i>if</i></a>] [<a href=\"https://www.stata.com/help.cgi?in\" target=\"_blank\"><i>in</i></a>] [<b>,</b> <b><u>l</u></b><b>evel(</b><i>#</i><b>)</b>]\n",
       "<p>\n",
       "<p>\n",
       "    Immediate form of one-sample t test\n",
       "<p>\n",
       "        <b>ttesti</b> <i>#obs</i> <i>#mean</i> <i>#sd</i> <i>#val</i> [<b>,</b> <b><u>l</u></b><b>evel(</b><i>#</i><b>)</b>]\n",
       "<p>\n",
       "<p>\n",
       "    Immediate form of two-sample t test\n",
       "<p>\n",
       "        <b>ttesti</b> <i>#obs1</i> <i>#mean1</i> <i>#sd1</i> <i>#obs2</i> <i>#mean2</i> <i>#sd2</i> [<b>,</b> <a href=\"#options2\"><i>options2</i></a>]\n",
       "<p>\n",
       "<p>\n",
       "<a name=\"options1\"></a>    <i>options1</i>          Description\n",
       "    -------------------------------------------------------------------------\n",
       "    Main\n",
       "    * <b>by(</b><a href=\"https://www.stata.com/help.cgi?varlist\" target=\"_blank\"><i>groupvar</i></a><b>)</b>    variable defining the groups\n",
       "      <b><u>rev</u></b><b>erse</b>         reverse group order for mean difference computation\n",
       "      <b><u>une</u></b><b>qual</b>         unpaired data have unequal variances\n",
       "      <b><u>w</u></b><b>elch</b>           use Welch's approximation\n",
       "      <b><u>l</u></b><b>evel(</b><i>#</i><b>)</b>        set confidence level; default is <b>level(95)</b>\n",
       "    -------------------------------------------------------------------------\n",
       "    * <b>by(</b><i>groupvar</i><b>)</b> is required.\n",
       "<p>\n",
       "<a name=\"options2\"></a>    <i>options2</i>          Description\n",
       "    -------------------------------------------------------------------------\n",
       "    Main\n",
       "      <b><u>une</u></b><b>qual</b>         unpaired data have unequal variances\n",
       "      <b><u>w</u></b><b>elch</b>           use Welch's approximation\n",
       "      <b><u>l</u></b><b>evel(</b><i>#</i><b>)</b>        set confidence level; default is <b>level(95)</b>\n",
       "    -------------------------------------------------------------------------\n",
       "<p>\n",
       "    <b>by</b> is allowed with <b>ttest</b>; see <a href=\"https://www.stata.com/help.cgi?by\" target=\"_blank\"><b>[D] by</b></a>.\n",
       "<p>\n",
       "<p>\n",
       "<a name=\"menu\"></a><b><u>Menu</u></b>\n",
       "<p>\n",
       "    <b><u>ttest</u></b>\n",
       "<p>\n",
       "        <b>Statistics &gt; Summaries, tables, and tests &gt; Classical tests of</b>\n",
       "            <b>hypotheses</b> <b>&gt; t test (mean-comparison test)</b>\n",
       "<p>\n",
       "    <b><u>ttesti</u></b>\n",
       "<p>\n",
       "        <b>Statistics &gt; Summaries, tables, and tests &gt; Classical tests of</b>\n",
       "            <b>hypotheses</b> <b>&gt; t test calculator</b>\n",
       "<p>\n",
       "<p>\n",
       "<a name=\"description\"></a><b><u>Description</u></b>\n",
       "<p>\n",
       "    <b>ttest</b> performs t tests on the equality of means.  The test can be\n",
       "    performed for one sample against a hypothesized population mean.\n",
       "    Two-sample tests can be conducted for paired and unpaired data.  The\n",
       "    assumption of equal variances can be optionally relaxed in the unpaired\n",
       "    two-sample case.\n",
       "<p>\n",
       "    <b>ttesti</b> is the immediate form of <b>ttest</b>; see <a href=\"https://www.stata.com/help.cgi?immed\" target=\"_blank\">immed</a>.\n",
       "<p>\n",
       "<p>\n",
       "<a name=\"options\"></a><b><u>Options</u></b>\n",
       "<p>\n",
       "        +------+\n",
       "    ----+ Main +-------------------------------------------------------------\n",
       "<p>\n",
       "    <b>by(</b><a href=\"https://www.stata.com/help.cgi?varlist\" target=\"_blank\"><i>groupvar</i></a><b>)</b> specifies the <i>groupvar</i> that defines the two groups that\n",
       "        <b>ttest</b> will use to test the hypothesis that their means are equal.\n",
       "        Specifying <b>by(</b><i>groupvar</i><b>)</b> implies an unpaired (two sample) t test.  Do\n",
       "        not confuse the <b>by()</b> option with the <b>by</b> prefix; you can specify both.\n",
       "<p>\n",
       "    <b>reverse</b> reverses the order of the mean difference between groups defined\n",
       "        in <b>by()</b>.  By default, the mean of the group corresponding to the\n",
       "        largest value in the variable in <b>by()</b> is subtracted from the mean of\n",
       "        the group with the smallest value in <b>by()</b>.  <b>reverse</b> reverses this\n",
       "        behavior and the order in which variables appear on the table.\n",
       "<p>\n",
       "    <b>unpaired</b> specifies that the data be treated as unpaired.  The <b>unpaired</b>\n",
       "        option is used when the two sets of values to be compared are in\n",
       "        different variables.\n",
       "<p>\n",
       "    <b>unequal</b> specifies that the unpaired data not be assumed to have equal\n",
       "        variances.\n",
       "<p>\n",
       "    <b>welch</b> specifies that the approximate degrees of freedom for the test be\n",
       "        obtained from Welch's formula (<a href=\"#W1947\">1947</a>) rather than from Satterthwaite's\n",
       "        approximation formula (<a href=\"#S1946\">1946</a>), which is the default when <b>unequal</b> is\n",
       "        specified.  Specifying <b>welch</b> implies <b>unequal</b>.\n",
       "<p>\n",
       "    <b>level(</b><i>#</i><b>)</b> specifies the confidence level, as a percentage, for confidence\n",
       "        intervals.  The default is <b>level(95)</b> or as set by <a href=\"https://www.stata.com/help.cgi?set%2Blevel\" target=\"_blank\"><b>set level</b></a>.\n",
       "<p>\n",
       "<p>\n",
       "<a name=\"examples\"></a><b><u>Examples</u></b>\n",
       "<p>\n",
       "    <b>. sysuse auto</b>             (setup)\n",
       "    <b>. ttest mpg==20</b>           (one-sample t test)\n",
       "<p>\n",
       "    <b>. webuse fuel3</b>            (setup)\n",
       "    <b>. ttest mpg, by(treated)</b>  (two-sample t test using groups)\n",
       "<p>\n",
       "    <b>. webuse fuel</b>             (setup)\n",
       "    <b>. ttest mpg1==mpg2</b>        (two-sample t test using variables)\n",
       "<p>\n",
       "                              (no setup required)\n",
       "    <b>. ttesti 24 62.6 15.8 75</b>  (immediate form; n=24, m=62.6, sd=15.8;\n",
       "                                    test m=75)\n",
       "<p>\n",
       "<a name=\"video\"></a><b><u>Video examples</u></b>\n",
       "<p>\n",
       "    One-sample t test in Stata\n",
       "<p>\n",
       "    t test for two independent samples in Stata\n",
       "<p>\n",
       "    t test for two paired samples in Stata\n",
       "<p>\n",
       "    One-sample t-test calculator\n",
       "<p>\n",
       "    Two-sample t-test calculator\n",
       "<p>\n",
       "<p>\n",
       "<a name=\"results\"></a><b><u>Stored results</u></b>\n",
       "<p>\n",
       "    <b>ttest</b> and <b>ttesti</b> store the following in <b>r()</b>:\n",
       "<p>\n",
       "    Scalars   \n",
       "      <b>r(N_1)</b>         sample size n_1\n",
       "      <b>r(N_2)</b>         sample size n_2\n",
       "      <b>r(p_l)</b>         lower one-sided p-value\n",
       "      <b>r(p_u)</b>         upper one-sided p-value\n",
       "      <b>r(p)</b>           two-sided p-value\n",
       "      <b>r(se)</b>          estimate of standard error\n",
       "      <b>r(t)</b>           t statistic\n",
       "      <b>r(sd_1)</b>        standard deviation for first variable\n",
       "      <b>r(sd_2)</b>        standard deviation for second variable\n",
       "      <b>r(sd)</b>          combined standard deviation\n",
       "      <b>r(mu_1)</b>        x_1 bar, mean for population 1\n",
       "      <b>r(mu_2)</b>        x_2 bar, mean for population 2\n",
       "      <b>r(df_t)</b>        degrees of freedom\n",
       "      <b>r(level)</b>       confidence level\n",
       "<p>\n",
       "<p>\n",
       "<a name=\"references\"></a><b><u>References</u></b>\n",
       "<p>\n",
       "<a name=\"S1946\"></a>    Satterthwaite, F. E. 1946.  An approximate distribution of estimates of\n",
       "        variance components.  <i>Biometrics Bulletin</i> 2: 110-114.\n",
       "<p>\n",
       "<a name=\"W1947\"></a>    Welch, B. L. 1947.  The generalization of `student's' problem when\n",
       "        several different population variances are involved. <i>Biometrika</i> 34:\n",
       "        28-35.\n",
       "<p>\n",
       "</p></p></p></p></p></p></p></p></p></p></p></p></p></p></p></p></p></p></p></p></p></p></p></p></p></p></p></p></p></p></p></p></p></p></p></p></p></p></p></p></p></p></p></p></p></p></p></p></p></p></p></p></p></p></p></p></p></p></p></p></p></p></p></p></pre>\n",
       "<!-- BEGIN FOOT -->\n",
       "</td></tr></table>\n",
       "\n",
       "\n",
       "<br/>\n",
       "</p></body>\n",
       "</html>\n"
      ],
      "text/plain": [
       "This front-end cannot display HTML help."
      ]
     },
     "metadata": {},
     "output_type": "display_data"
    }
   ],
   "source": [
    "%help ttest"
   ]
  },
  {
   "cell_type": "markdown",
   "metadata": {},
   "source": [
    "Next, we will conduct some string manipulation.\n",
    "\n",
    "The variable `ATCkod` gives the ATC code of each pharmaceutical product. The ATC system issues a code for the active incredient of a pharmaceutical based on its therapeutic, pharmacological and chemical properties. You can read more about the ATC system [on the WHO website](https://www.whocc.no/atc_ddd_index/). The first character of the code defines the anatomical main group of the pharmaceutical. To save this character, we will generate a new variable `atc_1` with some [string manipulation functions](https://www.stata.com/manuals/fnstringfunctions.pdf). Recall that the command to declare new variables in Stata is called the `generate` command:"
   ]
  },
  {
   "cell_type": "code",
   "execution_count": 28,
   "metadata": {},
   "outputs": [
    {
     "name": "stdout",
     "output_type": "stream",
     "text": [
      "\n",
      "\n",
      "       +------------------+\n",
      "       |           ATCkod |\n",
      "       |------------------|\n",
      "    1. | D08AX            |\n",
      "    2. | B05DB            |\n",
      "    3. | B05DB            |\n",
      "    4. | B05DB            |\n",
      "    5. | B05DB            |\n",
      "       |------------------|\n",
      "    6. | B05DB            |\n",
      "    7. | B05DB            |\n",
      "    8. | B05DB            |\n",
      "    9. | B05DB            |\n",
      "   10. | B05DB            |\n",
      "       +------------------+\n",
      "\n",
      "\n",
      "\n",
      "      atc_1 |      Freq.     Percent        Cum.\n",
      "------------+-----------------------------------\n",
      "          A |      1,433       10.04       10.04\n",
      "          B |        962        6.74       16.78\n",
      "          C |      1,443       10.11       26.89\n",
      "          D |        429        3.01       29.89\n",
      "          G |        567        3.97       33.87\n",
      "          H |        403        2.82       36.69\n",
      "          J |      1,032        7.23       43.92\n",
      "          L |      1,804       12.64       56.56\n",
      "          M |        399        2.80       59.35\n",
      "          N |      4,510       31.60       90.95\n",
      "          P |         45        0.32       91.26\n",
      "          R |        746        5.23       96.49\n",
      "          S |        367        2.57       99.06\n",
      "          V |        134        0.94      100.00\n",
      "------------+-----------------------------------\n",
      "      Total |     14,274      100.00\n"
     ]
    }
   ],
   "source": [
    "list ATCkod if _n < 11\n",
    "generate atc_1 = substr(ATCkod,1,1) // substr takes in 1. the name of the variable, 2. the start index, 3. the length of the string\n",
    "tab atc_1"
   ]
  },
  {
   "cell_type": "markdown",
   "metadata": {},
   "source": [
    "To identify the active incredients from the data using the ATC codes, we need to remove the redundant spaces from the variable `ATC`. To demonstrate, let's consider the ATC code for simvastatin (a cholesterol medicine):"
   ]
  },
  {
   "cell_type": "code",
   "execution_count": 30,
   "metadata": {},
   "outputs": [
    {
     "name": "stdout",
     "output_type": "stream",
     "text": [
      "\n",
      "  0\n",
      "\n",
      "  56\n"
     ]
    }
   ],
   "source": [
    "count if ATCkod == \"C10AA01\" // exact value\n",
    "count if strpos(ATCkod, \"C10AA01\") > 0 // if ATCkod contains the string"
   ]
  },
  {
   "cell_type": "markdown",
   "metadata": {},
   "source": [
    "Then `replace`:"
   ]
  },
  {
   "cell_type": "code",
   "execution_count": 31,
   "metadata": {},
   "outputs": [
    {
     "name": "stdout",
     "output_type": "stream",
     "text": [
      "\n",
      "(14,274 real changes made)\n",
      "\n",
      "  56\n"
     ]
    }
   ],
   "source": [
    "replace ATCkod = strtrim(ATCkod)\n",
    "count if ATCkod == \"C10AA01\" // exact value"
   ]
  },
  {
   "cell_type": "markdown",
   "metadata": {},
   "source": [
    "### Basic graphs in Stata\n",
    "\n",
    "In this part, we will plot a\n",
    "\n",
    "1. Scatter plot\n",
    "2. Histogram\n",
    "3. Box plot\n",
    "\n",
    "for the products whose active incredient is simvastatin."
   ]
  },
  {
   "cell_type": "code",
   "execution_count": 32,
   "metadata": {},
   "outputs": [
    {
     "data": {
      "application/pdf": "[encoded data removed]",
      "image/svg+xml": [
       "<?xml version=\"1.0\" encoding=\"UTF-8\" standalone=\"no\"?>\n",
       "<!-- This is a Stata 15.1 generated SVG file (http://www.stata.com) -->\n",
       "\n",
       "<svg version=\"1.1\" width=\"600px\" height=\"436px\" viewBox=\"0 0 3960 2880\" xmlns=\"http://www.w3.org/2000/svg\" xmlns:xlink=\"http://www.w3.org/1999/xlink\">\n",
       "\t<desc>Stata Graph - Graph</desc>\n",
       "\t<rect x=\"0\" y=\"0\" width=\"3960\" height=\"2880\" style=\"fill:#FFFFFF;stroke:none\"/>\n",
       "\t<rect x=\"0.00\" y=\"0.00\" width=\"3959.88\" height=\"2880.00\" style=\"fill:#FFFFFF\"/>\n",
       "\t<rect x=\"2.88\" y=\"2.88\" width=\"3954.12\" height=\"2874.24\" style=\"fill:none;stroke:#FFFFFF;stroke-width:5.76\"/>\n",
       "\t<rect x=\"393.68\" y=\"278.23\" width=\"3462.46\" height=\"2208.07\" style=\"fill:none;stroke:#000000;stroke-width:5.76\"/>\n",
       "\t<circle cx=\"3498.04\" cy=\"671.49\" r=\"26.35\" style=\"fill:#606060\"/>\n",
       "\t<circle cx=\"3498.04\" cy=\"671.49\" r=\"22.03\" style=\"fill:none;stroke:#606060;stroke-width:8.64\"/>\n",
       "\t<circle cx=\"932.09\" cy=\"1938.11\" r=\"26.35\" style=\"fill:#606060\"/>\n",
       "\t<circle cx=\"932.09\" cy=\"1938.11\" r=\"22.03\" style=\"fill:none;stroke:#606060;stroke-width:8.64\"/>\n",
       "\t<circle cx=\"2097.07\" cy=\"1347.43\" r=\"26.35\" style=\"fill:#606060\"/>\n",
       "\t<circle cx=\"2097.07\" cy=\"1347.43\" r=\"22.03\" style=\"fill:none;stroke:#606060;stroke-width:8.64\"/>\n",
       "\t<circle cx=\"1632.88\" cy=\"1571.55\" r=\"26.35\" style=\"fill:#606060\"/>\n",
       "\t<circle cx=\"1632.88\" cy=\"1571.55\" r=\"22.03\" style=\"fill:none;stroke:#606060;stroke-width:8.64\"/>\n",
       "\t<circle cx=\"3673.89\" cy=\"586.72\" r=\"26.35\" style=\"fill:#606060\"/>\n",
       "\t<circle cx=\"3673.89\" cy=\"586.72\" r=\"22.03\" style=\"fill:none;stroke:#606060;stroke-width:8.64\"/>\n",
       "\t<circle cx=\"644.24\" cy=\"2099.86\" r=\"26.35\" style=\"fill:#606060\"/>\n",
       "\t<circle cx=\"644.24\" cy=\"2099.86\" r=\"22.03\" style=\"fill:none;stroke:#606060;stroke-width:8.64\"/>\n",
       "\t<circle cx=\"1238.37\" cy=\"1765.97\" r=\"26.35\" style=\"fill:#606060\"/>\n",
       "\t<circle cx=\"1238.37\" cy=\"1765.97\" r=\"22.03\" style=\"fill:none;stroke:#606060;stroke-width:8.64\"/>\n",
       "\t<circle cx=\"994.83\" cy=\"1902.72\" r=\"26.35\" style=\"fill:#606060\"/>\n",
       "\t<circle cx=\"994.83\" cy=\"1902.72\" r=\"22.03\" style=\"fill:none;stroke:#606060;stroke-width:8.64\"/>\n",
       "\t<circle cx=\"2105.85\" cy=\"1343.22\" r=\"26.35\" style=\"fill:#606060\"/>\n",
       "\t<circle cx=\"2105.85\" cy=\"1343.22\" r=\"22.03\" style=\"fill:none;stroke:#606060;stroke-width:8.64\"/>\n",
       "\t<circle cx=\"1659.61\" cy=\"1558.56\" r=\"26.35\" style=\"fill:#606060\"/>\n",
       "\t<circle cx=\"1659.61\" cy=\"1558.56\" r=\"22.03\" style=\"fill:none;stroke:#606060;stroke-width:8.64\"/>\n",
       "\t<circle cx=\"799.92\" cy=\"2012.36\" r=\"26.35\" style=\"fill:#606060\"/>\n",
       "\t<circle cx=\"799.92\" cy=\"2012.36\" r=\"22.03\" style=\"fill:none;stroke:#606060;stroke-width:8.64\"/>\n",
       "\t<circle cx=\"1228.71\" cy=\"1771.29\" r=\"26.35\" style=\"fill:#606060\"/>\n",
       "\t<circle cx=\"1228.71\" cy=\"1771.29\" r=\"22.03\" style=\"fill:none;stroke:#606060;stroke-width:8.64\"/>\n",
       "\t<circle cx=\"3498.04\" cy=\"671.49\" r=\"26.35\" style=\"fill:#606060\"/>\n",
       "\t<circle cx=\"3498.04\" cy=\"671.49\" r=\"22.03\" style=\"fill:none;stroke:#606060;stroke-width:8.64\"/>\n",
       "\t<circle cx=\"2102.64\" cy=\"1344.83\" r=\"26.35\" style=\"fill:#606060\"/>\n",
       "\t<circle cx=\"2102.64\" cy=\"1344.83\" r=\"22.03\" style=\"fill:none;stroke:#606060;stroke-width:8.64\"/>\n",
       "\t<circle cx=\"621.10\" cy=\"2112.85\" r=\"26.35\" style=\"fill:#606060\"/>\n",
       "\t<circle cx=\"621.10\" cy=\"2112.85\" r=\"22.03\" style=\"fill:none;stroke:#606060;stroke-width:8.64\"/>\n",
       "\t<circle cx=\"625.06\" cy=\"2110.62\" r=\"26.35\" style=\"fill:#606060\"/>\n",
       "\t<circle cx=\"625.06\" cy=\"2110.62\" r=\"22.03\" style=\"fill:none;stroke:#606060;stroke-width:8.64\"/>\n",
       "\t<circle cx=\"715.89\" cy=\"2059.64\" r=\"26.35\" style=\"fill:#606060\"/>\n",
       "\t<circle cx=\"715.89\" cy=\"2059.64\" r=\"22.03\" style=\"fill:none;stroke:#606060;stroke-width:8.64\"/>\n",
       "\t<circle cx=\"603.28\" cy=\"2122.87\" r=\"26.35\" style=\"fill:#606060\"/>\n",
       "\t<circle cx=\"603.28\" cy=\"2122.87\" r=\"22.03\" style=\"fill:none;stroke:#606060;stroke-width:8.64\"/>\n",
       "\t<circle cx=\"1792.27\" cy=\"1494.58\" r=\"26.35\" style=\"fill:#606060\"/>\n",
       "\t<circle cx=\"1792.27\" cy=\"1494.58\" r=\"22.03\" style=\"fill:none;stroke:#606060;stroke-width:8.64\"/>\n",
       "\t<circle cx=\"655.38\" cy=\"2093.67\" r=\"26.35\" style=\"fill:#606060\"/>\n",
       "\t<circle cx=\"655.38\" cy=\"2093.67\" r=\"22.03\" style=\"fill:none;stroke:#606060;stroke-width:8.64\"/>\n",
       "\t<circle cx=\"1024.53\" cy=\"1886.13\" r=\"26.35\" style=\"fill:#606060\"/>\n",
       "\t<circle cx=\"1024.53\" cy=\"1886.13\" r=\"22.03\" style=\"fill:none;stroke:#606060;stroke-width:8.64\"/>\n",
       "\t<circle cx=\"3690.47\" cy=\"578.67\" r=\"26.35\" style=\"fill:#606060\"/>\n",
       "\t<circle cx=\"3690.47\" cy=\"578.67\" r=\"22.03\" style=\"fill:none;stroke:#606060;stroke-width:8.64\"/>\n",
       "\t<circle cx=\"597.84\" cy=\"2125.97\" r=\"26.35\" style=\"fill:#606060\"/>\n",
       "\t<circle cx=\"597.84\" cy=\"2125.97\" r=\"22.03\" style=\"fill:none;stroke:#606060;stroke-width:8.64\"/>\n",
       "\t<circle cx=\"1457.03\" cy=\"1656.32\" r=\"26.35\" style=\"fill:#606060\"/>\n",
       "\t<circle cx=\"1457.03\" cy=\"1656.32\" r=\"22.03\" style=\"fill:none;stroke:#606060;stroke-width:8.64\"/>\n",
       "\t<circle cx=\"1126.99\" cy=\"1828.46\" r=\"26.35\" style=\"fill:#606060\"/>\n",
       "\t<circle cx=\"1126.99\" cy=\"1828.46\" r=\"22.03\" style=\"fill:none;stroke:#606060;stroke-width:8.64\"/>\n",
       "\t<circle cx=\"956.84\" cy=\"1924.13\" r=\"26.35\" style=\"fill:#606060\"/>\n",
       "\t<circle cx=\"956.84\" cy=\"1924.13\" r=\"22.03\" style=\"fill:none;stroke:#606060;stroke-width:8.64\"/>\n",
       "\t<circle cx=\"1055.59\" cy=\"1868.68\" r=\"26.35\" style=\"fill:#606060\"/>\n",
       "\t<circle cx=\"1055.59\" cy=\"1868.68\" r=\"22.03\" style=\"fill:none;stroke:#606060;stroke-width:8.64\"/>\n",
       "\t<circle cx=\"788.29\" cy=\"2018.92\" r=\"26.35\" style=\"fill:#606060\"/>\n",
       "\t<circle cx=\"788.29\" cy=\"2018.92\" r=\"22.03\" style=\"fill:none;stroke:#606060;stroke-width:8.64\"/>\n",
       "\t<circle cx=\"2102.64\" cy=\"1344.83\" r=\"26.35\" style=\"fill:#606060\"/>\n",
       "\t<circle cx=\"2102.64\" cy=\"1344.83\" r=\"22.03\" style=\"fill:none;stroke:#606060;stroke-width:8.64\"/>\n",
       "\t<circle cx=\"1212.63\" cy=\"1780.32\" r=\"26.35\" style=\"fill:#606060\"/>\n",
       "\t<circle cx=\"1212.63\" cy=\"1780.32\" r=\"22.03\" style=\"fill:none;stroke:#606060;stroke-width:8.64\"/>\n",
       "\t<circle cx=\"1111.28\" cy=\"1837.37\" r=\"26.35\" style=\"fill:#606060\"/>\n",
       "\t<circle cx=\"1111.28\" cy=\"1837.37\" r=\"22.03\" style=\"fill:none;stroke:#606060;stroke-width:8.64\"/>\n",
       "\t<circle cx=\"1512.22\" cy=\"1629.71\" r=\"26.35\" style=\"fill:#606060\"/>\n",
       "\t<circle cx=\"1512.22\" cy=\"1629.71\" r=\"22.03\" style=\"fill:none;stroke:#606060;stroke-width:8.64\"/>\n",
       "\t<circle cx=\"1723.84\" cy=\"1527.62\" r=\"26.35\" style=\"fill:#606060\"/>\n",
       "\t<circle cx=\"1723.84\" cy=\"1527.62\" r=\"22.03\" style=\"fill:none;stroke:#606060;stroke-width:8.64\"/>\n",
       "\t<circle cx=\"820.71\" cy=\"2000.73\" r=\"26.35\" style=\"fill:#606060\"/>\n",
       "\t<circle cx=\"820.71\" cy=\"2000.73\" r=\"22.03\" style=\"fill:none;stroke:#606060;stroke-width:8.64\"/>\n",
       "\t<circle cx=\"1556.78\" cy=\"1608.18\" r=\"26.35\" style=\"fill:#606060\"/>\n",
       "\t<circle cx=\"1556.78\" cy=\"1608.18\" r=\"22.03\" style=\"fill:none;stroke:#606060;stroke-width:8.64\"/>\n",
       "\t<circle cx=\"788.29\" cy=\"2018.92\" r=\"26.35\" style=\"fill:#606060\"/>\n",
       "\t<circle cx=\"788.29\" cy=\"2018.92\" r=\"22.03\" style=\"fill:none;stroke:#606060;stroke-width:8.64\"/>\n",
       "\t<circle cx=\"1211.51\" cy=\"1780.94\" r=\"26.35\" style=\"fill:#606060\"/>\n",
       "\t<circle cx=\"1211.51\" cy=\"1780.94\" r=\"22.03\" style=\"fill:none;stroke:#606060;stroke-width:8.64\"/>\n",
       "\t<circle cx=\"547.72\" cy=\"2154.06\" r=\"26.35\" style=\"fill:#606060\"/>\n",
       "\t<circle cx=\"547.72\" cy=\"2154.06\" r=\"22.03\" style=\"fill:none;stroke:#606060;stroke-width:8.64\"/>\n",
       "\t<circle cx=\"1512.22\" cy=\"1629.71\" r=\"26.35\" style=\"fill:#606060\"/>\n",
       "\t<circle cx=\"1512.22\" cy=\"1629.71\" r=\"22.03\" style=\"fill:none;stroke:#606060;stroke-width:8.64\"/>\n",
       "\t<circle cx=\"1055.59\" cy=\"1868.68\" r=\"26.35\" style=\"fill:#606060\"/>\n",
       "\t<circle cx=\"1055.59\" cy=\"1868.68\" r=\"22.03\" style=\"fill:none;stroke:#606060;stroke-width:8.64\"/>\n",
       "\t<circle cx=\"671.22\" cy=\"2084.63\" r=\"26.35\" style=\"fill:#606060\"/>\n",
       "\t<circle cx=\"671.22\" cy=\"2084.63\" r=\"22.03\" style=\"fill:none;stroke:#606060;stroke-width:8.64\"/>\n",
       "\t<circle cx=\"654.51\" cy=\"2094.04\" r=\"26.35\" style=\"fill:#606060\"/>\n",
       "\t<circle cx=\"654.51\" cy=\"2094.04\" r=\"22.03\" style=\"fill:none;stroke:#606060;stroke-width:8.64\"/>\n",
       "\t<circle cx=\"625.68\" cy=\"2110.25\" r=\"26.35\" style=\"fill:#606060\"/>\n",
       "\t<circle cx=\"625.68\" cy=\"2110.25\" r=\"22.03\" style=\"fill:none;stroke:#606060;stroke-width:8.64\"/>\n",
       "\t<circle cx=\"532.87\" cy=\"2162.48\" r=\"26.35\" style=\"fill:#606060\"/>\n",
       "\t<circle cx=\"532.87\" cy=\"2162.48\" r=\"22.03\" style=\"fill:none;stroke:#606060;stroke-width:8.64\"/>\n",
       "\t<circle cx=\"511.09\" cy=\"2174.73\" r=\"26.35\" style=\"fill:#606060\"/>\n",
       "\t<circle cx=\"511.09\" cy=\"2174.73\" r=\"22.03\" style=\"fill:none;stroke:#606060;stroke-width:8.64\"/>\n",
       "\t<circle cx=\"2105.85\" cy=\"1343.22\" r=\"26.35\" style=\"fill:#606060\"/>\n",
       "\t<circle cx=\"2105.85\" cy=\"1343.22\" r=\"22.03\" style=\"fill:none;stroke:#606060;stroke-width:8.64\"/>\n",
       "\t<circle cx=\"3425.15\" cy=\"706.63\" r=\"26.35\" style=\"fill:#606060\"/>\n",
       "\t<circle cx=\"3425.15\" cy=\"706.63\" r=\"22.03\" style=\"fill:none;stroke:#606060;stroke-width:8.64\"/>\n",
       "\t<circle cx=\"519.75\" cy=\"2169.78\" r=\"26.35\" style=\"fill:#606060\"/>\n",
       "\t<circle cx=\"519.75\" cy=\"2169.78\" r=\"22.03\" style=\"fill:none;stroke:#606060;stroke-width:8.64\"/>\n",
       "\t<circle cx=\"598.83\" cy=\"2125.35\" r=\"26.35\" style=\"fill:#606060\"/>\n",
       "\t<circle cx=\"598.83\" cy=\"2125.35\" r=\"22.03\" style=\"fill:none;stroke:#606060;stroke-width:8.64\"/>\n",
       "\t<circle cx=\"1512.22\" cy=\"1629.71\" r=\"26.35\" style=\"fill:#606060\"/>\n",
       "\t<circle cx=\"1512.22\" cy=\"1629.71\" r=\"22.03\" style=\"fill:none;stroke:#606060;stroke-width:8.64\"/>\n",
       "\t<circle cx=\"1657.01\" cy=\"1559.79\" r=\"26.35\" style=\"fill:#606060\"/>\n",
       "\t<circle cx=\"1657.01\" cy=\"1559.79\" r=\"22.03\" style=\"fill:none;stroke:#606060;stroke-width:8.64\"/>\n",
       "\t<circle cx=\"654.51\" cy=\"2094.04\" r=\"26.35\" style=\"fill:#606060\"/>\n",
       "\t<circle cx=\"654.51\" cy=\"2094.04\" r=\"22.03\" style=\"fill:none;stroke:#606060;stroke-width:8.64\"/>\n",
       "\t<circle cx=\"699.19\" cy=\"2069.04\" r=\"26.35\" style=\"fill:#606060\"/>\n",
       "\t<circle cx=\"699.19\" cy=\"2069.04\" r=\"22.03\" style=\"fill:none;stroke:#606060;stroke-width:8.64\"/>\n",
       "\t<circle cx=\"2102.64\" cy=\"1344.83\" r=\"26.35\" style=\"fill:#606060\"/>\n",
       "\t<circle cx=\"2102.64\" cy=\"1344.83\" r=\"22.03\" style=\"fill:none;stroke:#606060;stroke-width:8.64\"/>\n",
       "\t<circle cx=\"3767.82\" cy=\"541.30\" r=\"26.35\" style=\"fill:#606060\"/>\n",
       "\t<circle cx=\"3767.82\" cy=\"541.30\" r=\"22.03\" style=\"fill:none;stroke:#606060;stroke-width:8.64\"/>\n",
       "\t<circle cx=\"810.56\" cy=\"2006.42\" r=\"26.35\" style=\"fill:#606060\"/>\n",
       "\t<circle cx=\"810.56\" cy=\"2006.42\" r=\"22.03\" style=\"fill:none;stroke:#606060;stroke-width:8.64\"/>\n",
       "\t<line x1=\"390.80\" y1=\"2489.19\" x2=\"390.80\" y2=\"275.35\" style=\"stroke:#000000;stroke-width:5.76\"/>\n",
       "\t<line x1=\"390.80\" y1=\"2425.82\" x2=\"350.83\" y2=\"2425.82\" style=\"stroke:#000000;stroke-width:5.76\"/>\n",
       "\t<text x=\"300.72\" y=\"2425.82\" style=\"font-family:'Helvetica';font-size:99.99px;fill:#000000\" transform=\"rotate(-90 300.72,2425.82)\" text-anchor=\"middle\">0</text>\n",
       "\t<line x1=\"390.80\" y1=\"1904.08\" x2=\"350.83\" y2=\"1904.08\" style=\"stroke:#000000;stroke-width:5.76\"/>\n",
       "\t<text x=\"300.72\" y=\"1904.08\" style=\"font-family:'Helvetica';font-size:99.99px;fill:#000000\" transform=\"rotate(-90 300.72,1904.08)\" text-anchor=\"middle\">100</text>\n",
       "\t<line x1=\"390.80\" y1=\"1382.33\" x2=\"350.83\" y2=\"1382.33\" style=\"stroke:#000000;stroke-width:5.76\"/>\n",
       "\t<text x=\"300.72\" y=\"1382.33\" style=\"font-family:'Helvetica';font-size:99.99px;fill:#000000\" transform=\"rotate(-90 300.72,1382.33)\" text-anchor=\"middle\">200</text>\n",
       "\t<line x1=\"390.80\" y1=\"860.46\" x2=\"350.83\" y2=\"860.46\" style=\"stroke:#000000;stroke-width:5.76\"/>\n",
       "\t<text x=\"300.72\" y=\"860.46\" style=\"font-family:'Helvetica';font-size:99.99px;fill:#000000\" transform=\"rotate(-90 300.72,860.46)\" text-anchor=\"middle\">300</text>\n",
       "\t<line x1=\"390.80\" y1=\"338.71\" x2=\"350.83\" y2=\"338.71\" style=\"stroke:#000000;stroke-width:5.76\"/>\n",
       "\t<text x=\"300.72\" y=\"338.71\" style=\"font-family:'Helvetica';font-size:99.99px;fill:#000000\" transform=\"rotate(-90 300.72,338.71)\" text-anchor=\"middle\">400</text>\n",
       "\t<text x=\"190.71\" y=\"1382.33\" style=\"font-family:'Helvetica';font-size:99.99px;fill:#000000\" transform=\"rotate(-90 190.71,1382.33)\" text-anchor=\"middle\">AUP</text>\n",
       "\t<line x1=\"390.80\" y1=\"2489.19\" x2=\"3859.02\" y2=\"2489.19\" style=\"stroke:#000000;stroke-width:5.76\"/>\n",
       "\t<line x1=\"454.16\" y1=\"2489.19\" x2=\"454.16\" y2=\"2529.16\" style=\"stroke:#000000;stroke-width:5.76\"/>\n",
       "\t<text x=\"454.16\" y=\"2619.14\" style=\"font-family:'Helvetica';font-size:99.99px;fill:#000000\" text-anchor=\"middle\">0</text>\n",
       "\t<line x1=\"1568.04\" y1=\"2489.19\" x2=\"1568.04\" y2=\"2529.16\" style=\"stroke:#000000;stroke-width:5.76\"/>\n",
       "\t<text x=\"1568.04\" y=\"2619.14\" style=\"font-family:'Helvetica';font-size:99.99px;fill:#000000\" text-anchor=\"middle\">100</text>\n",
       "\t<line x1=\"2681.91\" y1=\"2489.19\" x2=\"2681.91\" y2=\"2529.16\" style=\"stroke:#000000;stroke-width:5.76\"/>\n",
       "\t<text x=\"2681.91\" y=\"2619.14\" style=\"font-family:'Helvetica';font-size:99.99px;fill:#000000\" text-anchor=\"middle\">200</text>\n",
       "\t<line x1=\"3795.66\" y1=\"2489.19\" x2=\"3795.66\" y2=\"2529.16\" style=\"stroke:#000000;stroke-width:5.76\"/>\n",
       "\t<text x=\"3795.66\" y=\"2619.14\" style=\"font-family:'Helvetica';font-size:99.99px;fill:#000000\" text-anchor=\"middle\">300</text>\n",
       "\t<text x=\"2124.91\" y=\"2729.16\" style=\"font-family:'Helvetica';font-size:99.99px;fill:#000000\" text-anchor=\"middle\">AIP</text>\n",
       "\t<text x=\"2124.91\" y=\"215.98\" style=\"font-family:'Helvetica';font-size:139.96px;fill:#000000\" text-anchor=\"middle\">Scatterplot of AIP and AUP</text>\n",
       "</svg>\n"
      ],
      "text/html": [
       "                <iframe frameborder=\"0\" scrolling=\"no\" height=\"436\" width=\"600\"                srcdoc=\"<html><body>&lt;?xml version=&quot;1.0&quot; encoding=&quot;UTF-8&quot; standalone=&quot;no&quot;?&gt;\n",
       "&lt;!-- This is a Stata 15.1 generated SVG file (http://www.stata.com) --&gt;\n",
       "\n",
       "&lt;svg version=&quot;1.1&quot; width=&quot;600px&quot; height=&quot;436px&quot; viewBox=&quot;0 0 3960 2880&quot; xmlns=&quot;http://www.w3.org/2000/svg&quot; xmlns:xlink=&quot;http://www.w3.org/1999/xlink&quot;&gt;\n",
       "\t&lt;desc&gt;Stata Graph - Graph&lt;/desc&gt;\n",
       "\t&lt;rect x=&quot;0&quot; y=&quot;0&quot; width=&quot;3960&quot; height=&quot;2880&quot; style=&quot;fill:#FFFFFF;stroke:none&quot;/&gt;\n",
       "\t&lt;rect x=&quot;0.00&quot; y=&quot;0.00&quot; width=&quot;3959.88&quot; height=&quot;2880.00&quot; style=&quot;fill:#FFFFFF&quot;/&gt;\n",
       "\t&lt;rect x=&quot;2.88&quot; y=&quot;2.88&quot; width=&quot;3954.12&quot; height=&quot;2874.24&quot; style=&quot;fill:none;stroke:#FFFFFF;stroke-width:5.76&quot;/&gt;\n",
       "\t&lt;rect x=&quot;393.68&quot; y=&quot;278.23&quot; width=&quot;3462.46&quot; height=&quot;2208.07&quot; style=&quot;fill:none;stroke:#000000;stroke-width:5.76&quot;/&gt;\n",
       "\t&lt;circle cx=&quot;3498.04&quot; cy=&quot;671.49&quot; r=&quot;26.35&quot; style=&quot;fill:#606060&quot;/&gt;\n",
       "\t&lt;circle cx=&quot;3498.04&quot; cy=&quot;671.49&quot; r=&quot;22.03&quot; style=&quot;fill:none;stroke:#606060;stroke-width:8.64&quot;/&gt;\n",
       "\t&lt;circle cx=&quot;932.09&quot; cy=&quot;1938.11&quot; r=&quot;26.35&quot; style=&quot;fill:#606060&quot;/&gt;\n",
       "\t&lt;circle cx=&quot;932.09&quot; cy=&quot;1938.11&quot; r=&quot;22.03&quot; style=&quot;fill:none;stroke:#606060;stroke-width:8.64&quot;/&gt;\n",
       "\t&lt;circle cx=&quot;2097.07&quot; cy=&quot;1347.43&quot; r=&quot;26.35&quot; style=&quot;fill:#606060&quot;/&gt;\n",
       "\t&lt;circle cx=&quot;2097.07&quot; cy=&quot;1347.43&quot; r=&quot;22.03&quot; style=&quot;fill:none;stroke:#606060;stroke-width:8.64&quot;/&gt;\n",
       "\t&lt;circle cx=&quot;1632.88&quot; cy=&quot;1571.55&quot; r=&quot;26.35&quot; style=&quot;fill:#606060&quot;/&gt;\n",
       "\t&lt;circle cx=&quot;1632.88&quot; cy=&quot;1571.55&quot; r=&quot;22.03&quot; style=&quot;fill:none;stroke:#606060;stroke-width:8.64&quot;/&gt;\n",
       "\t&lt;circle cx=&quot;3673.89&quot; cy=&quot;586.72&quot; r=&quot;26.35&quot; style=&quot;fill:#606060&quot;/&gt;\n",
       "\t&lt;circle cx=&quot;3673.89&quot; cy=&quot;586.72&quot; r=&quot;22.03&quot; style=&quot;fill:none;stroke:#606060;stroke-width:8.64&quot;/&gt;\n",
       "\t&lt;circle cx=&quot;644.24&quot; cy=&quot;2099.86&quot; r=&quot;26.35&quot; style=&quot;fill:#606060&quot;/&gt;\n",
       "\t&lt;circle cx=&quot;644.24&quot; cy=&quot;2099.86&quot; r=&quot;22.03&quot; style=&quot;fill:none;stroke:#606060;stroke-width:8.64&quot;/&gt;\n",
       "\t&lt;circle cx=&quot;1238.37&quot; cy=&quot;1765.97&quot; r=&quot;26.35&quot; style=&quot;fill:#606060&quot;/&gt;\n",
       "\t&lt;circle cx=&quot;1238.37&quot; cy=&quot;1765.97&quot; r=&quot;22.03&quot; style=&quot;fill:none;stroke:#606060;stroke-width:8.64&quot;/&gt;\n",
       "\t&lt;circle cx=&quot;994.83&quot; cy=&quot;1902.72&quot; r=&quot;26.35&quot; style=&quot;fill:#606060&quot;/&gt;\n",
       "\t&lt;circle cx=&quot;994.83&quot; cy=&quot;1902.72&quot; r=&quot;22.03&quot; style=&quot;fill:none;stroke:#606060;stroke-width:8.64&quot;/&gt;\n",
       "\t&lt;circle cx=&quot;2105.85&quot; cy=&quot;1343.22&quot; r=&quot;26.35&quot; style=&quot;fill:#606060&quot;/&gt;\n",
       "\t&lt;circle cx=&quot;2105.85&quot; cy=&quot;1343.22&quot; r=&quot;22.03&quot; style=&quot;fill:none;stroke:#606060;stroke-width:8.64&quot;/&gt;\n",
       "\t&lt;circle cx=&quot;1659.61&quot; cy=&quot;1558.56&quot; r=&quot;26.35&quot; style=&quot;fill:#606060&quot;/&gt;\n",
       "\t&lt;circle cx=&quot;1659.61&quot; cy=&quot;1558.56&quot; r=&quot;22.03&quot; style=&quot;fill:none;stroke:#606060;stroke-width:8.64&quot;/&gt;\n",
       "\t&lt;circle cx=&quot;799.92&quot; cy=&quot;2012.36&quot; r=&quot;26.35&quot; style=&quot;fill:#606060&quot;/&gt;\n",
       "\t&lt;circle cx=&quot;799.92&quot; cy=&quot;2012.36&quot; r=&quot;22.03&quot; style=&quot;fill:none;stroke:#606060;stroke-width:8.64&quot;/&gt;\n",
       "\t&lt;circle cx=&quot;1228.71&quot; cy=&quot;1771.29&quot; r=&quot;26.35&quot; style=&quot;fill:#606060&quot;/&gt;\n",
       "\t&lt;circle cx=&quot;1228.71&quot; cy=&quot;1771.29&quot; r=&quot;22.03&quot; style=&quot;fill:none;stroke:#606060;stroke-width:8.64&quot;/&gt;\n",
       "\t&lt;circle cx=&quot;3498.04&quot; cy=&quot;671.49&quot; r=&quot;26.35&quot; style=&quot;fill:#606060&quot;/&gt;\n",
       "\t&lt;circle cx=&quot;3498.04&quot; cy=&quot;671.49&quot; r=&quot;22.03&quot; style=&quot;fill:none;stroke:#606060;stroke-width:8.64&quot;/&gt;\n",
       "\t&lt;circle cx=&quot;2102.64&quot; cy=&quot;1344.83&quot; r=&quot;26.35&quot; style=&quot;fill:#606060&quot;/&gt;\n",
       "\t&lt;circle cx=&quot;2102.64&quot; cy=&quot;1344.83&quot; r=&quot;22.03&quot; style=&quot;fill:none;stroke:#606060;stroke-width:8.64&quot;/&gt;\n",
       "\t&lt;circle cx=&quot;621.10&quot; cy=&quot;2112.85&quot; r=&quot;26.35&quot; style=&quot;fill:#606060&quot;/&gt;\n",
       "\t&lt;circle cx=&quot;621.10&quot; cy=&quot;2112.85&quot; r=&quot;22.03&quot; style=&quot;fill:none;stroke:#606060;stroke-width:8.64&quot;/&gt;\n",
       "\t&lt;circle cx=&quot;625.06&quot; cy=&quot;2110.62&quot; r=&quot;26.35&quot; style=&quot;fill:#606060&quot;/&gt;\n",
       "\t&lt;circle cx=&quot;625.06&quot; cy=&quot;2110.62&quot; r=&quot;22.03&quot; style=&quot;fill:none;stroke:#606060;stroke-width:8.64&quot;/&gt;\n",
       "\t&lt;circle cx=&quot;715.89&quot; cy=&quot;2059.64&quot; r=&quot;26.35&quot; style=&quot;fill:#606060&quot;/&gt;\n",
       "\t&lt;circle cx=&quot;715.89&quot; cy=&quot;2059.64&quot; r=&quot;22.03&quot; style=&quot;fill:none;stroke:#606060;stroke-width:8.64&quot;/&gt;\n",
       "\t&lt;circle cx=&quot;603.28&quot; cy=&quot;2122.87&quot; r=&quot;26.35&quot; style=&quot;fill:#606060&quot;/&gt;\n",
       "\t&lt;circle cx=&quot;603.28&quot; cy=&quot;2122.87&quot; r=&quot;22.03&quot; style=&quot;fill:none;stroke:#606060;stroke-width:8.64&quot;/&gt;\n",
       "\t&lt;circle cx=&quot;1792.27&quot; cy=&quot;1494.58&quot; r=&quot;26.35&quot; style=&quot;fill:#606060&quot;/&gt;\n",
       "\t&lt;circle cx=&quot;1792.27&quot; cy=&quot;1494.58&quot; r=&quot;22.03&quot; style=&quot;fill:none;stroke:#606060;stroke-width:8.64&quot;/&gt;\n",
       "\t&lt;circle cx=&quot;655.38&quot; cy=&quot;2093.67&quot; r=&quot;26.35&quot; style=&quot;fill:#606060&quot;/&gt;\n",
       "\t&lt;circle cx=&quot;655.38&quot; cy=&quot;2093.67&quot; r=&quot;22.03&quot; style=&quot;fill:none;stroke:#606060;stroke-width:8.64&quot;/&gt;\n",
       "\t&lt;circle cx=&quot;1024.53&quot; cy=&quot;1886.13&quot; r=&quot;26.35&quot; style=&quot;fill:#606060&quot;/&gt;\n",
       "\t&lt;circle cx=&quot;1024.53&quot; cy=&quot;1886.13&quot; r=&quot;22.03&quot; style=&quot;fill:none;stroke:#606060;stroke-width:8.64&quot;/&gt;\n",
       "\t&lt;circle cx=&quot;3690.47&quot; cy=&quot;578.67&quot; r=&quot;26.35&quot; style=&quot;fill:#606060&quot;/&gt;\n",
       "\t&lt;circle cx=&quot;3690.47&quot; cy=&quot;578.67&quot; r=&quot;22.03&quot; style=&quot;fill:none;stroke:#606060;stroke-width:8.64&quot;/&gt;\n",
       "\t&lt;circle cx=&quot;597.84&quot; cy=&quot;2125.97&quot; r=&quot;26.35&quot; style=&quot;fill:#606060&quot;/&gt;\n",
       "\t&lt;circle cx=&quot;597.84&quot; cy=&quot;2125.97&quot; r=&quot;22.03&quot; style=&quot;fill:none;stroke:#606060;stroke-width:8.64&quot;/&gt;\n",
       "\t&lt;circle cx=&quot;1457.03&quot; cy=&quot;1656.32&quot; r=&quot;26.35&quot; style=&quot;fill:#606060&quot;/&gt;\n",
       "\t&lt;circle cx=&quot;1457.03&quot; cy=&quot;1656.32&quot; r=&quot;22.03&quot; style=&quot;fill:none;stroke:#606060;stroke-width:8.64&quot;/&gt;\n",
       "\t&lt;circle cx=&quot;1126.99&quot; cy=&quot;1828.46&quot; r=&quot;26.35&quot; style=&quot;fill:#606060&quot;/&gt;\n",
       "\t&lt;circle cx=&quot;1126.99&quot; cy=&quot;1828.46&quot; r=&quot;22.03&quot; style=&quot;fill:none;stroke:#606060;stroke-width:8.64&quot;/&gt;\n",
       "\t&lt;circle cx=&quot;956.84&quot; cy=&quot;1924.13&quot; r=&quot;26.35&quot; style=&quot;fill:#606060&quot;/&gt;\n",
       "\t&lt;circle cx=&quot;956.84&quot; cy=&quot;1924.13&quot; r=&quot;22.03&quot; style=&quot;fill:none;stroke:#606060;stroke-width:8.64&quot;/&gt;\n",
       "\t&lt;circle cx=&quot;1055.59&quot; cy=&quot;1868.68&quot; r=&quot;26.35&quot; style=&quot;fill:#606060&quot;/&gt;\n",
       "\t&lt;circle cx=&quot;1055.59&quot; cy=&quot;1868.68&quot; r=&quot;22.03&quot; style=&quot;fill:none;stroke:#606060;stroke-width:8.64&quot;/&gt;\n",
       "\t&lt;circle cx=&quot;788.29&quot; cy=&quot;2018.92&quot; r=&quot;26.35&quot; style=&quot;fill:#606060&quot;/&gt;\n",
       "\t&lt;circle cx=&quot;788.29&quot; cy=&quot;2018.92&quot; r=&quot;22.03&quot; style=&quot;fill:none;stroke:#606060;stroke-width:8.64&quot;/&gt;\n",
       "\t&lt;circle cx=&quot;2102.64&quot; cy=&quot;1344.83&quot; r=&quot;26.35&quot; style=&quot;fill:#606060&quot;/&gt;\n",
       "\t&lt;circle cx=&quot;2102.64&quot; cy=&quot;1344.83&quot; r=&quot;22.03&quot; style=&quot;fill:none;stroke:#606060;stroke-width:8.64&quot;/&gt;\n",
       "\t&lt;circle cx=&quot;1212.63&quot; cy=&quot;1780.32&quot; r=&quot;26.35&quot; style=&quot;fill:#606060&quot;/&gt;\n",
       "\t&lt;circle cx=&quot;1212.63&quot; cy=&quot;1780.32&quot; r=&quot;22.03&quot; style=&quot;fill:none;stroke:#606060;stroke-width:8.64&quot;/&gt;\n",
       "\t&lt;circle cx=&quot;1111.28&quot; cy=&quot;1837.37&quot; r=&quot;26.35&quot; style=&quot;fill:#606060&quot;/&gt;\n",
       "\t&lt;circle cx=&quot;1111.28&quot; cy=&quot;1837.37&quot; r=&quot;22.03&quot; style=&quot;fill:none;stroke:#606060;stroke-width:8.64&quot;/&gt;\n",
       "\t&lt;circle cx=&quot;1512.22&quot; cy=&quot;1629.71&quot; r=&quot;26.35&quot; style=&quot;fill:#606060&quot;/&gt;\n",
       "\t&lt;circle cx=&quot;1512.22&quot; cy=&quot;1629.71&quot; r=&quot;22.03&quot; style=&quot;fill:none;stroke:#606060;stroke-width:8.64&quot;/&gt;\n",
       "\t&lt;circle cx=&quot;1723.84&quot; cy=&quot;1527.62&quot; r=&quot;26.35&quot; style=&quot;fill:#606060&quot;/&gt;\n",
       "\t&lt;circle cx=&quot;1723.84&quot; cy=&quot;1527.62&quot; r=&quot;22.03&quot; style=&quot;fill:none;stroke:#606060;stroke-width:8.64&quot;/&gt;\n",
       "\t&lt;circle cx=&quot;820.71&quot; cy=&quot;2000.73&quot; r=&quot;26.35&quot; style=&quot;fill:#606060&quot;/&gt;\n",
       "\t&lt;circle cx=&quot;820.71&quot; cy=&quot;2000.73&quot; r=&quot;22.03&quot; style=&quot;fill:none;stroke:#606060;stroke-width:8.64&quot;/&gt;\n",
       "\t&lt;circle cx=&quot;1556.78&quot; cy=&quot;1608.18&quot; r=&quot;26.35&quot; style=&quot;fill:#606060&quot;/&gt;\n",
       "\t&lt;circle cx=&quot;1556.78&quot; cy=&quot;1608.18&quot; r=&quot;22.03&quot; style=&quot;fill:none;stroke:#606060;stroke-width:8.64&quot;/&gt;\n",
       "\t&lt;circle cx=&quot;788.29&quot; cy=&quot;2018.92&quot; r=&quot;26.35&quot; style=&quot;fill:#606060&quot;/&gt;\n",
       "\t&lt;circle cx=&quot;788.29&quot; cy=&quot;2018.92&quot; r=&quot;22.03&quot; style=&quot;fill:none;stroke:#606060;stroke-width:8.64&quot;/&gt;\n",
       "\t&lt;circle cx=&quot;1211.51&quot; cy=&quot;1780.94&quot; r=&quot;26.35&quot; style=&quot;fill:#606060&quot;/&gt;\n",
       "\t&lt;circle cx=&quot;1211.51&quot; cy=&quot;1780.94&quot; r=&quot;22.03&quot; style=&quot;fill:none;stroke:#606060;stroke-width:8.64&quot;/&gt;\n",
       "\t&lt;circle cx=&quot;547.72&quot; cy=&quot;2154.06&quot; r=&quot;26.35&quot; style=&quot;fill:#606060&quot;/&gt;\n",
       "\t&lt;circle cx=&quot;547.72&quot; cy=&quot;2154.06&quot; r=&quot;22.03&quot; style=&quot;fill:none;stroke:#606060;stroke-width:8.64&quot;/&gt;\n",
       "\t&lt;circle cx=&quot;1512.22&quot; cy=&quot;1629.71&quot; r=&quot;26.35&quot; style=&quot;fill:#606060&quot;/&gt;\n",
       "\t&lt;circle cx=&quot;1512.22&quot; cy=&quot;1629.71&quot; r=&quot;22.03&quot; style=&quot;fill:none;stroke:#606060;stroke-width:8.64&quot;/&gt;\n",
       "\t&lt;circle cx=&quot;1055.59&quot; cy=&quot;1868.68&quot; r=&quot;26.35&quot; style=&quot;fill:#606060&quot;/&gt;\n",
       "\t&lt;circle cx=&quot;1055.59&quot; cy=&quot;1868.68&quot; r=&quot;22.03&quot; style=&quot;fill:none;stroke:#606060;stroke-width:8.64&quot;/&gt;\n",
       "\t&lt;circle cx=&quot;671.22&quot; cy=&quot;2084.63&quot; r=&quot;26.35&quot; style=&quot;fill:#606060&quot;/&gt;\n",
       "\t&lt;circle cx=&quot;671.22&quot; cy=&quot;2084.63&quot; r=&quot;22.03&quot; style=&quot;fill:none;stroke:#606060;stroke-width:8.64&quot;/&gt;\n",
       "\t&lt;circle cx=&quot;654.51&quot; cy=&quot;2094.04&quot; r=&quot;26.35&quot; style=&quot;fill:#606060&quot;/&gt;\n",
       "\t&lt;circle cx=&quot;654.51&quot; cy=&quot;2094.04&quot; r=&quot;22.03&quot; style=&quot;fill:none;stroke:#606060;stroke-width:8.64&quot;/&gt;\n",
       "\t&lt;circle cx=&quot;625.68&quot; cy=&quot;2110.25&quot; r=&quot;26.35&quot; style=&quot;fill:#606060&quot;/&gt;\n",
       "\t&lt;circle cx=&quot;625.68&quot; cy=&quot;2110.25&quot; r=&quot;22.03&quot; style=&quot;fill:none;stroke:#606060;stroke-width:8.64&quot;/&gt;\n",
       "\t&lt;circle cx=&quot;532.87&quot; cy=&quot;2162.48&quot; r=&quot;26.35&quot; style=&quot;fill:#606060&quot;/&gt;\n",
       "\t&lt;circle cx=&quot;532.87&quot; cy=&quot;2162.48&quot; r=&quot;22.03&quot; style=&quot;fill:none;stroke:#606060;stroke-width:8.64&quot;/&gt;\n",
       "\t&lt;circle cx=&quot;511.09&quot; cy=&quot;2174.73&quot; r=&quot;26.35&quot; style=&quot;fill:#606060&quot;/&gt;\n",
       "\t&lt;circle cx=&quot;511.09&quot; cy=&quot;2174.73&quot; r=&quot;22.03&quot; style=&quot;fill:none;stroke:#606060;stroke-width:8.64&quot;/&gt;\n",
       "\t&lt;circle cx=&quot;2105.85&quot; cy=&quot;1343.22&quot; r=&quot;26.35&quot; style=&quot;fill:#606060&quot;/&gt;\n",
       "\t&lt;circle cx=&quot;2105.85&quot; cy=&quot;1343.22&quot; r=&quot;22.03&quot; style=&quot;fill:none;stroke:#606060;stroke-width:8.64&quot;/&gt;\n",
       "\t&lt;circle cx=&quot;3425.15&quot; cy=&quot;706.63&quot; r=&quot;26.35&quot; style=&quot;fill:#606060&quot;/&gt;\n",
       "\t&lt;circle cx=&quot;3425.15&quot; cy=&quot;706.63&quot; r=&quot;22.03&quot; style=&quot;fill:none;stroke:#606060;stroke-width:8.64&quot;/&gt;\n",
       "\t&lt;circle cx=&quot;519.75&quot; cy=&quot;2169.78&quot; r=&quot;26.35&quot; style=&quot;fill:#606060&quot;/&gt;\n",
       "\t&lt;circle cx=&quot;519.75&quot; cy=&quot;2169.78&quot; r=&quot;22.03&quot; style=&quot;fill:none;stroke:#606060;stroke-width:8.64&quot;/&gt;\n",
       "\t&lt;circle cx=&quot;598.83&quot; cy=&quot;2125.35&quot; r=&quot;26.35&quot; style=&quot;fill:#606060&quot;/&gt;\n",
       "\t&lt;circle cx=&quot;598.83&quot; cy=&quot;2125.35&quot; r=&quot;22.03&quot; style=&quot;fill:none;stroke:#606060;stroke-width:8.64&quot;/&gt;\n",
       "\t&lt;circle cx=&quot;1512.22&quot; cy=&quot;1629.71&quot; r=&quot;26.35&quot; style=&quot;fill:#606060&quot;/&gt;\n",
       "\t&lt;circle cx=&quot;1512.22&quot; cy=&quot;1629.71&quot; r=&quot;22.03&quot; style=&quot;fill:none;stroke:#606060;stroke-width:8.64&quot;/&gt;\n",
       "\t&lt;circle cx=&quot;1657.01&quot; cy=&quot;1559.79&quot; r=&quot;26.35&quot; style=&quot;fill:#606060&quot;/&gt;\n",
       "\t&lt;circle cx=&quot;1657.01&quot; cy=&quot;1559.79&quot; r=&quot;22.03&quot; style=&quot;fill:none;stroke:#606060;stroke-width:8.64&quot;/&gt;\n",
       "\t&lt;circle cx=&quot;654.51&quot; cy=&quot;2094.04&quot; r=&quot;26.35&quot; style=&quot;fill:#606060&quot;/&gt;\n",
       "\t&lt;circle cx=&quot;654.51&quot; cy=&quot;2094.04&quot; r=&quot;22.03&quot; style=&quot;fill:none;stroke:#606060;stroke-width:8.64&quot;/&gt;\n",
       "\t&lt;circle cx=&quot;699.19&quot; cy=&quot;2069.04&quot; r=&quot;26.35&quot; style=&quot;fill:#606060&quot;/&gt;\n",
       "\t&lt;circle cx=&quot;699.19&quot; cy=&quot;2069.04&quot; r=&quot;22.03&quot; style=&quot;fill:none;stroke:#606060;stroke-width:8.64&quot;/&gt;\n",
       "\t&lt;circle cx=&quot;2102.64&quot; cy=&quot;1344.83&quot; r=&quot;26.35&quot; style=&quot;fill:#606060&quot;/&gt;\n",
       "\t&lt;circle cx=&quot;2102.64&quot; cy=&quot;1344.83&quot; r=&quot;22.03&quot; style=&quot;fill:none;stroke:#606060;stroke-width:8.64&quot;/&gt;\n",
       "\t&lt;circle cx=&quot;3767.82&quot; cy=&quot;541.30&quot; r=&quot;26.35&quot; style=&quot;fill:#606060&quot;/&gt;\n",
       "\t&lt;circle cx=&quot;3767.82&quot; cy=&quot;541.30&quot; r=&quot;22.03&quot; style=&quot;fill:none;stroke:#606060;stroke-width:8.64&quot;/&gt;\n",
       "\t&lt;circle cx=&quot;810.56&quot; cy=&quot;2006.42&quot; r=&quot;26.35&quot; style=&quot;fill:#606060&quot;/&gt;\n",
       "\t&lt;circle cx=&quot;810.56&quot; cy=&quot;2006.42&quot; r=&quot;22.03&quot; style=&quot;fill:none;stroke:#606060;stroke-width:8.64&quot;/&gt;\n",
       "\t&lt;line x1=&quot;390.80&quot; y1=&quot;2489.19&quot; x2=&quot;390.80&quot; y2=&quot;275.35&quot; style=&quot;stroke:#000000;stroke-width:5.76&quot;/&gt;\n",
       "\t&lt;line x1=&quot;390.80&quot; y1=&quot;2425.82&quot; x2=&quot;350.83&quot; y2=&quot;2425.82&quot; style=&quot;stroke:#000000;stroke-width:5.76&quot;/&gt;\n",
       "\t&lt;text x=&quot;300.72&quot; y=&quot;2425.82&quot; style=&quot;font-family:&#x27;Helvetica&#x27;;font-size:99.99px;fill:#000000&quot; transform=&quot;rotate(-90 300.72,2425.82)&quot; text-anchor=&quot;middle&quot;&gt;0&lt;/text&gt;\n",
       "\t&lt;line x1=&quot;390.80&quot; y1=&quot;1904.08&quot; x2=&quot;350.83&quot; y2=&quot;1904.08&quot; style=&quot;stroke:#000000;stroke-width:5.76&quot;/&gt;\n",
       "\t&lt;text x=&quot;300.72&quot; y=&quot;1904.08&quot; style=&quot;font-family:&#x27;Helvetica&#x27;;font-size:99.99px;fill:#000000&quot; transform=&quot;rotate(-90 300.72,1904.08)&quot; text-anchor=&quot;middle&quot;&gt;100&lt;/text&gt;\n",
       "\t&lt;line x1=&quot;390.80&quot; y1=&quot;1382.33&quot; x2=&quot;350.83&quot; y2=&quot;1382.33&quot; style=&quot;stroke:#000000;stroke-width:5.76&quot;/&gt;\n",
       "\t&lt;text x=&quot;300.72&quot; y=&quot;1382.33&quot; style=&quot;font-family:&#x27;Helvetica&#x27;;font-size:99.99px;fill:#000000&quot; transform=&quot;rotate(-90 300.72,1382.33)&quot; text-anchor=&quot;middle&quot;&gt;200&lt;/text&gt;\n",
       "\t&lt;line x1=&quot;390.80&quot; y1=&quot;860.46&quot; x2=&quot;350.83&quot; y2=&quot;860.46&quot; style=&quot;stroke:#000000;stroke-width:5.76&quot;/&gt;\n",
       "\t&lt;text x=&quot;300.72&quot; y=&quot;860.46&quot; style=&quot;font-family:&#x27;Helvetica&#x27;;font-size:99.99px;fill:#000000&quot; transform=&quot;rotate(-90 300.72,860.46)&quot; text-anchor=&quot;middle&quot;&gt;300&lt;/text&gt;\n",
       "\t&lt;line x1=&quot;390.80&quot; y1=&quot;338.71&quot; x2=&quot;350.83&quot; y2=&quot;338.71&quot; style=&quot;stroke:#000000;stroke-width:5.76&quot;/&gt;\n",
       "\t&lt;text x=&quot;300.72&quot; y=&quot;338.71&quot; style=&quot;font-family:&#x27;Helvetica&#x27;;font-size:99.99px;fill:#000000&quot; transform=&quot;rotate(-90 300.72,338.71)&quot; text-anchor=&quot;middle&quot;&gt;400&lt;/text&gt;\n",
       "\t&lt;text x=&quot;190.71&quot; y=&quot;1382.33&quot; style=&quot;font-family:&#x27;Helvetica&#x27;;font-size:99.99px;fill:#000000&quot; transform=&quot;rotate(-90 190.71,1382.33)&quot; text-anchor=&quot;middle&quot;&gt;AUP&lt;/text&gt;\n",
       "\t&lt;line x1=&quot;390.80&quot; y1=&quot;2489.19&quot; x2=&quot;3859.02&quot; y2=&quot;2489.19&quot; style=&quot;stroke:#000000;stroke-width:5.76&quot;/&gt;\n",
       "\t&lt;line x1=&quot;454.16&quot; y1=&quot;2489.19&quot; x2=&quot;454.16&quot; y2=&quot;2529.16&quot; style=&quot;stroke:#000000;stroke-width:5.76&quot;/&gt;\n",
       "\t&lt;text x=&quot;454.16&quot; y=&quot;2619.14&quot; style=&quot;font-family:&#x27;Helvetica&#x27;;font-size:99.99px;fill:#000000&quot; text-anchor=&quot;middle&quot;&gt;0&lt;/text&gt;\n",
       "\t&lt;line x1=&quot;1568.04&quot; y1=&quot;2489.19&quot; x2=&quot;1568.04&quot; y2=&quot;2529.16&quot; style=&quot;stroke:#000000;stroke-width:5.76&quot;/&gt;\n",
       "\t&lt;text x=&quot;1568.04&quot; y=&quot;2619.14&quot; style=&quot;font-family:&#x27;Helvetica&#x27;;font-size:99.99px;fill:#000000&quot; text-anchor=&quot;middle&quot;&gt;100&lt;/text&gt;\n",
       "\t&lt;line x1=&quot;2681.91&quot; y1=&quot;2489.19&quot; x2=&quot;2681.91&quot; y2=&quot;2529.16&quot; style=&quot;stroke:#000000;stroke-width:5.76&quot;/&gt;\n",
       "\t&lt;text x=&quot;2681.91&quot; y=&quot;2619.14&quot; style=&quot;font-family:&#x27;Helvetica&#x27;;font-size:99.99px;fill:#000000&quot; text-anchor=&quot;middle&quot;&gt;200&lt;/text&gt;\n",
       "\t&lt;line x1=&quot;3795.66&quot; y1=&quot;2489.19&quot; x2=&quot;3795.66&quot; y2=&quot;2529.16&quot; style=&quot;stroke:#000000;stroke-width:5.76&quot;/&gt;\n",
       "\t&lt;text x=&quot;3795.66&quot; y=&quot;2619.14&quot; style=&quot;font-family:&#x27;Helvetica&#x27;;font-size:99.99px;fill:#000000&quot; text-anchor=&quot;middle&quot;&gt;300&lt;/text&gt;\n",
       "\t&lt;text x=&quot;2124.91&quot; y=&quot;2729.16&quot; style=&quot;font-family:&#x27;Helvetica&#x27;;font-size:99.99px;fill:#000000&quot; text-anchor=&quot;middle&quot;&gt;AIP&lt;/text&gt;\n",
       "\t&lt;text x=&quot;2124.91&quot; y=&quot;215.98&quot; style=&quot;font-family:&#x27;Helvetica&#x27;;font-size:139.96px;fill:#000000&quot; text-anchor=&quot;middle&quot;&gt;Scatterplot of AIP and AUP&lt;/text&gt;\n",
       "&lt;/svg&gt;\n",
       "</body></html>\"></iframe>\n"
      ],
      "text/plain": [
       "This front-end cannot display the desired image type."
      ]
     },
     "metadata": {
      "image/svg+xml": {
       "height": 436,
       "width": 600
      },
      "text/html": {
       "height": 436,
       "width": 600
      }
     },
     "output_type": "display_data"
    },
    {
     "name": "stdout",
     "output_type": "stream",
     "text": [
      "\n",
      "\n",
      "\n",
      "\n",
      "\n",
      "(bin=7, start=5.12, width=41.768571)\n"
     ]
    },
    {
     "data": {
      "application/pdf": "[encoded data removed]",
      "image/svg+xml": [
       "<?xml version=\"1.0\" encoding=\"UTF-8\" standalone=\"no\"?>\n",
       "<!-- This is a Stata 15.1 generated SVG file (http://www.stata.com) -->\n",
       "\n",
       "<svg version=\"1.1\" width=\"600px\" height=\"436px\" viewBox=\"0 0 3960 2880\" xmlns=\"http://www.w3.org/2000/svg\" xmlns:xlink=\"http://www.w3.org/1999/xlink\">\n",
       "\t<desc>Stata Graph - Graph</desc>\n",
       "\t<rect x=\"0\" y=\"0\" width=\"3960\" height=\"2880\" style=\"fill:#FFFFFF;stroke:none\"/>\n",
       "\t<rect x=\"0.00\" y=\"0.00\" width=\"3959.88\" height=\"2880.00\" style=\"fill:#FFFFFF\"/>\n",
       "\t<rect x=\"2.88\" y=\"2.88\" width=\"3954.12\" height=\"2874.24\" style=\"fill:none;stroke:#FFFFFF;stroke-width:5.76\"/>\n",
       "\t<rect x=\"393.68\" y=\"278.23\" width=\"3462.46\" height=\"2208.07\" style=\"fill:none;stroke:#000000;stroke-width:5.76\"/>\n",
       "\t<rect x=\"675.18\" y=\"338.71\" width=\"442.03\" height=\"2150.47\" style=\"fill:#808080\"/>\n",
       "\t<rect x=\"679.50\" y=\"343.03\" width=\"433.40\" height=\"2141.83\" style=\"fill:none;stroke:#000000;stroke-width:8.64\"/>\n",
       "\t<rect x=\"1117.21\" y=\"1593.21\" width=\"441.91\" height=\"895.98\" style=\"fill:#808080\"/>\n",
       "\t<rect x=\"1121.53\" y=\"1597.53\" width=\"433.27\" height=\"887.34\" style=\"fill:none;stroke:#000000;stroke-width:8.64\"/>\n",
       "\t<rect x=\"1559.13\" y=\"1593.21\" width=\"442.04\" height=\"895.98\" style=\"fill:#808080\"/>\n",
       "\t<rect x=\"1563.45\" y=\"1597.53\" width=\"433.40\" height=\"887.34\" style=\"fill:none;stroke:#000000;stroke-width:8.64\"/>\n",
       "\t<rect x=\"2001.16\" y=\"1951.60\" width=\"442.03\" height=\"537.59\" style=\"fill:#808080\"/>\n",
       "\t<rect x=\"2005.48\" y=\"1955.92\" width=\"433.40\" height=\"528.95\" style=\"fill:none;stroke:#000000;stroke-width:8.64\"/>\n",
       "\t<rect x=\"3327.27\" y=\"1951.60\" width=\"442.03\" height=\"537.59\" style=\"fill:#808080\"/>\n",
       "\t<rect x=\"3331.59\" y=\"1955.92\" width=\"433.40\" height=\"528.95\" style=\"fill:none;stroke:#000000;stroke-width:8.64\"/>\n",
       "\t<line x1=\"390.80\" y1=\"2489.19\" x2=\"390.80\" y2=\"275.35\" style=\"stroke:#000000;stroke-width:5.76\"/>\n",
       "\t<line x1=\"390.80\" y1=\"2489.19\" x2=\"350.83\" y2=\"2489.19\" style=\"stroke:#000000;stroke-width:5.76\"/>\n",
       "\t<text x=\"300.72\" y=\"2489.19\" style=\"font-family:'Helvetica';font-size:99.99px;fill:#000000\" transform=\"rotate(-90 300.72,2489.19)\" text-anchor=\"middle\">0</text>\n",
       "\t<line x1=\"390.80\" y1=\"2070.03\" x2=\"350.83\" y2=\"2070.03\" style=\"stroke:#000000;stroke-width:5.76\"/>\n",
       "\t<text x=\"300.72\" y=\"2070.03\" style=\"font-family:'Helvetica';font-size:99.99px;fill:#000000\" transform=\"rotate(-90 300.72,2070.03)\" text-anchor=\"middle\">.002</text>\n",
       "\t<line x1=\"390.80\" y1=\"1650.88\" x2=\"350.83\" y2=\"1650.88\" style=\"stroke:#000000;stroke-width:5.76\"/>\n",
       "\t<text x=\"300.72\" y=\"1650.88\" style=\"font-family:'Helvetica';font-size:99.99px;fill:#000000\" transform=\"rotate(-90 300.72,1650.88)\" text-anchor=\"middle\">.004</text>\n",
       "\t<line x1=\"390.80\" y1=\"1231.72\" x2=\"350.83\" y2=\"1231.72\" style=\"stroke:#000000;stroke-width:5.76\"/>\n",
       "\t<text x=\"300.72\" y=\"1231.72\" style=\"font-family:'Helvetica';font-size:99.99px;fill:#000000\" transform=\"rotate(-90 300.72,1231.72)\" text-anchor=\"middle\">.006</text>\n",
       "\t<line x1=\"390.80\" y1=\"812.57\" x2=\"350.83\" y2=\"812.57\" style=\"stroke:#000000;stroke-width:5.76\"/>\n",
       "\t<text x=\"300.72\" y=\"812.57\" style=\"font-family:'Helvetica';font-size:99.99px;fill:#000000\" transform=\"rotate(-90 300.72,812.57)\" text-anchor=\"middle\">.008</text>\n",
       "\t<line x1=\"390.80\" y1=\"393.29\" x2=\"350.83\" y2=\"393.29\" style=\"stroke:#000000;stroke-width:5.76\"/>\n",
       "\t<text x=\"300.72\" y=\"393.29\" style=\"font-family:'Helvetica';font-size:99.99px;fill:#000000\" transform=\"rotate(-90 300.72,393.29)\" text-anchor=\"middle\">.01</text>\n",
       "\t<text x=\"190.71\" y=\"1382.33\" style=\"font-family:'Helvetica';font-size:99.99px;fill:#000000\" transform=\"rotate(-90 190.71,1382.33)\" text-anchor=\"middle\">Density</text>\n",
       "\t<line x1=\"390.80\" y1=\"2489.19\" x2=\"3859.02\" y2=\"2489.19\" style=\"stroke:#000000;stroke-width:5.76\"/>\n",
       "\t<line x1=\"620.98\" y1=\"2489.19\" x2=\"620.98\" y2=\"2529.16\" style=\"stroke:#000000;stroke-width:5.76\"/>\n",
       "\t<text x=\"620.98\" y=\"2619.14\" style=\"font-family:'Helvetica';font-size:99.99px;fill:#000000\" text-anchor=\"middle\">0</text>\n",
       "\t<line x1=\"1679.16\" y1=\"2489.19\" x2=\"1679.16\" y2=\"2529.16\" style=\"stroke:#000000;stroke-width:5.76\"/>\n",
       "\t<text x=\"1679.16\" y=\"2619.14\" style=\"font-family:'Helvetica';font-size:99.99px;fill:#000000\" text-anchor=\"middle\">100</text>\n",
       "\t<line x1=\"2737.47\" y1=\"2489.19\" x2=\"2737.47\" y2=\"2529.16\" style=\"stroke:#000000;stroke-width:5.76\"/>\n",
       "\t<text x=\"2737.47\" y=\"2619.14\" style=\"font-family:'Helvetica';font-size:99.99px;fill:#000000\" text-anchor=\"middle\">200</text>\n",
       "\t<line x1=\"3795.66\" y1=\"2489.19\" x2=\"3795.66\" y2=\"2529.16\" style=\"stroke:#000000;stroke-width:5.76\"/>\n",
       "\t<text x=\"3795.66\" y=\"2619.14\" style=\"font-family:'Helvetica';font-size:99.99px;fill:#000000\" text-anchor=\"middle\">300</text>\n",
       "\t<text x=\"2124.91\" y=\"2729.16\" style=\"font-family:'Helvetica';font-size:99.99px;fill:#000000\" text-anchor=\"middle\">AIP</text>\n",
       "\t<text x=\"2124.91\" y=\"215.98\" style=\"font-family:'Helvetica';font-size:139.96px;fill:#000000\" text-anchor=\"middle\">Histogram of AIP</text>\n",
       "</svg>\n"
      ],
      "text/html": [
       "                <iframe frameborder=\"0\" scrolling=\"no\" height=\"436\" width=\"600\"                srcdoc=\"<html><body>&lt;?xml version=&quot;1.0&quot; encoding=&quot;UTF-8&quot; standalone=&quot;no&quot;?&gt;\n",
       "&lt;!-- This is a Stata 15.1 generated SVG file (http://www.stata.com) --&gt;\n",
       "\n",
       "&lt;svg version=&quot;1.1&quot; width=&quot;600px&quot; height=&quot;436px&quot; viewBox=&quot;0 0 3960 2880&quot; xmlns=&quot;http://www.w3.org/2000/svg&quot; xmlns:xlink=&quot;http://www.w3.org/1999/xlink&quot;&gt;\n",
       "\t&lt;desc&gt;Stata Graph - Graph&lt;/desc&gt;\n",
       "\t&lt;rect x=&quot;0&quot; y=&quot;0&quot; width=&quot;3960&quot; height=&quot;2880&quot; style=&quot;fill:#FFFFFF;stroke:none&quot;/&gt;\n",
       "\t&lt;rect x=&quot;0.00&quot; y=&quot;0.00&quot; width=&quot;3959.88&quot; height=&quot;2880.00&quot; style=&quot;fill:#FFFFFF&quot;/&gt;\n",
       "\t&lt;rect x=&quot;2.88&quot; y=&quot;2.88&quot; width=&quot;3954.12&quot; height=&quot;2874.24&quot; style=&quot;fill:none;stroke:#FFFFFF;stroke-width:5.76&quot;/&gt;\n",
       "\t&lt;rect x=&quot;393.68&quot; y=&quot;278.23&quot; width=&quot;3462.46&quot; height=&quot;2208.07&quot; style=&quot;fill:none;stroke:#000000;stroke-width:5.76&quot;/&gt;\n",
       "\t&lt;rect x=&quot;675.18&quot; y=&quot;338.71&quot; width=&quot;442.03&quot; height=&quot;2150.47&quot; style=&quot;fill:#808080&quot;/&gt;\n",
       "\t&lt;rect x=&quot;679.50&quot; y=&quot;343.03&quot; width=&quot;433.40&quot; height=&quot;2141.83&quot; style=&quot;fill:none;stroke:#000000;stroke-width:8.64&quot;/&gt;\n",
       "\t&lt;rect x=&quot;1117.21&quot; y=&quot;1593.21&quot; width=&quot;441.91&quot; height=&quot;895.98&quot; style=&quot;fill:#808080&quot;/&gt;\n",
       "\t&lt;rect x=&quot;1121.53&quot; y=&quot;1597.53&quot; width=&quot;433.27&quot; height=&quot;887.34&quot; style=&quot;fill:none;stroke:#000000;stroke-width:8.64&quot;/&gt;\n",
       "\t&lt;rect x=&quot;1559.13&quot; y=&quot;1593.21&quot; width=&quot;442.04&quot; height=&quot;895.98&quot; style=&quot;fill:#808080&quot;/&gt;\n",
       "\t&lt;rect x=&quot;1563.45&quot; y=&quot;1597.53&quot; width=&quot;433.40&quot; height=&quot;887.34&quot; style=&quot;fill:none;stroke:#000000;stroke-width:8.64&quot;/&gt;\n",
       "\t&lt;rect x=&quot;2001.16&quot; y=&quot;1951.60&quot; width=&quot;442.03&quot; height=&quot;537.59&quot; style=&quot;fill:#808080&quot;/&gt;\n",
       "\t&lt;rect x=&quot;2005.48&quot; y=&quot;1955.92&quot; width=&quot;433.40&quot; height=&quot;528.95&quot; style=&quot;fill:none;stroke:#000000;stroke-width:8.64&quot;/&gt;\n",
       "\t&lt;rect x=&quot;3327.27&quot; y=&quot;1951.60&quot; width=&quot;442.03&quot; height=&quot;537.59&quot; style=&quot;fill:#808080&quot;/&gt;\n",
       "\t&lt;rect x=&quot;3331.59&quot; y=&quot;1955.92&quot; width=&quot;433.40&quot; height=&quot;528.95&quot; style=&quot;fill:none;stroke:#000000;stroke-width:8.64&quot;/&gt;\n",
       "\t&lt;line x1=&quot;390.80&quot; y1=&quot;2489.19&quot; x2=&quot;390.80&quot; y2=&quot;275.35&quot; style=&quot;stroke:#000000;stroke-width:5.76&quot;/&gt;\n",
       "\t&lt;line x1=&quot;390.80&quot; y1=&quot;2489.19&quot; x2=&quot;350.83&quot; y2=&quot;2489.19&quot; style=&quot;stroke:#000000;stroke-width:5.76&quot;/&gt;\n",
       "\t&lt;text x=&quot;300.72&quot; y=&quot;2489.19&quot; style=&quot;font-family:&#x27;Helvetica&#x27;;font-size:99.99px;fill:#000000&quot; transform=&quot;rotate(-90 300.72,2489.19)&quot; text-anchor=&quot;middle&quot;&gt;0&lt;/text&gt;\n",
       "\t&lt;line x1=&quot;390.80&quot; y1=&quot;2070.03&quot; x2=&quot;350.83&quot; y2=&quot;2070.03&quot; style=&quot;stroke:#000000;stroke-width:5.76&quot;/&gt;\n",
       "\t&lt;text x=&quot;300.72&quot; y=&quot;2070.03&quot; style=&quot;font-family:&#x27;Helvetica&#x27;;font-size:99.99px;fill:#000000&quot; transform=&quot;rotate(-90 300.72,2070.03)&quot; text-anchor=&quot;middle&quot;&gt;.002&lt;/text&gt;\n",
       "\t&lt;line x1=&quot;390.80&quot; y1=&quot;1650.88&quot; x2=&quot;350.83&quot; y2=&quot;1650.88&quot; style=&quot;stroke:#000000;stroke-width:5.76&quot;/&gt;\n",
       "\t&lt;text x=&quot;300.72&quot; y=&quot;1650.88&quot; style=&quot;font-family:&#x27;Helvetica&#x27;;font-size:99.99px;fill:#000000&quot; transform=&quot;rotate(-90 300.72,1650.88)&quot; text-anchor=&quot;middle&quot;&gt;.004&lt;/text&gt;\n",
       "\t&lt;line x1=&quot;390.80&quot; y1=&quot;1231.72&quot; x2=&quot;350.83&quot; y2=&quot;1231.72&quot; style=&quot;stroke:#000000;stroke-width:5.76&quot;/&gt;\n",
       "\t&lt;text x=&quot;300.72&quot; y=&quot;1231.72&quot; style=&quot;font-family:&#x27;Helvetica&#x27;;font-size:99.99px;fill:#000000&quot; transform=&quot;rotate(-90 300.72,1231.72)&quot; text-anchor=&quot;middle&quot;&gt;.006&lt;/text&gt;\n",
       "\t&lt;line x1=&quot;390.80&quot; y1=&quot;812.57&quot; x2=&quot;350.83&quot; y2=&quot;812.57&quot; style=&quot;stroke:#000000;stroke-width:5.76&quot;/&gt;\n",
       "\t&lt;text x=&quot;300.72&quot; y=&quot;812.57&quot; style=&quot;font-family:&#x27;Helvetica&#x27;;font-size:99.99px;fill:#000000&quot; transform=&quot;rotate(-90 300.72,812.57)&quot; text-anchor=&quot;middle&quot;&gt;.008&lt;/text&gt;\n",
       "\t&lt;line x1=&quot;390.80&quot; y1=&quot;393.29&quot; x2=&quot;350.83&quot; y2=&quot;393.29&quot; style=&quot;stroke:#000000;stroke-width:5.76&quot;/&gt;\n",
       "\t&lt;text x=&quot;300.72&quot; y=&quot;393.29&quot; style=&quot;font-family:&#x27;Helvetica&#x27;;font-size:99.99px;fill:#000000&quot; transform=&quot;rotate(-90 300.72,393.29)&quot; text-anchor=&quot;middle&quot;&gt;.01&lt;/text&gt;\n",
       "\t&lt;text x=&quot;190.71&quot; y=&quot;1382.33&quot; style=&quot;font-family:&#x27;Helvetica&#x27;;font-size:99.99px;fill:#000000&quot; transform=&quot;rotate(-90 190.71,1382.33)&quot; text-anchor=&quot;middle&quot;&gt;Density&lt;/text&gt;\n",
       "\t&lt;line x1=&quot;390.80&quot; y1=&quot;2489.19&quot; x2=&quot;3859.02&quot; y2=&quot;2489.19&quot; style=&quot;stroke:#000000;stroke-width:5.76&quot;/&gt;\n",
       "\t&lt;line x1=&quot;620.98&quot; y1=&quot;2489.19&quot; x2=&quot;620.98&quot; y2=&quot;2529.16&quot; style=&quot;stroke:#000000;stroke-width:5.76&quot;/&gt;\n",
       "\t&lt;text x=&quot;620.98&quot; y=&quot;2619.14&quot; style=&quot;font-family:&#x27;Helvetica&#x27;;font-size:99.99px;fill:#000000&quot; text-anchor=&quot;middle&quot;&gt;0&lt;/text&gt;\n",
       "\t&lt;line x1=&quot;1679.16&quot; y1=&quot;2489.19&quot; x2=&quot;1679.16&quot; y2=&quot;2529.16&quot; style=&quot;stroke:#000000;stroke-width:5.76&quot;/&gt;\n",
       "\t&lt;text x=&quot;1679.16&quot; y=&quot;2619.14&quot; style=&quot;font-family:&#x27;Helvetica&#x27;;font-size:99.99px;fill:#000000&quot; text-anchor=&quot;middle&quot;&gt;100&lt;/text&gt;\n",
       "\t&lt;line x1=&quot;2737.47&quot; y1=&quot;2489.19&quot; x2=&quot;2737.47&quot; y2=&quot;2529.16&quot; style=&quot;stroke:#000000;stroke-width:5.76&quot;/&gt;\n",
       "\t&lt;text x=&quot;2737.47&quot; y=&quot;2619.14&quot; style=&quot;font-family:&#x27;Helvetica&#x27;;font-size:99.99px;fill:#000000&quot; text-anchor=&quot;middle&quot;&gt;200&lt;/text&gt;\n",
       "\t&lt;line x1=&quot;3795.66&quot; y1=&quot;2489.19&quot; x2=&quot;3795.66&quot; y2=&quot;2529.16&quot; style=&quot;stroke:#000000;stroke-width:5.76&quot;/&gt;\n",
       "\t&lt;text x=&quot;3795.66&quot; y=&quot;2619.14&quot; style=&quot;font-family:&#x27;Helvetica&#x27;;font-size:99.99px;fill:#000000&quot; text-anchor=&quot;middle&quot;&gt;300&lt;/text&gt;\n",
       "\t&lt;text x=&quot;2124.91&quot; y=&quot;2729.16&quot; style=&quot;font-family:&#x27;Helvetica&#x27;;font-size:99.99px;fill:#000000&quot; text-anchor=&quot;middle&quot;&gt;AIP&lt;/text&gt;\n",
       "\t&lt;text x=&quot;2124.91&quot; y=&quot;215.98&quot; style=&quot;font-family:&#x27;Helvetica&#x27;;font-size:139.96px;fill:#000000&quot; text-anchor=&quot;middle&quot;&gt;Histogram of AIP&lt;/text&gt;\n",
       "&lt;/svg&gt;\n",
       "</body></html>\"></iframe>\n"
      ],
      "text/plain": [
       "This front-end cannot display the desired image type."
      ]
     },
     "metadata": {
      "image/svg+xml": {
       "height": 436,
       "width": 600
      },
      "text/html": {
       "height": 436,
       "width": 600
      }
     },
     "output_type": "display_data"
    },
    {
     "data": {
      "application/pdf": "[encoded data removed]",
      "image/svg+xml": [
       "<?xml version=\"1.0\" encoding=\"UTF-8\" standalone=\"no\"?>\n",
       "<!-- This is a Stata 15.1 generated SVG file (http://www.stata.com) -->\n",
       "\n",
       "<svg version=\"1.1\" width=\"600px\" height=\"436px\" viewBox=\"0 0 3960 2880\" xmlns=\"http://www.w3.org/2000/svg\" xmlns:xlink=\"http://www.w3.org/1999/xlink\">\n",
       "\t<desc>Stata Graph - Graph</desc>\n",
       "\t<rect x=\"0\" y=\"0\" width=\"3960\" height=\"2880\" style=\"fill:#FFFFFF;stroke:none\"/>\n",
       "\t<rect x=\"0.00\" y=\"0.00\" width=\"3959.88\" height=\"2880.00\" style=\"fill:#FFFFFF\"/>\n",
       "\t<rect x=\"2.88\" y=\"2.88\" width=\"3954.12\" height=\"2874.24\" style=\"fill:none;stroke:#FFFFFF;stroke-width:5.76\"/>\n",
       "\t<rect x=\"393.68\" y=\"278.23\" width=\"3462.46\" height=\"2468.08\" style=\"fill:none;stroke:#000000;stroke-width:5.76\"/>\n",
       "\t<line x1=\"390.80\" y1=\"2648.46\" x2=\"3859.02\" y2=\"2648.46\" style=\"stroke:#E0E0E0;stroke-width:8.64\"/>\n",
       "\t<line x1=\"390.80\" y1=\"1890.96\" x2=\"3859.02\" y2=\"1890.96\" style=\"stroke:#E0E0E0;stroke-width:8.64\"/>\n",
       "\t<line x1=\"390.80\" y1=\"1133.59\" x2=\"3859.02\" y2=\"1133.59\" style=\"stroke:#E0E0E0;stroke-width:8.64\"/>\n",
       "\t<line x1=\"390.80\" y1=\"376.21\" x2=\"3859.02\" y2=\"376.21\" style=\"stroke:#E0E0E0;stroke-width:8.64\"/>\n",
       "\t<rect x=\"958.20\" y=\"1806.81\" width=\"2333.43\" height=\"699.33\" style=\"fill:#606060\"/>\n",
       "\t<rect x=\"962.52\" y=\"1811.13\" width=\"2324.79\" height=\"690.69\" style=\"fill:none;stroke:#606060;stroke-width:8.64\"/>\n",
       "\t<line x1=\"958.20\" y1=\"2220.52\" x2=\"3291.63\" y2=\"2220.52\" style=\"stroke:#FFFFFF;stroke-width:12.96\"/>\n",
       "\t<line x1=\"2124.91\" y1=\"2506.14\" x2=\"2124.91\" y2=\"2609.60\" style=\"stroke:#606060;stroke-width:8.64\"/>\n",
       "\t<line x1=\"2124.91\" y1=\"1806.81\" x2=\"2124.91\" y2=\"1525.27\" style=\"stroke:#606060;stroke-width:8.64\"/>\n",
       "\t<line x1=\"1343.31\" y1=\"2609.60\" x2=\"2906.64\" y2=\"2609.60\" style=\"stroke:#606060;stroke-width:8.64\"/>\n",
       "\t<line x1=\"1343.31\" y1=\"1525.27\" x2=\"2906.64\" y2=\"1525.27\" style=\"stroke:#606060;stroke-width:8.64\"/>\n",
       "\t<circle cx=\"2124.91\" cy=\"628.05\" r=\"26.35\" style=\"fill:#606060\"/>\n",
       "\t<circle cx=\"2124.91\" cy=\"628.05\" r=\"22.03\" style=\"fill:none;stroke:#606060;stroke-width:8.64\"/>\n",
       "\t<circle cx=\"2124.91\" cy=\"578.55\" r=\"26.35\" style=\"fill:#606060\"/>\n",
       "\t<circle cx=\"2124.91\" cy=\"578.55\" r=\"22.03\" style=\"fill:none;stroke:#606060;stroke-width:8.64\"/>\n",
       "\t<circle cx=\"2124.91\" cy=\"578.55\" r=\"26.35\" style=\"fill:#606060\"/>\n",
       "\t<circle cx=\"2124.91\" cy=\"578.55\" r=\"22.03\" style=\"fill:none;stroke:#606060;stroke-width:8.64\"/>\n",
       "\t<circle cx=\"2124.91\" cy=\"459.00\" r=\"26.35\" style=\"fill:#606060\"/>\n",
       "\t<circle cx=\"2124.91\" cy=\"459.00\" r=\"22.03\" style=\"fill:none;stroke:#606060;stroke-width:8.64\"/>\n",
       "\t<circle cx=\"2124.91\" cy=\"447.62\" r=\"26.35\" style=\"fill:#606060\"/>\n",
       "\t<circle cx=\"2124.91\" cy=\"447.62\" r=\"22.03\" style=\"fill:none;stroke:#606060;stroke-width:8.64\"/>\n",
       "\t<circle cx=\"2124.91\" cy=\"395.15\" r=\"26.35\" style=\"fill:#606060\"/>\n",
       "\t<circle cx=\"2124.91\" cy=\"395.15\" r=\"22.03\" style=\"fill:none;stroke:#606060;stroke-width:8.64\"/>\n",
       "\t<line x1=\"390.80\" y1=\"2749.19\" x2=\"390.80\" y2=\"275.35\" style=\"stroke:#000000;stroke-width:5.76\"/>\n",
       "\t<line x1=\"390.80\" y1=\"2648.46\" x2=\"350.83\" y2=\"2648.46\" style=\"stroke:#000000;stroke-width:5.76\"/>\n",
       "\t<text x=\"300.72\" y=\"2648.46\" style=\"font-family:'Helvetica';font-size:99.99px;fill:#000000\" transform=\"rotate(-90 300.72,2648.46)\" text-anchor=\"middle\">0</text>\n",
       "\t<line x1=\"390.80\" y1=\"1890.96\" x2=\"350.83\" y2=\"1890.96\" style=\"stroke:#000000;stroke-width:5.76\"/>\n",
       "\t<text x=\"300.72\" y=\"1890.96\" style=\"font-family:'Helvetica';font-size:99.99px;fill:#000000\" transform=\"rotate(-90 300.72,1890.96)\" text-anchor=\"middle\">100</text>\n",
       "\t<line x1=\"390.80\" y1=\"1133.59\" x2=\"350.83\" y2=\"1133.59\" style=\"stroke:#000000;stroke-width:5.76\"/>\n",
       "\t<text x=\"300.72\" y=\"1133.59\" style=\"font-family:'Helvetica';font-size:99.99px;fill:#000000\" transform=\"rotate(-90 300.72,1133.59)\" text-anchor=\"middle\">200</text>\n",
       "\t<line x1=\"390.80\" y1=\"376.21\" x2=\"350.83\" y2=\"376.21\" style=\"stroke:#000000;stroke-width:5.76\"/>\n",
       "\t<text x=\"300.72\" y=\"376.21\" style=\"font-family:'Helvetica';font-size:99.99px;fill:#000000\" transform=\"rotate(-90 300.72,376.21)\" text-anchor=\"middle\">300</text>\n",
       "\t<text x=\"190.71\" y=\"1512.27\" style=\"font-family:'Helvetica';font-size:99.99px;fill:#000000\" transform=\"rotate(-90 190.71,1512.27)\" text-anchor=\"middle\">AIP</text>\n",
       "\t<line x1=\"390.80\" y1=\"2749.19\" x2=\"3859.02\" y2=\"2749.19\" style=\"stroke:#000000;stroke-width:5.76\"/>\n",
       "\t<text x=\"2124.91\" y=\"215.98\" style=\"font-family:'Helvetica';font-size:139.96px;fill:#000000\" text-anchor=\"middle\">Box plot of AIP</text>\n",
       "</svg>\n"
      ],
      "text/html": [
       "                <iframe frameborder=\"0\" scrolling=\"no\" height=\"436\" width=\"600\"                srcdoc=\"<html><body>&lt;?xml version=&quot;1.0&quot; encoding=&quot;UTF-8&quot; standalone=&quot;no&quot;?&gt;\n",
       "&lt;!-- This is a Stata 15.1 generated SVG file (http://www.stata.com) --&gt;\n",
       "\n",
       "&lt;svg version=&quot;1.1&quot; width=&quot;600px&quot; height=&quot;436px&quot; viewBox=&quot;0 0 3960 2880&quot; xmlns=&quot;http://www.w3.org/2000/svg&quot; xmlns:xlink=&quot;http://www.w3.org/1999/xlink&quot;&gt;\n",
       "\t&lt;desc&gt;Stata Graph - Graph&lt;/desc&gt;\n",
       "\t&lt;rect x=&quot;0&quot; y=&quot;0&quot; width=&quot;3960&quot; height=&quot;2880&quot; style=&quot;fill:#FFFFFF;stroke:none&quot;/&gt;\n",
       "\t&lt;rect x=&quot;0.00&quot; y=&quot;0.00&quot; width=&quot;3959.88&quot; height=&quot;2880.00&quot; style=&quot;fill:#FFFFFF&quot;/&gt;\n",
       "\t&lt;rect x=&quot;2.88&quot; y=&quot;2.88&quot; width=&quot;3954.12&quot; height=&quot;2874.24&quot; style=&quot;fill:none;stroke:#FFFFFF;stroke-width:5.76&quot;/&gt;\n",
       "\t&lt;rect x=&quot;393.68&quot; y=&quot;278.23&quot; width=&quot;3462.46&quot; height=&quot;2468.08&quot; style=&quot;fill:none;stroke:#000000;stroke-width:5.76&quot;/&gt;\n",
       "\t&lt;line x1=&quot;390.80&quot; y1=&quot;2648.46&quot; x2=&quot;3859.02&quot; y2=&quot;2648.46&quot; style=&quot;stroke:#E0E0E0;stroke-width:8.64&quot;/&gt;\n",
       "\t&lt;line x1=&quot;390.80&quot; y1=&quot;1890.96&quot; x2=&quot;3859.02&quot; y2=&quot;1890.96&quot; style=&quot;stroke:#E0E0E0;stroke-width:8.64&quot;/&gt;\n",
       "\t&lt;line x1=&quot;390.80&quot; y1=&quot;1133.59&quot; x2=&quot;3859.02&quot; y2=&quot;1133.59&quot; style=&quot;stroke:#E0E0E0;stroke-width:8.64&quot;/&gt;\n",
       "\t&lt;line x1=&quot;390.80&quot; y1=&quot;376.21&quot; x2=&quot;3859.02&quot; y2=&quot;376.21&quot; style=&quot;stroke:#E0E0E0;stroke-width:8.64&quot;/&gt;\n",
       "\t&lt;rect x=&quot;958.20&quot; y=&quot;1806.81&quot; width=&quot;2333.43&quot; height=&quot;699.33&quot; style=&quot;fill:#606060&quot;/&gt;\n",
       "\t&lt;rect x=&quot;962.52&quot; y=&quot;1811.13&quot; width=&quot;2324.79&quot; height=&quot;690.69&quot; style=&quot;fill:none;stroke:#606060;stroke-width:8.64&quot;/&gt;\n",
       "\t&lt;line x1=&quot;958.20&quot; y1=&quot;2220.52&quot; x2=&quot;3291.63&quot; y2=&quot;2220.52&quot; style=&quot;stroke:#FFFFFF;stroke-width:12.96&quot;/&gt;\n",
       "\t&lt;line x1=&quot;2124.91&quot; y1=&quot;2506.14&quot; x2=&quot;2124.91&quot; y2=&quot;2609.60&quot; style=&quot;stroke:#606060;stroke-width:8.64&quot;/&gt;\n",
       "\t&lt;line x1=&quot;2124.91&quot; y1=&quot;1806.81&quot; x2=&quot;2124.91&quot; y2=&quot;1525.27&quot; style=&quot;stroke:#606060;stroke-width:8.64&quot;/&gt;\n",
       "\t&lt;line x1=&quot;1343.31&quot; y1=&quot;2609.60&quot; x2=&quot;2906.64&quot; y2=&quot;2609.60&quot; style=&quot;stroke:#606060;stroke-width:8.64&quot;/&gt;\n",
       "\t&lt;line x1=&quot;1343.31&quot; y1=&quot;1525.27&quot; x2=&quot;2906.64&quot; y2=&quot;1525.27&quot; style=&quot;stroke:#606060;stroke-width:8.64&quot;/&gt;\n",
       "\t&lt;circle cx=&quot;2124.91&quot; cy=&quot;628.05&quot; r=&quot;26.35&quot; style=&quot;fill:#606060&quot;/&gt;\n",
       "\t&lt;circle cx=&quot;2124.91&quot; cy=&quot;628.05&quot; r=&quot;22.03&quot; style=&quot;fill:none;stroke:#606060;stroke-width:8.64&quot;/&gt;\n",
       "\t&lt;circle cx=&quot;2124.91&quot; cy=&quot;578.55&quot; r=&quot;26.35&quot; style=&quot;fill:#606060&quot;/&gt;\n",
       "\t&lt;circle cx=&quot;2124.91&quot; cy=&quot;578.55&quot; r=&quot;22.03&quot; style=&quot;fill:none;stroke:#606060;stroke-width:8.64&quot;/&gt;\n",
       "\t&lt;circle cx=&quot;2124.91&quot; cy=&quot;578.55&quot; r=&quot;26.35&quot; style=&quot;fill:#606060&quot;/&gt;\n",
       "\t&lt;circle cx=&quot;2124.91&quot; cy=&quot;578.55&quot; r=&quot;22.03&quot; style=&quot;fill:none;stroke:#606060;stroke-width:8.64&quot;/&gt;\n",
       "\t&lt;circle cx=&quot;2124.91&quot; cy=&quot;459.00&quot; r=&quot;26.35&quot; style=&quot;fill:#606060&quot;/&gt;\n",
       "\t&lt;circle cx=&quot;2124.91&quot; cy=&quot;459.00&quot; r=&quot;22.03&quot; style=&quot;fill:none;stroke:#606060;stroke-width:8.64&quot;/&gt;\n",
       "\t&lt;circle cx=&quot;2124.91&quot; cy=&quot;447.62&quot; r=&quot;26.35&quot; style=&quot;fill:#606060&quot;/&gt;\n",
       "\t&lt;circle cx=&quot;2124.91&quot; cy=&quot;447.62&quot; r=&quot;22.03&quot; style=&quot;fill:none;stroke:#606060;stroke-width:8.64&quot;/&gt;\n",
       "\t&lt;circle cx=&quot;2124.91&quot; cy=&quot;395.15&quot; r=&quot;26.35&quot; style=&quot;fill:#606060&quot;/&gt;\n",
       "\t&lt;circle cx=&quot;2124.91&quot; cy=&quot;395.15&quot; r=&quot;22.03&quot; style=&quot;fill:none;stroke:#606060;stroke-width:8.64&quot;/&gt;\n",
       "\t&lt;line x1=&quot;390.80&quot; y1=&quot;2749.19&quot; x2=&quot;390.80&quot; y2=&quot;275.35&quot; style=&quot;stroke:#000000;stroke-width:5.76&quot;/&gt;\n",
       "\t&lt;line x1=&quot;390.80&quot; y1=&quot;2648.46&quot; x2=&quot;350.83&quot; y2=&quot;2648.46&quot; style=&quot;stroke:#000000;stroke-width:5.76&quot;/&gt;\n",
       "\t&lt;text x=&quot;300.72&quot; y=&quot;2648.46&quot; style=&quot;font-family:&#x27;Helvetica&#x27;;font-size:99.99px;fill:#000000&quot; transform=&quot;rotate(-90 300.72,2648.46)&quot; text-anchor=&quot;middle&quot;&gt;0&lt;/text&gt;\n",
       "\t&lt;line x1=&quot;390.80&quot; y1=&quot;1890.96&quot; x2=&quot;350.83&quot; y2=&quot;1890.96&quot; style=&quot;stroke:#000000;stroke-width:5.76&quot;/&gt;\n",
       "\t&lt;text x=&quot;300.72&quot; y=&quot;1890.96&quot; style=&quot;font-family:&#x27;Helvetica&#x27;;font-size:99.99px;fill:#000000&quot; transform=&quot;rotate(-90 300.72,1890.96)&quot; text-anchor=&quot;middle&quot;&gt;100&lt;/text&gt;\n",
       "\t&lt;line x1=&quot;390.80&quot; y1=&quot;1133.59&quot; x2=&quot;350.83&quot; y2=&quot;1133.59&quot; style=&quot;stroke:#000000;stroke-width:5.76&quot;/&gt;\n",
       "\t&lt;text x=&quot;300.72&quot; y=&quot;1133.59&quot; style=&quot;font-family:&#x27;Helvetica&#x27;;font-size:99.99px;fill:#000000&quot; transform=&quot;rotate(-90 300.72,1133.59)&quot; text-anchor=&quot;middle&quot;&gt;200&lt;/text&gt;\n",
       "\t&lt;line x1=&quot;390.80&quot; y1=&quot;376.21&quot; x2=&quot;350.83&quot; y2=&quot;376.21&quot; style=&quot;stroke:#000000;stroke-width:5.76&quot;/&gt;\n",
       "\t&lt;text x=&quot;300.72&quot; y=&quot;376.21&quot; style=&quot;font-family:&#x27;Helvetica&#x27;;font-size:99.99px;fill:#000000&quot; transform=&quot;rotate(-90 300.72,376.21)&quot; text-anchor=&quot;middle&quot;&gt;300&lt;/text&gt;\n",
       "\t&lt;text x=&quot;190.71&quot; y=&quot;1512.27&quot; style=&quot;font-family:&#x27;Helvetica&#x27;;font-size:99.99px;fill:#000000&quot; transform=&quot;rotate(-90 190.71,1512.27)&quot; text-anchor=&quot;middle&quot;&gt;AIP&lt;/text&gt;\n",
       "\t&lt;line x1=&quot;390.80&quot; y1=&quot;2749.19&quot; x2=&quot;3859.02&quot; y2=&quot;2749.19&quot; style=&quot;stroke:#000000;stroke-width:5.76&quot;/&gt;\n",
       "\t&lt;text x=&quot;2124.91&quot; y=&quot;215.98&quot; style=&quot;font-family:&#x27;Helvetica&#x27;;font-size:139.96px;fill:#000000&quot; text-anchor=&quot;middle&quot;&gt;Box plot of AIP&lt;/text&gt;\n",
       "&lt;/svg&gt;\n",
       "</body></html>\"></iframe>\n"
      ],
      "text/plain": [
       "This front-end cannot display the desired image type."
      ]
     },
     "metadata": {
      "image/svg+xml": {
       "height": 436,
       "width": 600
      },
      "text/html": {
       "height": 436,
       "width": 600
      }
     },
     "output_type": "display_data"
    },
    {
     "name": "stdout",
     "output_type": "stream",
     "text": [
      "\n",
      "\n",
      "\n",
      "\n",
      "\n"
     ]
    }
   ],
   "source": [
    "set scheme s1mono // Setting the scheme or style of the graph\n",
    "scatter AUP AIP if ATCkod == \"C10AA01\", title(\"Scatterplot of AIP and AUP\")\n",
    "hist AIP if ATCkod == \"C10AA01\", title(\"Histogram of AIP\")\n",
    "graph box AIP if ATCkod == \"C10AA01\", title(\"Box plot of AIP\")"
   ]
  },
  {
   "cell_type": "code",
   "execution_count": null,
   "metadata": {},
   "outputs": [],
   "source": []
  }
 ],
 "metadata": {
  "kernelspec": {
   "display_name": "Stata",
   "language": "stata",
   "name": "stata"
  },
  "language_info": {
   "codemirror_mode": "stata",
   "file_extension": ".do",
   "mimetype": "text/x-stata",
   "name": "stata",
   "version": "15.1"
  }
 },
 "nbformat": 4,
 "nbformat_minor": 4
}

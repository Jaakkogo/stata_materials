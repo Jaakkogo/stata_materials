{
 "cells": [
  {
   "cell_type": "markdown",
   "metadata": {},
   "source": [
    "## Stata basics\n",
    "\n",
    "### GUI and the do-file editor\n",
    "\n",
    "Stata has an easy-to-use GUI for most operations. However, we recommend using Stata by writing your code in the do-file editor and then executing it. You can also use the commmand line but we advice that you use the command line only for tests.\n",
    "\n",
    "The picture below shows the most important content of the Stata window. The toolbaar contains the buttons to open the do-file editor and the data editors. The Stata output will be printed in the results window.\n",
    "\n",
    "![](figures/stata_window.png)\n",
    "\n",
    "The do-file editor is basically just a text editor that can send code to Stata for execution. The execute button is located in the editor toolbar. You can run only selected parts of the code or the whole do file.\n",
    "\n",
    "![](figures/stata_dofile_editor.png)"
   ]
  },
  {
   "cell_type": "markdown",
   "metadata": {},
   "source": [
    "### Initializing the folder structure for the course\n",
    "\n",
    "In this section I provide a command that you can run in the Stata command line or in separate do-file (such as init.do) that create a folder for the course materials.\n",
    "\n",
    "```{warning}\n",
    "\n",
    "You should not run shell commands without knowing what you are doing!\n",
    "\n",
    "```\n",
    "\n",
    "For Windows: \n",
    "\n",
    "```{Stata code}\n",
    "\n",
    "shell mkdir %USERPROFILE%/ECON-C4100\n",
    "\n",
    "```\n",
    "\n",
    "For Unix (OS X or Linux):\n",
    "\n",
    "\n",
    "```{Stata code}\n",
    "\n",
    "shell mkdir ~/ECON-C4100\n",
    "\n",
    "```\n",
    "\n",
    "The commands command will tell Stata to tell your operating system to create a new directory (a folder) under your home/userprofile. You could also specify any other path other than your user profile as the location for the course materials folder. For instance, the folder I use is located on disk **Z**."
   ]
  },
  {
   "cell_type": "markdown",
   "metadata": {},
   "source": [
    "### Printing in Stata\n",
    "\n",
    "The print command for Stata is the `display` or `di` command. Let's start by printing a familiar message:"
   ]
  },
  {
   "cell_type": "code",
   "execution_count": 1,
   "metadata": {},
   "outputs": [
    {
     "name": "stdout",
     "output_type": "stream",
     "text": [
      "Hello World!\n"
     ]
    }
   ],
   "source": [
    "di \"Hello World!\""
   ]
  },
  {
   "cell_type": "markdown",
   "metadata": {},
   "source": [
    "### Help\n",
    "\n",
    "The most important Stata command is the `help` command. It searches the Stata documentation for the user input. Since this instance uses the `stata_kernel` for Jupyter Lab, we'll need to include `%` to the start of the command:"
   ]
  },
  {
   "cell_type": "code",
   "execution_count": 2,
   "metadata": {},
   "outputs": [
    {
     "data": {
      "text/html": [
       "\n",
       "<html>\n",
       "<head>\n",
       "<meta content=\"noindex, nofollow\" name=\"robots\"/>\n",
       "<title>Stata 16 help for help</title>\n",
       "<link href=\"//www.stata.com/includes/css/stylehelp.css\" rel=\"stylesheet\" type=\"text/css\"/>\n",
       "<style type=\"text/css\">h2 {\n",
       "    font-family: Arial,Helvetica,Helv,sans-serif;\n",
       "    color: #000000;\n",
       "}\n",
       "\n",
       "pre {\n",
       "    margin: 10px;\n",
       "}\n",
       "\n",
       "table {\n",
       "    background-color: transparent;\n",
       "    border-color: transparent;\n",
       "    bgcolor: transparent;\n",
       "}\n",
       "\n",
       "tr {\n",
       "    background-color: transparent;\n",
       "    border-color: transparent;\n",
       "    bgcolor: transparent;\n",
       "}\n",
       "\n",
       "body {\n",
       "    background-color: transparent;\n",
       "    border-color: transparent;\n",
       "    margin: 0px;\n",
       "}\n",
       "\n",
       "div {\n",
       "    background-color: transparent;\n",
       "    border-color: transparent;\n",
       "}\n",
       "</style>\n",
       "</head>\n",
       "<body>\n",
       "\n",
       "<p>\n",
       "<table align=\"center\" bgcolor=\"transparent\" border=\"1\" cellpadding=\"5\" cellspacing=\"0\">\n",
       "<tr bgcolor=\"transparent\"><td align=\"left\" bgcolor=\"transparent\" valign=\"top\">\n",
       "<!-- END HEAD -->\n",
       "\n",
       "<pre>\n",
       "<p>\n",
       "<b>[R] help</b> -- Display help in Stata\n",
       "<p>\n",
       "<p>\n",
       "-------------------------------------------------------------------------------\n",
       "<p>\n",
       "<b><u>Stata's help system</u></b>\n",
       "<p>\n",
       "    There are several kinds of help available to the Stata user. For more\n",
       "    information, see <a href=\"https://www.stata.com/help.cgi?help_advice\" target=\"_blank\">Advice on getting help</a>.  The information below is\n",
       "    technical details about Stata's <b>help</b> command.\n",
       "<p>\n",
       "-------------------------------------------------------------------------------\n",
       "<p>\n",
       "<a name=\"syntax\"></a><b><u>Syntax</u></b>\n",
       "<p>\n",
       "        <b><u>h</u></b><b>elp</b> [<i>command_or_topic_name</i>] [<b>,</b> <b><u>non</u></b><b>ew</b> <b>name(</b><i>viewername</i><b>)</b>\n",
       "              <b><u>mark</u></b><b>er(</b><i>markername</i><b>)</b>]\n",
       "<p>\n",
       "<p>\n",
       "<a name=\"menu\"></a><b><u>Menu</u></b>\n",
       "<p>\n",
       "    <b>Help &gt; Stata command...</b>\n",
       "<p>\n",
       "<p>\n",
       "<a name=\"description\"></a><b><u>Description</u></b>\n",
       "<p>\n",
       "    The <b>help</b> command displays help information about the specified command or\n",
       "    topic.  <b>help</b> launches a new Viewer to display help for the specified\n",
       "    command or topic or displays help on the console in Stata for\n",
       "    Unix(console).  If <b>help</b> is not followed by a command or a topic name,\n",
       "    Stata displays advice for using the help system and documentation.\n",
       "<p>\n",
       "<p>\n",
       "<a name=\"options\"></a><b><u>Options</u></b>\n",
       "<p>\n",
       "    <b>nonew</b> specifies that a new Viewer window not be opened for the help topic\n",
       "        if a Viewer window is already open.  The default is for a new Viewer\n",
       "        window to be opened each time <b>help</b> is typed so that multiple help\n",
       "        files may be viewed at once.  <b>nonew</b> causes the help file to be\n",
       "        displayed in the topmost open Viewer.\n",
       "<p>\n",
       "    <b>name(</b><i>viewername</i><b>)</b> specifies that help be displayed in a Viewer window\n",
       "        named <i>viewername</i>.  If the named window already exists, its contents\n",
       "        will be replaced.  If the named window does not exist, it will be\n",
       "        created.\n",
       "<p>\n",
       "    <b>marker(</b><i>markername</i><b>)</b> specifies that the help file be opened to the position\n",
       "        of <i>markername</i> within the help file.\n",
       "<p>\n",
       "<p>\n",
       "<a name=\"remarks\"></a><b><u>Remarks</u></b>\n",
       "<p>\n",
       "    To obtain help for any Stata command, type <b>help</b> <i>command</i> or select <b>Help &gt;</b>\n",
       "    <b>Stata command...</b> and fill in <i>command</i>.\n",
       "<p>\n",
       "    <b>help</b> is best explained by examples.\n",
       "<p>\n",
       "        To obtain help for ...              type\n",
       "          <b>regress</b>                             <b>help regress</b>\n",
       "          postestimation tools for <b>regress</b>    <b>help regress postestimation</b>\n",
       "                                              or   <b>help regress post</b>\n",
       "          graph option <b>xlabel()</b>               <b>help graph xlabel()</b>\n",
       "          Stata function <b>strpos()</b>             <b>help strpos()</b>\n",
       "          Mata function <b>optimize()</b>            <b>help mata optimize()</b>\n",
       "<p>\n",
       "    Tips:\n",
       "<p>\n",
       "        o <b>help</b> displays advice for using the help system and documentation.\n",
       "<p>\n",
       "        o <b>help guide</b> displays a table of contents for basic Stata concepts.\n",
       "<p>\n",
       "        o <b>help estimation commands</b> displays an alphabetical listing of all\n",
       "            Stata estimation commands.\n",
       "<p>\n",
       "        o <b>help functions</b> displays help on Stata functions by category.\n",
       "<p>\n",
       "        o <b>help mata functions</b> displays a subject table of contents for Mata's\n",
       "            functions.\n",
       "<p>\n",
       "        o <b>help ts glossary</b> displays the glossary for the time-series manual,\n",
       "            and similarly for the other Stata specialty manuals.\n",
       "<p>\n",
       "    If you type <b>help</b> <i>topic</i> and help for <i>topic</i> is not found, Stata will\n",
       "    automatically perform a search for <i>topic</i>.\n",
       "<p>\n",
       "    For instance, try typing <b>help forecasting</b>.  A forecasting help file is\n",
       "    not found, so Stata executes <b>search forecasting</b> and displays the results\n",
       "    in the Viewer.\n",
       "<p>\n",
       "    See <b>[U] 4 Stata's help and search facilities</b> for a complete description\n",
       "    of how to use <b>help</b>.\n",
       "<p>\n",
       "<p>\n",
       "<a name=\"video\"></a><b><u>Video example</u></b>\n",
       "<p>\n",
       "    Quick help in Stata\n",
       "<p>\n",
       "</p></p></p></p></p></p></p></p></p></p></p></p></p></p></p></p></p></p></p></p></p></p></p></p></p></p></p></p></p></p></p></p></p></p></p></p></p></p></pre>\n",
       "<!-- BEGIN FOOT -->\n",
       "</td></tr></table>\n",
       "\n",
       "\n",
       "<br/>\n",
       "</p></body>\n",
       "</html>\n"
      ],
      "text/plain": [
       "This front-end cannot display HTML help."
      ]
     },
     "metadata": {},
     "output_type": "display_data"
    }
   ],
   "source": [
    "%help help"
   ]
  },
  {
   "cell_type": "markdown",
   "metadata": {},
   "source": [
    "### Macros and scalars\n",
    "\n",
    "Stata has two types of \"variables\" called local and global macros (not to be confused with actual Stata variables). Local macros are saved in memory until the end of the current do-file or Stata instance. Global macros are saved until you exit Stata.\n",
    "\n",
    "Let’s start by saving your working directory with macros. Having created the folder `ECON-C4100` for the course materials we can save its path to a local and a global macro:"
   ]
  },
  {
   "cell_type": "code",
   "execution_count": 3,
   "metadata": {},
   "outputs": [],
   "source": [
    "local userPath \"Z:/ECON-C4100\"\n",
    "global userPath \"Z:/ECON-C4100\""
   ]
  },
  {
   "cell_type": "markdown",
   "metadata": {},
   "source": [
    "Macros are referenced with `` `localName' `` and ` $globalName `. We can print them by typing:"
   ]
  },
  {
   "cell_type": "code",
   "execution_count": 4,
   "metadata": {},
   "outputs": [
    {
     "name": "stdout",
     "output_type": "stream",
     "text": [
      "\n",
      "Z:/ECON-C4100\n",
      "\n",
      "Z:/ECON-C4100\n"
     ]
    }
   ],
   "source": [
    "di \"`userPath'\"\n",
    "di \"$userPath\""
   ]
  },
  {
   "cell_type": "markdown",
   "metadata": {},
   "source": [
    "One crucial thing about statistical programming is to know which folder your working directory is pointing at. Let's set our working dir to `$userPath`:"
   ]
  },
  {
   "cell_type": "code",
   "execution_count": 5,
   "metadata": {},
   "outputs": [
    {
     "name": "stdout",
     "output_type": "stream",
     "text": [
      "Z:\\ECON-C4100\n"
     ]
    }
   ],
   "source": [
    "cd $userPath"
   ]
  },
  {
   "cell_type": "markdown",
   "metadata": {},
   "source": [
    "You can print the location of the current working directory with two commands:"
   ]
  },
  {
   "cell_type": "code",
   "execution_count": 6,
   "metadata": {},
   "outputs": [
    {
     "name": "stdout",
     "output_type": "stream",
     "text": [
      "\n",
      "Z:\\ECON-C4100\n",
      "\n",
      "Z:\\ECON-C4100\n"
     ]
    }
   ],
   "source": [
    "pwd\n",
    "cd"
   ]
  },
  {
   "cell_type": "markdown",
   "metadata": {},
   "source": [
    "To print the Stata system directories you can type:"
   ]
  },
  {
   "cell_type": "code",
   "execution_count": 7,
   "metadata": {},
   "outputs": [
    {
     "name": "stdout",
     "output_type": "stream",
     "text": [
      "   STATA:  C:\\Program Files (x86)\\Stata15MP\\\n",
      "    BASE:  C:\\Program Files (x86)\\Stata15MP\\ado\\base\\\n",
      "    SITE:  C:\\Program Files (x86)\\Stata15MP\\ado\\site\\\n",
      "    PLUS:  c:\\ado\\plus\\\n",
      "PERSONAL:  c:\\ado\\personal\\\n",
      "OLDPLACE:  c:\\ado\\\n"
     ]
    }
   ],
   "source": [
    "sysdir"
   ]
  },
  {
   "cell_type": "markdown",
   "metadata": {},
   "source": [
    "You can combine macros easily:"
   ]
  },
  {
   "cell_type": "code",
   "execution_count": 8,
   "metadata": {},
   "outputs": [
    {
     "name": "stdout",
     "output_type": "stream",
     "text": [
      "\n",
      "\n",
      "Z:/ECON-C4100 Z:/ECON-C4100\n"
     ]
    }
   ],
   "source": [
    "local userPathTwice `userPath' $userPath\n",
    "di \"`userPathTwice'\""
   ]
  },
  {
   "cell_type": "markdown",
   "metadata": {},
   "source": [
    "You can also erase macros by simply typing:"
   ]
  },
  {
   "cell_type": "code",
   "execution_count": 9,
   "metadata": {},
   "outputs": [],
   "source": [
    "local userPathTwice"
   ]
  },
  {
   "cell_type": "markdown",
   "metadata": {},
   "source": [
    "Macros can be used as counters:"
   ]
  },
  {
   "cell_type": "code",
   "execution_count": 10,
   "metadata": {},
   "outputs": [],
   "source": [
    "local one_ 1\n",
    "local two_ 2\n",
    "local three_ `one_' + `two_'"
   ]
  },
  {
   "cell_type": "code",
   "execution_count": 11,
   "metadata": {},
   "outputs": [
    {
     "name": "stdout",
     "output_type": "stream",
     "text": [
      "3\n"
     ]
    }
   ],
   "source": [
    "di `three_'"
   ]
  },
  {
   "cell_type": "markdown",
   "metadata": {},
   "source": [
    "However notice who `\"\"` change the output:"
   ]
  },
  {
   "cell_type": "code",
   "execution_count": 12,
   "metadata": {},
   "outputs": [
    {
     "name": "stdout",
     "output_type": "stream",
     "text": [
      "1 + 2\n"
     ]
    }
   ],
   "source": [
    "di \"`three_'\""
   ]
  },
  {
   "cell_type": "markdown",
   "metadata": {},
   "source": [
    "You can also use scalars. They are refered with their names but can only store numbers:"
   ]
  },
  {
   "cell_type": "code",
   "execution_count": 13,
   "metadata": {},
   "outputs": [
    {
     "name": "stdout",
     "output_type": "stream",
     "text": [
      "\n",
      "\n",
      "\n",
      "\n",
      "3\n",
      "\n"
     ]
    }
   ],
   "source": [
    "scalar one_ = 1\n",
    "scalar two_ = 2\n",
    "scalar three_ = one_ + two_\n",
    "di three_\n",
    "scalar drop three_"
   ]
  },
  {
   "cell_type": "markdown",
   "metadata": {},
   "source": [
    "### Commenting and line breaks in Stata\n",
    "\n",
    "Including comments to your code is easy:"
   ]
  },
  {
   "cell_type": "code",
   "execution_count": 14,
   "metadata": {},
   "outputs": [],
   "source": [
    "// Comment, one line\n",
    "* Comment, one line\n",
    "\n",
    "/* Comment, \n",
    "multiple \n",
    "lines */"
   ]
  },
  {
   "cell_type": "markdown",
   "metadata": {},
   "source": [
    "The default chracter that marks the end of a command is newline (line break). You can change it to `;` and back easily:"
   ]
  },
  {
   "cell_type": "code",
   "execution_count": 15,
   "metadata": {},
   "outputs": [],
   "source": [
    "#delimit ;\n",
    "#delimit cr"
   ]
  },
  {
   "cell_type": "markdown",
   "metadata": {},
   "source": [
    "When using the standard line break, we need to use `///` to tell Stata if our command is presented in multiple lines."
   ]
  },
  {
   "cell_type": "markdown",
   "metadata": {},
   "source": [
    "### Setting observations and generating variables\n",
    "\n",
    "If we haven't imported any data to Stata, we can simulate some data. We can declare the number observations with se `set obs` command. Let's start with 100k observations:"
   ]
  },
  {
   "cell_type": "code",
   "execution_count": 31,
   "metadata": {},
   "outputs": [
    {
     "name": "stdout",
     "output_type": "stream",
     "text": [
      "\n",
      "\n",
      "number of observations (_N) was 0, now 100,000\n"
     ]
    }
   ],
   "source": [
    "clear all\n",
    "set obs 100000"
   ]
  },
  {
   "cell_type": "markdown",
   "metadata": {},
   "source": [
    "We can create new variables with the `generate` or `gen` command. It's first argument is the name of the new variable followed by the equal sign and the the value(s) that we like to assign to our variable. Let's consider three examples:\n",
    "\n",
    "1. Drawing values from the standard normal distribution.\n",
    "2. Generating a string variable\n",
    "3. Generating a dummy variable."
   ]
  },
  {
   "cell_type": "code",
   "execution_count": 32,
   "metadata": {},
   "outputs": [
    {
     "name": "stdout",
     "output_type": "stream",
     "text": [
      "\n",
      "\n",
      "\n",
      "variable tail was str4 now str5\n",
      "(30,927 real changes made)\n",
      "\n",
      "\n",
      "\n",
      "Contains data\n",
      "  obs:       100,000                          \n",
      " vars:             3                          \n",
      " size:     1,300,000                          \n",
      "---------------------------------------------------------------------------------------------------------------------------------------------------------------------------------------------------------------------------------------------------------------\n",
      "              storage   display    value\n",
      "variable name   type    format     label      variable label\n",
      "---------------------------------------------------------------------------------------------------------------------------------------------------------------------------------------------------------------------------------------------------------------\n",
      "v1              float   %9.0g                 \n",
      "tail            str5    %9s                   \n",
      "tail_dummy      float   %9.0g                 \n",
      "---------------------------------------------------------------------------------------------------------------------------------------------------------------------------------------------------------------------------------------------------------------\n",
      "Sorted by: \n",
      "     Note: Dataset has changed since last saved.\n"
     ]
    }
   ],
   "source": [
    "gen v1 = rnormal() // draws observation values from the std. normal distribution\n",
    "gen tail = \"Left\" // initialize tail value with \"Left\"\n",
    "replace tail = \"Right\" if v1 > 0.5 // change right tail values\n",
    "gen tail_dummy = v1 > 0.5 // 1 = if right tail, 0 otherwise"
   ]
  },
  {
   "cell_type": "code",
   "execution_count": 33,
   "metadata": {},
   "outputs": [
    {
     "data": {
      "text/html": [
       "<div>\n",
       "<style scoped>\n",
       "    .dataframe tbody tr th:only-of-type {\n",
       "        vertical-align: middle;\n",
       "    }\n",
       "\n",
       "    .dataframe tbody tr th {\n",
       "        vertical-align: top;\n",
       "    }\n",
       "\n",
       "    .dataframe thead th {\n",
       "        text-align: right;\n",
       "    }\n",
       "</style>\n",
       "<table border=\"1\" class=\"dataframe\">\n",
       "  <thead>\n",
       "    <tr style=\"text-align: right;\">\n",
       "      <th></th>\n",
       "      <th>v1</th>\n",
       "      <th>tail</th>\n",
       "      <th>tail_dummy</th>\n",
       "    </tr>\n",
       "  </thead>\n",
       "  <tbody>\n",
       "    <tr>\n",
       "      <th>1</th>\n",
       "      <td>.44829085</td>\n",
       "      <td>Left</td>\n",
       "      <td>0</td>\n",
       "    </tr>\n",
       "    <tr>\n",
       "      <th>2</th>\n",
       "      <td>.69934845</td>\n",
       "      <td>Right</td>\n",
       "      <td>1</td>\n",
       "    </tr>\n",
       "    <tr>\n",
       "      <th>3</th>\n",
       "      <td>-.66045153</td>\n",
       "      <td>Left</td>\n",
       "      <td>0</td>\n",
       "    </tr>\n",
       "    <tr>\n",
       "      <th>4</th>\n",
       "      <td>-.72105825</td>\n",
       "      <td>Left</td>\n",
       "      <td>0</td>\n",
       "    </tr>\n",
       "    <tr>\n",
       "      <th>5</th>\n",
       "      <td>.45229378</td>\n",
       "      <td>Left</td>\n",
       "      <td>0</td>\n",
       "    </tr>\n",
       "    <tr>\n",
       "      <th>6</th>\n",
       "      <td>1.0015512</td>\n",
       "      <td>Right</td>\n",
       "      <td>1</td>\n",
       "    </tr>\n",
       "    <tr>\n",
       "      <th>7</th>\n",
       "      <td>-.35671255</td>\n",
       "      <td>Left</td>\n",
       "      <td>0</td>\n",
       "    </tr>\n",
       "    <tr>\n",
       "      <th>8</th>\n",
       "      <td>-.069343433</td>\n",
       "      <td>Left</td>\n",
       "      <td>0</td>\n",
       "    </tr>\n",
       "    <tr>\n",
       "      <th>9</th>\n",
       "      <td>.24252044</td>\n",
       "      <td>Left</td>\n",
       "      <td>0</td>\n",
       "    </tr>\n",
       "    <tr>\n",
       "      <th>10</th>\n",
       "      <td>.019378336</td>\n",
       "      <td>Left</td>\n",
       "      <td>0</td>\n",
       "    </tr>\n",
       "  </tbody>\n",
       "</table>\n",
       "</div>"
      ],
      "text/plain": [
       "\n",
       "     +------------------------------+\n",
       "     |        v1    tail   tail_d~y |\n",
       "     |------------------------------|\n",
       "  1. |  .4482909    Left          0 |\n",
       "  2. |  .6993484   Right          1 |\n",
       "  3. | -.6604515    Left          0 |\n",
       "  4. | -.7210582    Left          0 |\n",
       "  5. |  .4522938    Left          0 |\n",
       "     |------------------------------|\n",
       "  6. |  1.001551   Right          1 |\n",
       "  7. | -.3567125    Left          0 |\n",
       "  8. | -.0693434    Left          0 |\n",
       "  9. |  .2425204    Left          0 |\n",
       " 10. |  .0193783    Left          0 |\n",
       "     +------------------------------+\n",
       "\n"
      ]
     },
     "metadata": {},
     "output_type": "display_data"
    }
   ],
   "source": [
    "%browse 10"
   ]
  },
  {
   "cell_type": "markdown",
   "metadata": {},
   "source": [
    "Note: the `%browse` command only works in \n",
    "\n",
    "When declaring new variables, it's a good practice to start with some initialization value (such as the left tail of the distribution) and then `replace` the rest of the values with some `if` condition. Notice also that the dummy is generated directly with a boolean expression since `v1 > 0.5` returns either 1 or 0.\n",
    "\n",
    "We conclude this exercise with a histogram of the simulated data:"
   ]
  },
  {
   "cell_type": "code",
   "execution_count": 19,
   "metadata": {},
   "outputs": [
    {
     "name": "stdout",
     "output_type": "stream",
     "text": [
      "\n",
      "\n",
      "(bin=50, start=-4.4683022, width=.17591609)\n"
     ]
    },
    {
     "data": {
      "application/pdf": "[encoded data removed]",
      "image/svg+xml": [
       "<?xml version=\"1.0\" encoding=\"UTF-8\" standalone=\"no\"?>\n",
       "<!-- This is a Stata 15.1 generated SVG file (http://www.stata.com) -->\n",
       "\n",
       "<svg version=\"1.1\" width=\"600px\" height=\"436px\" viewBox=\"0 0 3960 2880\" xmlns=\"http://www.w3.org/2000/svg\" xmlns:xlink=\"http://www.w3.org/1999/xlink\">\n",
       "\t<desc>Stata Graph - Graph</desc>\n",
       "\t<rect x=\"0\" y=\"0\" width=\"3960\" height=\"2880\" style=\"fill:#FFFFFF;stroke:none\"/>\n",
       "\t<rect x=\"0.00\" y=\"0.00\" width=\"3959.88\" height=\"2880.00\" style=\"fill:#FFFFFF\"/>\n",
       "\t<rect x=\"2.88\" y=\"2.88\" width=\"3954.12\" height=\"2874.24\" style=\"fill:none;stroke:#FFFFFF;stroke-width:5.76\"/>\n",
       "\t<rect x=\"393.68\" y=\"103.74\" width=\"3462.46\" height=\"2382.57\" style=\"fill:none;stroke:#000000;stroke-width:5.76\"/>\n",
       "\t<rect x=\"487.20\" y=\"2488.57\" width=\"66.21\" height=\"0.62\" style=\"fill:#808080\"/>\n",
       "\t<rect x=\"491.52\" y=\"2492.89\" width=\"57.57\" height=\"-8.02\" style=\"fill:none;stroke:#000000;stroke-width:8.64\"/>\n",
       "\t<rect x=\"619.62\" y=\"2487.95\" width=\"66.08\" height=\"1.24\" style=\"fill:#808080\"/>\n",
       "\t<rect x=\"623.94\" y=\"2492.27\" width=\"57.44\" height=\"-7.40\" style=\"fill:none;stroke:#000000;stroke-width:8.64\"/>\n",
       "\t<rect x=\"685.70\" y=\"2488.20\" width=\"66.21\" height=\"0.99\" style=\"fill:#808080\"/>\n",
       "\t<rect x=\"690.02\" y=\"2492.52\" width=\"57.57\" height=\"-7.65\" style=\"fill:none;stroke:#000000;stroke-width:8.64\"/>\n",
       "\t<rect x=\"751.90\" y=\"2486.59\" width=\"66.21\" height=\"2.60\" style=\"fill:#808080\"/>\n",
       "\t<rect x=\"756.22\" y=\"2490.91\" width=\"57.57\" height=\"-6.04\" style=\"fill:none;stroke:#000000;stroke-width:8.64\"/>\n",
       "\t<rect x=\"818.11\" y=\"2485.60\" width=\"66.08\" height=\"3.59\" style=\"fill:#808080\"/>\n",
       "\t<rect x=\"822.43\" y=\"2489.92\" width=\"57.44\" height=\"-5.05\" style=\"fill:none;stroke:#000000;stroke-width:8.64\"/>\n",
       "\t<rect x=\"884.19\" y=\"2480.65\" width=\"66.21\" height=\"8.54\" style=\"fill:#808080\"/>\n",
       "\t<rect x=\"888.51\" y=\"2484.97\" width=\"57.57\" height=\"-0.10\" style=\"fill:none;stroke:#000000;stroke-width:8.64\"/>\n",
       "\t<rect x=\"950.40\" y=\"2473.84\" width=\"66.21\" height=\"15.35\" style=\"fill:#808080\"/>\n",
       "\t<rect x=\"954.72\" y=\"2478.16\" width=\"57.57\" height=\"6.71\" style=\"fill:none;stroke:#000000;stroke-width:8.64\"/>\n",
       "\t<rect x=\"1016.61\" y=\"2460.72\" width=\"66.21\" height=\"28.46\" style=\"fill:#808080\"/>\n",
       "\t<rect x=\"1020.93\" y=\"2465.04\" width=\"57.57\" height=\"19.82\" style=\"fill:none;stroke:#000000;stroke-width:8.64\"/>\n",
       "\t<rect x=\"1082.81\" y=\"2448.59\" width=\"66.08\" height=\"40.59\" style=\"fill:#808080\"/>\n",
       "\t<rect x=\"1087.13\" y=\"2452.91\" width=\"57.44\" height=\"31.95\" style=\"fill:none;stroke:#000000;stroke-width:8.64\"/>\n",
       "\t<rect x=\"1148.89\" y=\"2407.88\" width=\"66.21\" height=\"81.31\" style=\"fill:#808080\"/>\n",
       "\t<rect x=\"1153.21\" y=\"2412.20\" width=\"57.57\" height=\"72.67\" style=\"fill:none;stroke:#000000;stroke-width:8.64\"/>\n",
       "\t<rect x=\"1215.10\" y=\"2375.08\" width=\"66.21\" height=\"114.10\" style=\"fill:#808080\"/>\n",
       "\t<rect x=\"1219.42\" y=\"2379.40\" width=\"57.57\" height=\"105.46\" style=\"fill:none;stroke:#000000;stroke-width:8.64\"/>\n",
       "\t<rect x=\"1281.31\" y=\"2301.33\" width=\"66.08\" height=\"187.86\" style=\"fill:#808080\"/>\n",
       "\t<rect x=\"1285.63\" y=\"2305.65\" width=\"57.44\" height=\"179.22\" style=\"fill:none;stroke:#000000;stroke-width:8.64\"/>\n",
       "\t<rect x=\"1347.39\" y=\"2217.92\" width=\"66.21\" height=\"271.27\" style=\"fill:#808080\"/>\n",
       "\t<rect x=\"1351.71\" y=\"2222.24\" width=\"57.57\" height=\"262.63\" style=\"fill:none;stroke:#000000;stroke-width:8.64\"/>\n",
       "\t<rect x=\"1413.60\" y=\"2115.32\" width=\"66.21\" height=\"373.86\" style=\"fill:#808080\"/>\n",
       "\t<rect x=\"1417.92\" y=\"2119.64\" width=\"57.57\" height=\"365.22\" style=\"fill:none;stroke:#000000;stroke-width:8.64\"/>\n",
       "\t<rect x=\"1479.80\" y=\"1988.72\" width=\"66.08\" height=\"500.46\" style=\"fill:#808080\"/>\n",
       "\t<rect x=\"1484.12\" y=\"1993.04\" width=\"57.44\" height=\"491.82\" style=\"fill:none;stroke:#000000;stroke-width:8.64\"/>\n",
       "\t<rect x=\"1545.88\" y=\"1794.18\" width=\"66.21\" height=\"695.00\" style=\"fill:#808080\"/>\n",
       "\t<rect x=\"1550.20\" y=\"1798.50\" width=\"57.57\" height=\"686.36\" style=\"fill:none;stroke:#000000;stroke-width:8.64\"/>\n",
       "\t<rect x=\"1612.09\" y=\"1595.43\" width=\"66.21\" height=\"893.75\" style=\"fill:#808080\"/>\n",
       "\t<rect x=\"1616.41\" y=\"1599.75\" width=\"57.57\" height=\"885.11\" style=\"fill:none;stroke:#000000;stroke-width:8.64\"/>\n",
       "\t<rect x=\"1678.30\" y=\"1391.49\" width=\"66.21\" height=\"1097.70\" style=\"fill:#808080\"/>\n",
       "\t<rect x=\"1682.62\" y=\"1395.81\" width=\"57.57\" height=\"1089.06\" style=\"fill:none;stroke:#000000;stroke-width:8.64\"/>\n",
       "\t<rect x=\"1744.50\" y=\"1171.70\" width=\"66.08\" height=\"1317.48\" style=\"fill:#808080\"/>\n",
       "\t<rect x=\"1748.82\" y=\"1176.02\" width=\"57.44\" height=\"1308.84\" style=\"fill:none;stroke:#000000;stroke-width:8.64\"/>\n",
       "\t<rect x=\"1810.59\" y=\"910.58\" width=\"66.21\" height=\"1578.60\" style=\"fill:#808080\"/>\n",
       "\t<rect x=\"1814.91\" y=\"914.90\" width=\"57.57\" height=\"1569.96\" style=\"fill:none;stroke:#000000;stroke-width:8.64\"/>\n",
       "\t<rect x=\"1876.79\" y=\"654.53\" width=\"66.21\" height=\"1834.65\" style=\"fill:#808080\"/>\n",
       "\t<rect x=\"1881.11\" y=\"658.85\" width=\"57.57\" height=\"1826.01\" style=\"fill:none;stroke:#000000;stroke-width:8.64\"/>\n",
       "\t<rect x=\"1943.00\" y=\"476.70\" width=\"66.08\" height=\"2012.49\" style=\"fill:#808080\"/>\n",
       "\t<rect x=\"1947.32\" y=\"481.02\" width=\"57.44\" height=\"2003.85\" style=\"fill:none;stroke:#000000;stroke-width:8.64\"/>\n",
       "\t<rect x=\"2009.08\" y=\"328.81\" width=\"66.21\" height=\"2160.37\" style=\"fill:#808080\"/>\n",
       "\t<rect x=\"2013.40\" y=\"333.13\" width=\"57.57\" height=\"2151.73\" style=\"fill:none;stroke:#000000;stroke-width:8.64\"/>\n",
       "\t<rect x=\"2075.29\" y=\"164.22\" width=\"66.21\" height=\"2324.96\" style=\"fill:#808080\"/>\n",
       "\t<rect x=\"2079.61\" y=\"168.54\" width=\"57.57\" height=\"2316.32\" style=\"fill:none;stroke:#000000;stroke-width:8.64\"/>\n",
       "\t<rect x=\"2141.49\" y=\"243.18\" width=\"66.21\" height=\"2246.01\" style=\"fill:#808080\"/>\n",
       "\t<rect x=\"2145.81\" y=\"247.50\" width=\"57.57\" height=\"2237.37\" style=\"fill:none;stroke:#000000;stroke-width:8.64\"/>\n",
       "\t<rect x=\"2207.70\" y=\"222.88\" width=\"66.08\" height=\"2266.30\" style=\"fill:#808080\"/>\n",
       "\t<rect x=\"2212.02\" y=\"227.20\" width=\"57.44\" height=\"2257.66\" style=\"fill:none;stroke:#000000;stroke-width:8.64\"/>\n",
       "\t<rect x=\"2273.78\" y=\"355.42\" width=\"66.21\" height=\"2133.76\" style=\"fill:#808080\"/>\n",
       "\t<rect x=\"2278.10\" y=\"359.74\" width=\"57.57\" height=\"2125.12\" style=\"fill:none;stroke:#000000;stroke-width:8.64\"/>\n",
       "\t<rect x=\"2339.99\" y=\"476.08\" width=\"66.21\" height=\"2013.10\" style=\"fill:#808080\"/>\n",
       "\t<rect x=\"2344.31\" y=\"480.40\" width=\"57.57\" height=\"2004.46\" style=\"fill:none;stroke:#000000;stroke-width:8.64\"/>\n",
       "\t<rect x=\"2406.20\" y=\"724.33\" width=\"66.08\" height=\"1764.85\" style=\"fill:#808080\"/>\n",
       "\t<rect x=\"2410.51\" y=\"728.65\" width=\"57.44\" height=\"1756.21\" style=\"fill:none;stroke:#000000;stroke-width:8.64\"/>\n",
       "\t<rect x=\"2472.28\" y=\"968.00\" width=\"66.21\" height=\"1521.18\" style=\"fill:#808080\"/>\n",
       "\t<rect x=\"2476.60\" y=\"972.32\" width=\"57.57\" height=\"1512.54\" style=\"fill:none;stroke:#000000;stroke-width:8.64\"/>\n",
       "\t<rect x=\"2538.48\" y=\"1202.89\" width=\"66.21\" height=\"1286.30\" style=\"fill:#808080\"/>\n",
       "\t<rect x=\"2542.80\" y=\"1207.21\" width=\"57.57\" height=\"1277.66\" style=\"fill:none;stroke:#000000;stroke-width:8.64\"/>\n",
       "\t<rect x=\"2604.69\" y=\"1461.04\" width=\"66.08\" height=\"1028.15\" style=\"fill:#808080\"/>\n",
       "\t<rect x=\"2609.01\" y=\"1465.36\" width=\"57.44\" height=\"1019.51\" style=\"fill:none;stroke:#000000;stroke-width:8.64\"/>\n",
       "\t<rect x=\"2670.77\" y=\"1644.32\" width=\"66.21\" height=\"844.87\" style=\"fill:#808080\"/>\n",
       "\t<rect x=\"2675.09\" y=\"1648.64\" width=\"57.57\" height=\"836.23\" style=\"fill:none;stroke:#000000;stroke-width:8.64\"/>\n",
       "\t<rect x=\"2736.98\" y=\"1851.23\" width=\"66.21\" height=\"637.95\" style=\"fill:#808080\"/>\n",
       "\t<rect x=\"2741.30\" y=\"1855.55\" width=\"57.57\" height=\"629.31\" style=\"fill:none;stroke:#000000;stroke-width:8.64\"/>\n",
       "\t<rect x=\"2803.18\" y=\"2022.88\" width=\"66.21\" height=\"466.30\" style=\"fill:#808080\"/>\n",
       "\t<rect x=\"2807.50\" y=\"2027.20\" width=\"57.57\" height=\"457.66\" style=\"fill:none;stroke:#000000;stroke-width:8.64\"/>\n",
       "\t<rect x=\"2869.39\" y=\"2160.62\" width=\"66.08\" height=\"328.57\" style=\"fill:#808080\"/>\n",
       "\t<rect x=\"2873.71\" y=\"2164.94\" width=\"57.44\" height=\"319.93\" style=\"fill:none;stroke:#000000;stroke-width:8.64\"/>\n",
       "\t<rect x=\"2935.47\" y=\"2244.90\" width=\"66.21\" height=\"244.29\" style=\"fill:#808080\"/>\n",
       "\t<rect x=\"2939.79\" y=\"2249.22\" width=\"57.57\" height=\"235.65\" style=\"fill:none;stroke:#000000;stroke-width:8.64\"/>\n",
       "\t<rect x=\"3001.68\" y=\"2317.29\" width=\"66.21\" height=\"171.89\" style=\"fill:#808080\"/>\n",
       "\t<rect x=\"3006.00\" y=\"2321.61\" width=\"57.57\" height=\"163.25\" style=\"fill:none;stroke:#000000;stroke-width:8.64\"/>\n",
       "\t<rect x=\"3067.89\" y=\"2360.36\" width=\"66.08\" height=\"128.83\" style=\"fill:#808080\"/>\n",
       "\t<rect x=\"3072.21\" y=\"2364.68\" width=\"57.44\" height=\"120.19\" style=\"fill:none;stroke:#000000;stroke-width:8.64\"/>\n",
       "\t<rect x=\"3133.97\" y=\"2416.05\" width=\"66.21\" height=\"73.14\" style=\"fill:#808080\"/>\n",
       "\t<rect x=\"3138.29\" y=\"2420.37\" width=\"57.57\" height=\"64.50\" style=\"fill:none;stroke:#000000;stroke-width:8.64\"/>\n",
       "\t<rect x=\"3200.18\" y=\"2449.21\" width=\"66.21\" height=\"39.97\" style=\"fill:#808080\"/>\n",
       "\t<rect x=\"3204.49\" y=\"2453.53\" width=\"57.57\" height=\"31.33\" style=\"fill:none;stroke:#000000;stroke-width:8.64\"/>\n",
       "\t<rect x=\"3266.38\" y=\"2465.30\" width=\"66.21\" height=\"23.88\" style=\"fill:#808080\"/>\n",
       "\t<rect x=\"3270.70\" y=\"2469.62\" width=\"57.57\" height=\"15.24\" style=\"fill:none;stroke:#000000;stroke-width:8.64\"/>\n",
       "\t<rect x=\"3332.59\" y=\"2478.05\" width=\"66.08\" height=\"11.14\" style=\"fill:#808080\"/>\n",
       "\t<rect x=\"3336.91\" y=\"2482.37\" width=\"57.44\" height=\"2.50\" style=\"fill:none;stroke:#000000;stroke-width:8.64\"/>\n",
       "\t<rect x=\"3398.67\" y=\"2480.03\" width=\"66.21\" height=\"9.16\" style=\"fill:#808080\"/>\n",
       "\t<rect x=\"3402.99\" y=\"2484.35\" width=\"57.57\" height=\"0.52\" style=\"fill:none;stroke:#000000;stroke-width:8.64\"/>\n",
       "\t<rect x=\"3464.88\" y=\"2482.63\" width=\"66.21\" height=\"6.56\" style=\"fill:#808080\"/>\n",
       "\t<rect x=\"3469.20\" y=\"2486.95\" width=\"57.57\" height=\"-2.08\" style=\"fill:none;stroke:#000000;stroke-width:8.64\"/>\n",
       "\t<rect x=\"3531.08\" y=\"2487.58\" width=\"66.08\" height=\"1.61\" style=\"fill:#808080\"/>\n",
       "\t<rect x=\"3535.40\" y=\"2491.90\" width=\"57.44\" height=\"-7.03\" style=\"fill:none;stroke:#000000;stroke-width:8.64\"/>\n",
       "\t<rect x=\"3597.16\" y=\"2487.95\" width=\"66.21\" height=\"1.24\" style=\"fill:#808080\"/>\n",
       "\t<rect x=\"3601.48\" y=\"2492.27\" width=\"57.57\" height=\"-7.40\" style=\"fill:none;stroke:#000000;stroke-width:8.64\"/>\n",
       "\t<rect x=\"3663.37\" y=\"2487.95\" width=\"66.21\" height=\"1.24\" style=\"fill:#808080\"/>\n",
       "\t<rect x=\"3667.69\" y=\"2492.27\" width=\"57.57\" height=\"-7.40\" style=\"fill:none;stroke:#000000;stroke-width:8.64\"/>\n",
       "\t<rect x=\"3729.58\" y=\"2488.94\" width=\"66.08\" height=\"0.25\" style=\"fill:#808080\"/>\n",
       "\t<rect x=\"3733.90\" y=\"2493.26\" width=\"57.44\" height=\"-8.39\" style=\"fill:none;stroke:#000000;stroke-width:8.64\"/>\n",
       "\t<line x1=\"390.80\" y1=\"2489.19\" x2=\"390.80\" y2=\"100.86\" style=\"stroke:#000000;stroke-width:5.76\"/>\n",
       "\t<line x1=\"390.80\" y1=\"2489.19\" x2=\"350.83\" y2=\"2489.19\" style=\"stroke:#000000;stroke-width:5.76\"/>\n",
       "\t<text x=\"300.72\" y=\"2489.19\" style=\"font-family:'Helvetica';font-size:99.99px;fill:#000000\" transform=\"rotate(-90 300.72,2489.19)\" text-anchor=\"middle\">0</text>\n",
       "\t<line x1=\"390.80\" y1=\"1912.24\" x2=\"350.83\" y2=\"1912.24\" style=\"stroke:#000000;stroke-width:5.76\"/>\n",
       "\t<text x=\"300.72\" y=\"1912.24\" style=\"font-family:'Helvetica';font-size:99.99px;fill:#000000\" transform=\"rotate(-90 300.72,1912.24)\" text-anchor=\"middle\">.1</text>\n",
       "\t<line x1=\"390.80\" y1=\"1335.30\" x2=\"350.83\" y2=\"1335.30\" style=\"stroke:#000000;stroke-width:5.76\"/>\n",
       "\t<text x=\"300.72\" y=\"1335.30\" style=\"font-family:'Helvetica';font-size:99.99px;fill:#000000\" transform=\"rotate(-90 300.72,1335.30)\" text-anchor=\"middle\">.2</text>\n",
       "\t<line x1=\"390.80\" y1=\"758.24\" x2=\"350.83\" y2=\"758.24\" style=\"stroke:#000000;stroke-width:5.76\"/>\n",
       "\t<text x=\"300.72\" y=\"758.24\" style=\"font-family:'Helvetica';font-size:99.99px;fill:#000000\" transform=\"rotate(-90 300.72,758.24)\" text-anchor=\"middle\">.3</text>\n",
       "\t<line x1=\"390.80\" y1=\"181.30\" x2=\"350.83\" y2=\"181.30\" style=\"stroke:#000000;stroke-width:5.76\"/>\n",
       "\t<text x=\"300.72\" y=\"181.30\" style=\"font-family:'Helvetica';font-size:99.99px;fill:#000000\" transform=\"rotate(-90 300.72,181.30)\" text-anchor=\"middle\">.4</text>\n",
       "\t<text x=\"190.71\" y=\"1294.96\" style=\"font-family:'Helvetica';font-size:99.99px;fill:#000000\" transform=\"rotate(-90 190.71,1294.96)\" text-anchor=\"middle\">Density</text>\n",
       "\t<line x1=\"390.80\" y1=\"2489.19\" x2=\"3859.02\" y2=\"2489.19\" style=\"stroke:#000000;stroke-width:5.76\"/>\n",
       "\t<line x1=\"663.42\" y1=\"2489.19\" x2=\"663.42\" y2=\"2529.16\" style=\"stroke:#000000;stroke-width:5.76\"/>\n",
       "\t<text x=\"663.42\" y=\"2619.14\" style=\"font-family:'Helvetica';font-size:99.99px;fill:#000000\" text-anchor=\"middle\">-4</text>\n",
       "\t<line x1=\"1415.70\" y1=\"2489.19\" x2=\"1415.70\" y2=\"2529.16\" style=\"stroke:#000000;stroke-width:5.76\"/>\n",
       "\t<text x=\"1415.70\" y=\"2619.14\" style=\"font-family:'Helvetica';font-size:99.99px;fill:#000000\" text-anchor=\"middle\">-2</text>\n",
       "\t<line x1=\"2167.98\" y1=\"2489.19\" x2=\"2167.98\" y2=\"2529.16\" style=\"stroke:#000000;stroke-width:5.76\"/>\n",
       "\t<text x=\"2167.98\" y=\"2619.14\" style=\"font-family:'Helvetica';font-size:99.99px;fill:#000000\" text-anchor=\"middle\">0</text>\n",
       "\t<line x1=\"2920.25\" y1=\"2489.19\" x2=\"2920.25\" y2=\"2529.16\" style=\"stroke:#000000;stroke-width:5.76\"/>\n",
       "\t<text x=\"2920.25\" y=\"2619.14\" style=\"font-family:'Helvetica';font-size:99.99px;fill:#000000\" text-anchor=\"middle\">2</text>\n",
       "\t<line x1=\"3672.53\" y1=\"2489.19\" x2=\"3672.53\" y2=\"2529.16\" style=\"stroke:#000000;stroke-width:5.76\"/>\n",
       "\t<text x=\"3672.53\" y=\"2619.14\" style=\"font-family:'Helvetica';font-size:99.99px;fill:#000000\" text-anchor=\"middle\">4</text>\n",
       "\t<text x=\"2124.91\" y=\"2729.16\" style=\"font-family:'Helvetica';font-size:99.99px;fill:#000000\" text-anchor=\"middle\">v1</text>\n",
       "</svg>\n"
      ],
      "text/html": [
       "                <iframe frameborder=\"0\" scrolling=\"no\" height=\"436\" width=\"600\"                srcdoc=\"<html><body>&lt;?xml version=&quot;1.0&quot; encoding=&quot;UTF-8&quot; standalone=&quot;no&quot;?&gt;\n",
       "&lt;!-- This is a Stata 15.1 generated SVG file (http://www.stata.com) --&gt;\n",
       "\n",
       "&lt;svg version=&quot;1.1&quot; width=&quot;600px&quot; height=&quot;436px&quot; viewBox=&quot;0 0 3960 2880&quot; xmlns=&quot;http://www.w3.org/2000/svg&quot; xmlns:xlink=&quot;http://www.w3.org/1999/xlink&quot;&gt;\n",
       "\t&lt;desc&gt;Stata Graph - Graph&lt;/desc&gt;\n",
       "\t&lt;rect x=&quot;0&quot; y=&quot;0&quot; width=&quot;3960&quot; height=&quot;2880&quot; style=&quot;fill:#FFFFFF;stroke:none&quot;/&gt;\n",
       "\t&lt;rect x=&quot;0.00&quot; y=&quot;0.00&quot; width=&quot;3959.88&quot; height=&quot;2880.00&quot; style=&quot;fill:#FFFFFF&quot;/&gt;\n",
       "\t&lt;rect x=&quot;2.88&quot; y=&quot;2.88&quot; width=&quot;3954.12&quot; height=&quot;2874.24&quot; style=&quot;fill:none;stroke:#FFFFFF;stroke-width:5.76&quot;/&gt;\n",
       "\t&lt;rect x=&quot;393.68&quot; y=&quot;103.74&quot; width=&quot;3462.46&quot; height=&quot;2382.57&quot; style=&quot;fill:none;stroke:#000000;stroke-width:5.76&quot;/&gt;\n",
       "\t&lt;rect x=&quot;487.20&quot; y=&quot;2488.57&quot; width=&quot;66.21&quot; height=&quot;0.62&quot; style=&quot;fill:#808080&quot;/&gt;\n",
       "\t&lt;rect x=&quot;491.52&quot; y=&quot;2492.89&quot; width=&quot;57.57&quot; height=&quot;-8.02&quot; style=&quot;fill:none;stroke:#000000;stroke-width:8.64&quot;/&gt;\n",
       "\t&lt;rect x=&quot;619.62&quot; y=&quot;2487.95&quot; width=&quot;66.08&quot; height=&quot;1.24&quot; style=&quot;fill:#808080&quot;/&gt;\n",
       "\t&lt;rect x=&quot;623.94&quot; y=&quot;2492.27&quot; width=&quot;57.44&quot; height=&quot;-7.40&quot; style=&quot;fill:none;stroke:#000000;stroke-width:8.64&quot;/&gt;\n",
       "\t&lt;rect x=&quot;685.70&quot; y=&quot;2488.20&quot; width=&quot;66.21&quot; height=&quot;0.99&quot; style=&quot;fill:#808080&quot;/&gt;\n",
       "\t&lt;rect x=&quot;690.02&quot; y=&quot;2492.52&quot; width=&quot;57.57&quot; height=&quot;-7.65&quot; style=&quot;fill:none;stroke:#000000;stroke-width:8.64&quot;/&gt;\n",
       "\t&lt;rect x=&quot;751.90&quot; y=&quot;2486.59&quot; width=&quot;66.21&quot; height=&quot;2.60&quot; style=&quot;fill:#808080&quot;/&gt;\n",
       "\t&lt;rect x=&quot;756.22&quot; y=&quot;2490.91&quot; width=&quot;57.57&quot; height=&quot;-6.04&quot; style=&quot;fill:none;stroke:#000000;stroke-width:8.64&quot;/&gt;\n",
       "\t&lt;rect x=&quot;818.11&quot; y=&quot;2485.60&quot; width=&quot;66.08&quot; height=&quot;3.59&quot; style=&quot;fill:#808080&quot;/&gt;\n",
       "\t&lt;rect x=&quot;822.43&quot; y=&quot;2489.92&quot; width=&quot;57.44&quot; height=&quot;-5.05&quot; style=&quot;fill:none;stroke:#000000;stroke-width:8.64&quot;/&gt;\n",
       "\t&lt;rect x=&quot;884.19&quot; y=&quot;2480.65&quot; width=&quot;66.21&quot; height=&quot;8.54&quot; style=&quot;fill:#808080&quot;/&gt;\n",
       "\t&lt;rect x=&quot;888.51&quot; y=&quot;2484.97&quot; width=&quot;57.57&quot; height=&quot;-0.10&quot; style=&quot;fill:none;stroke:#000000;stroke-width:8.64&quot;/&gt;\n",
       "\t&lt;rect x=&quot;950.40&quot; y=&quot;2473.84&quot; width=&quot;66.21&quot; height=&quot;15.35&quot; style=&quot;fill:#808080&quot;/&gt;\n",
       "\t&lt;rect x=&quot;954.72&quot; y=&quot;2478.16&quot; width=&quot;57.57&quot; height=&quot;6.71&quot; style=&quot;fill:none;stroke:#000000;stroke-width:8.64&quot;/&gt;\n",
       "\t&lt;rect x=&quot;1016.61&quot; y=&quot;2460.72&quot; width=&quot;66.21&quot; height=&quot;28.46&quot; style=&quot;fill:#808080&quot;/&gt;\n",
       "\t&lt;rect x=&quot;1020.93&quot; y=&quot;2465.04&quot; width=&quot;57.57&quot; height=&quot;19.82&quot; style=&quot;fill:none;stroke:#000000;stroke-width:8.64&quot;/&gt;\n",
       "\t&lt;rect x=&quot;1082.81&quot; y=&quot;2448.59&quot; width=&quot;66.08&quot; height=&quot;40.59&quot; style=&quot;fill:#808080&quot;/&gt;\n",
       "\t&lt;rect x=&quot;1087.13&quot; y=&quot;2452.91&quot; width=&quot;57.44&quot; height=&quot;31.95&quot; style=&quot;fill:none;stroke:#000000;stroke-width:8.64&quot;/&gt;\n",
       "\t&lt;rect x=&quot;1148.89&quot; y=&quot;2407.88&quot; width=&quot;66.21&quot; height=&quot;81.31&quot; style=&quot;fill:#808080&quot;/&gt;\n",
       "\t&lt;rect x=&quot;1153.21&quot; y=&quot;2412.20&quot; width=&quot;57.57&quot; height=&quot;72.67&quot; style=&quot;fill:none;stroke:#000000;stroke-width:8.64&quot;/&gt;\n",
       "\t&lt;rect x=&quot;1215.10&quot; y=&quot;2375.08&quot; width=&quot;66.21&quot; height=&quot;114.10&quot; style=&quot;fill:#808080&quot;/&gt;\n",
       "\t&lt;rect x=&quot;1219.42&quot; y=&quot;2379.40&quot; width=&quot;57.57&quot; height=&quot;105.46&quot; style=&quot;fill:none;stroke:#000000;stroke-width:8.64&quot;/&gt;\n",
       "\t&lt;rect x=&quot;1281.31&quot; y=&quot;2301.33&quot; width=&quot;66.08&quot; height=&quot;187.86&quot; style=&quot;fill:#808080&quot;/&gt;\n",
       "\t&lt;rect x=&quot;1285.63&quot; y=&quot;2305.65&quot; width=&quot;57.44&quot; height=&quot;179.22&quot; style=&quot;fill:none;stroke:#000000;stroke-width:8.64&quot;/&gt;\n",
       "\t&lt;rect x=&quot;1347.39&quot; y=&quot;2217.92&quot; width=&quot;66.21&quot; height=&quot;271.27&quot; style=&quot;fill:#808080&quot;/&gt;\n",
       "\t&lt;rect x=&quot;1351.71&quot; y=&quot;2222.24&quot; width=&quot;57.57&quot; height=&quot;262.63&quot; style=&quot;fill:none;stroke:#000000;stroke-width:8.64&quot;/&gt;\n",
       "\t&lt;rect x=&quot;1413.60&quot; y=&quot;2115.32&quot; width=&quot;66.21&quot; height=&quot;373.86&quot; style=&quot;fill:#808080&quot;/&gt;\n",
       "\t&lt;rect x=&quot;1417.92&quot; y=&quot;2119.64&quot; width=&quot;57.57&quot; height=&quot;365.22&quot; style=&quot;fill:none;stroke:#000000;stroke-width:8.64&quot;/&gt;\n",
       "\t&lt;rect x=&quot;1479.80&quot; y=&quot;1988.72&quot; width=&quot;66.08&quot; height=&quot;500.46&quot; style=&quot;fill:#808080&quot;/&gt;\n",
       "\t&lt;rect x=&quot;1484.12&quot; y=&quot;1993.04&quot; width=&quot;57.44&quot; height=&quot;491.82&quot; style=&quot;fill:none;stroke:#000000;stroke-width:8.64&quot;/&gt;\n",
       "\t&lt;rect x=&quot;1545.88&quot; y=&quot;1794.18&quot; width=&quot;66.21&quot; height=&quot;695.00&quot; style=&quot;fill:#808080&quot;/&gt;\n",
       "\t&lt;rect x=&quot;1550.20&quot; y=&quot;1798.50&quot; width=&quot;57.57&quot; height=&quot;686.36&quot; style=&quot;fill:none;stroke:#000000;stroke-width:8.64&quot;/&gt;\n",
       "\t&lt;rect x=&quot;1612.09&quot; y=&quot;1595.43&quot; width=&quot;66.21&quot; height=&quot;893.75&quot; style=&quot;fill:#808080&quot;/&gt;\n",
       "\t&lt;rect x=&quot;1616.41&quot; y=&quot;1599.75&quot; width=&quot;57.57&quot; height=&quot;885.11&quot; style=&quot;fill:none;stroke:#000000;stroke-width:8.64&quot;/&gt;\n",
       "\t&lt;rect x=&quot;1678.30&quot; y=&quot;1391.49&quot; width=&quot;66.21&quot; height=&quot;1097.70&quot; style=&quot;fill:#808080&quot;/&gt;\n",
       "\t&lt;rect x=&quot;1682.62&quot; y=&quot;1395.81&quot; width=&quot;57.57&quot; height=&quot;1089.06&quot; style=&quot;fill:none;stroke:#000000;stroke-width:8.64&quot;/&gt;\n",
       "\t&lt;rect x=&quot;1744.50&quot; y=&quot;1171.70&quot; width=&quot;66.08&quot; height=&quot;1317.48&quot; style=&quot;fill:#808080&quot;/&gt;\n",
       "\t&lt;rect x=&quot;1748.82&quot; y=&quot;1176.02&quot; width=&quot;57.44&quot; height=&quot;1308.84&quot; style=&quot;fill:none;stroke:#000000;stroke-width:8.64&quot;/&gt;\n",
       "\t&lt;rect x=&quot;1810.59&quot; y=&quot;910.58&quot; width=&quot;66.21&quot; height=&quot;1578.60&quot; style=&quot;fill:#808080&quot;/&gt;\n",
       "\t&lt;rect x=&quot;1814.91&quot; y=&quot;914.90&quot; width=&quot;57.57&quot; height=&quot;1569.96&quot; style=&quot;fill:none;stroke:#000000;stroke-width:8.64&quot;/&gt;\n",
       "\t&lt;rect x=&quot;1876.79&quot; y=&quot;654.53&quot; width=&quot;66.21&quot; height=&quot;1834.65&quot; style=&quot;fill:#808080&quot;/&gt;\n",
       "\t&lt;rect x=&quot;1881.11&quot; y=&quot;658.85&quot; width=&quot;57.57&quot; height=&quot;1826.01&quot; style=&quot;fill:none;stroke:#000000;stroke-width:8.64&quot;/&gt;\n",
       "\t&lt;rect x=&quot;1943.00&quot; y=&quot;476.70&quot; width=&quot;66.08&quot; height=&quot;2012.49&quot; style=&quot;fill:#808080&quot;/&gt;\n",
       "\t&lt;rect x=&quot;1947.32&quot; y=&quot;481.02&quot; width=&quot;57.44&quot; height=&quot;2003.85&quot; style=&quot;fill:none;stroke:#000000;stroke-width:8.64&quot;/&gt;\n",
       "\t&lt;rect x=&quot;2009.08&quot; y=&quot;328.81&quot; width=&quot;66.21&quot; height=&quot;2160.37&quot; style=&quot;fill:#808080&quot;/&gt;\n",
       "\t&lt;rect x=&quot;2013.40&quot; y=&quot;333.13&quot; width=&quot;57.57&quot; height=&quot;2151.73&quot; style=&quot;fill:none;stroke:#000000;stroke-width:8.64&quot;/&gt;\n",
       "\t&lt;rect x=&quot;2075.29&quot; y=&quot;164.22&quot; width=&quot;66.21&quot; height=&quot;2324.96&quot; style=&quot;fill:#808080&quot;/&gt;\n",
       "\t&lt;rect x=&quot;2079.61&quot; y=&quot;168.54&quot; width=&quot;57.57&quot; height=&quot;2316.32&quot; style=&quot;fill:none;stroke:#000000;stroke-width:8.64&quot;/&gt;\n",
       "\t&lt;rect x=&quot;2141.49&quot; y=&quot;243.18&quot; width=&quot;66.21&quot; height=&quot;2246.01&quot; style=&quot;fill:#808080&quot;/&gt;\n",
       "\t&lt;rect x=&quot;2145.81&quot; y=&quot;247.50&quot; width=&quot;57.57&quot; height=&quot;2237.37&quot; style=&quot;fill:none;stroke:#000000;stroke-width:8.64&quot;/&gt;\n",
       "\t&lt;rect x=&quot;2207.70&quot; y=&quot;222.88&quot; width=&quot;66.08&quot; height=&quot;2266.30&quot; style=&quot;fill:#808080&quot;/&gt;\n",
       "\t&lt;rect x=&quot;2212.02&quot; y=&quot;227.20&quot; width=&quot;57.44&quot; height=&quot;2257.66&quot; style=&quot;fill:none;stroke:#000000;stroke-width:8.64&quot;/&gt;\n",
       "\t&lt;rect x=&quot;2273.78&quot; y=&quot;355.42&quot; width=&quot;66.21&quot; height=&quot;2133.76&quot; style=&quot;fill:#808080&quot;/&gt;\n",
       "\t&lt;rect x=&quot;2278.10&quot; y=&quot;359.74&quot; width=&quot;57.57&quot; height=&quot;2125.12&quot; style=&quot;fill:none;stroke:#000000;stroke-width:8.64&quot;/&gt;\n",
       "\t&lt;rect x=&quot;2339.99&quot; y=&quot;476.08&quot; width=&quot;66.21&quot; height=&quot;2013.10&quot; style=&quot;fill:#808080&quot;/&gt;\n",
       "\t&lt;rect x=&quot;2344.31&quot; y=&quot;480.40&quot; width=&quot;57.57&quot; height=&quot;2004.46&quot; style=&quot;fill:none;stroke:#000000;stroke-width:8.64&quot;/&gt;\n",
       "\t&lt;rect x=&quot;2406.20&quot; y=&quot;724.33&quot; width=&quot;66.08&quot; height=&quot;1764.85&quot; style=&quot;fill:#808080&quot;/&gt;\n",
       "\t&lt;rect x=&quot;2410.51&quot; y=&quot;728.65&quot; width=&quot;57.44&quot; height=&quot;1756.21&quot; style=&quot;fill:none;stroke:#000000;stroke-width:8.64&quot;/&gt;\n",
       "\t&lt;rect x=&quot;2472.28&quot; y=&quot;968.00&quot; width=&quot;66.21&quot; height=&quot;1521.18&quot; style=&quot;fill:#808080&quot;/&gt;\n",
       "\t&lt;rect x=&quot;2476.60&quot; y=&quot;972.32&quot; width=&quot;57.57&quot; height=&quot;1512.54&quot; style=&quot;fill:none;stroke:#000000;stroke-width:8.64&quot;/&gt;\n",
       "\t&lt;rect x=&quot;2538.48&quot; y=&quot;1202.89&quot; width=&quot;66.21&quot; height=&quot;1286.30&quot; style=&quot;fill:#808080&quot;/&gt;\n",
       "\t&lt;rect x=&quot;2542.80&quot; y=&quot;1207.21&quot; width=&quot;57.57&quot; height=&quot;1277.66&quot; style=&quot;fill:none;stroke:#000000;stroke-width:8.64&quot;/&gt;\n",
       "\t&lt;rect x=&quot;2604.69&quot; y=&quot;1461.04&quot; width=&quot;66.08&quot; height=&quot;1028.15&quot; style=&quot;fill:#808080&quot;/&gt;\n",
       "\t&lt;rect x=&quot;2609.01&quot; y=&quot;1465.36&quot; width=&quot;57.44&quot; height=&quot;1019.51&quot; style=&quot;fill:none;stroke:#000000;stroke-width:8.64&quot;/&gt;\n",
       "\t&lt;rect x=&quot;2670.77&quot; y=&quot;1644.32&quot; width=&quot;66.21&quot; height=&quot;844.87&quot; style=&quot;fill:#808080&quot;/&gt;\n",
       "\t&lt;rect x=&quot;2675.09&quot; y=&quot;1648.64&quot; width=&quot;57.57&quot; height=&quot;836.23&quot; style=&quot;fill:none;stroke:#000000;stroke-width:8.64&quot;/&gt;\n",
       "\t&lt;rect x=&quot;2736.98&quot; y=&quot;1851.23&quot; width=&quot;66.21&quot; height=&quot;637.95&quot; style=&quot;fill:#808080&quot;/&gt;\n",
       "\t&lt;rect x=&quot;2741.30&quot; y=&quot;1855.55&quot; width=&quot;57.57&quot; height=&quot;629.31&quot; style=&quot;fill:none;stroke:#000000;stroke-width:8.64&quot;/&gt;\n",
       "\t&lt;rect x=&quot;2803.18&quot; y=&quot;2022.88&quot; width=&quot;66.21&quot; height=&quot;466.30&quot; style=&quot;fill:#808080&quot;/&gt;\n",
       "\t&lt;rect x=&quot;2807.50&quot; y=&quot;2027.20&quot; width=&quot;57.57&quot; height=&quot;457.66&quot; style=&quot;fill:none;stroke:#000000;stroke-width:8.64&quot;/&gt;\n",
       "\t&lt;rect x=&quot;2869.39&quot; y=&quot;2160.62&quot; width=&quot;66.08&quot; height=&quot;328.57&quot; style=&quot;fill:#808080&quot;/&gt;\n",
       "\t&lt;rect x=&quot;2873.71&quot; y=&quot;2164.94&quot; width=&quot;57.44&quot; height=&quot;319.93&quot; style=&quot;fill:none;stroke:#000000;stroke-width:8.64&quot;/&gt;\n",
       "\t&lt;rect x=&quot;2935.47&quot; y=&quot;2244.90&quot; width=&quot;66.21&quot; height=&quot;244.29&quot; style=&quot;fill:#808080&quot;/&gt;\n",
       "\t&lt;rect x=&quot;2939.79&quot; y=&quot;2249.22&quot; width=&quot;57.57&quot; height=&quot;235.65&quot; style=&quot;fill:none;stroke:#000000;stroke-width:8.64&quot;/&gt;\n",
       "\t&lt;rect x=&quot;3001.68&quot; y=&quot;2317.29&quot; width=&quot;66.21&quot; height=&quot;171.89&quot; style=&quot;fill:#808080&quot;/&gt;\n",
       "\t&lt;rect x=&quot;3006.00&quot; y=&quot;2321.61&quot; width=&quot;57.57&quot; height=&quot;163.25&quot; style=&quot;fill:none;stroke:#000000;stroke-width:8.64&quot;/&gt;\n",
       "\t&lt;rect x=&quot;3067.89&quot; y=&quot;2360.36&quot; width=&quot;66.08&quot; height=&quot;128.83&quot; style=&quot;fill:#808080&quot;/&gt;\n",
       "\t&lt;rect x=&quot;3072.21&quot; y=&quot;2364.68&quot; width=&quot;57.44&quot; height=&quot;120.19&quot; style=&quot;fill:none;stroke:#000000;stroke-width:8.64&quot;/&gt;\n",
       "\t&lt;rect x=&quot;3133.97&quot; y=&quot;2416.05&quot; width=&quot;66.21&quot; height=&quot;73.14&quot; style=&quot;fill:#808080&quot;/&gt;\n",
       "\t&lt;rect x=&quot;3138.29&quot; y=&quot;2420.37&quot; width=&quot;57.57&quot; height=&quot;64.50&quot; style=&quot;fill:none;stroke:#000000;stroke-width:8.64&quot;/&gt;\n",
       "\t&lt;rect x=&quot;3200.18&quot; y=&quot;2449.21&quot; width=&quot;66.21&quot; height=&quot;39.97&quot; style=&quot;fill:#808080&quot;/&gt;\n",
       "\t&lt;rect x=&quot;3204.49&quot; y=&quot;2453.53&quot; width=&quot;57.57&quot; height=&quot;31.33&quot; style=&quot;fill:none;stroke:#000000;stroke-width:8.64&quot;/&gt;\n",
       "\t&lt;rect x=&quot;3266.38&quot; y=&quot;2465.30&quot; width=&quot;66.21&quot; height=&quot;23.88&quot; style=&quot;fill:#808080&quot;/&gt;\n",
       "\t&lt;rect x=&quot;3270.70&quot; y=&quot;2469.62&quot; width=&quot;57.57&quot; height=&quot;15.24&quot; style=&quot;fill:none;stroke:#000000;stroke-width:8.64&quot;/&gt;\n",
       "\t&lt;rect x=&quot;3332.59&quot; y=&quot;2478.05&quot; width=&quot;66.08&quot; height=&quot;11.14&quot; style=&quot;fill:#808080&quot;/&gt;\n",
       "\t&lt;rect x=&quot;3336.91&quot; y=&quot;2482.37&quot; width=&quot;57.44&quot; height=&quot;2.50&quot; style=&quot;fill:none;stroke:#000000;stroke-width:8.64&quot;/&gt;\n",
       "\t&lt;rect x=&quot;3398.67&quot; y=&quot;2480.03&quot; width=&quot;66.21&quot; height=&quot;9.16&quot; style=&quot;fill:#808080&quot;/&gt;\n",
       "\t&lt;rect x=&quot;3402.99&quot; y=&quot;2484.35&quot; width=&quot;57.57&quot; height=&quot;0.52&quot; style=&quot;fill:none;stroke:#000000;stroke-width:8.64&quot;/&gt;\n",
       "\t&lt;rect x=&quot;3464.88&quot; y=&quot;2482.63&quot; width=&quot;66.21&quot; height=&quot;6.56&quot; style=&quot;fill:#808080&quot;/&gt;\n",
       "\t&lt;rect x=&quot;3469.20&quot; y=&quot;2486.95&quot; width=&quot;57.57&quot; height=&quot;-2.08&quot; style=&quot;fill:none;stroke:#000000;stroke-width:8.64&quot;/&gt;\n",
       "\t&lt;rect x=&quot;3531.08&quot; y=&quot;2487.58&quot; width=&quot;66.08&quot; height=&quot;1.61&quot; style=&quot;fill:#808080&quot;/&gt;\n",
       "\t&lt;rect x=&quot;3535.40&quot; y=&quot;2491.90&quot; width=&quot;57.44&quot; height=&quot;-7.03&quot; style=&quot;fill:none;stroke:#000000;stroke-width:8.64&quot;/&gt;\n",
       "\t&lt;rect x=&quot;3597.16&quot; y=&quot;2487.95&quot; width=&quot;66.21&quot; height=&quot;1.24&quot; style=&quot;fill:#808080&quot;/&gt;\n",
       "\t&lt;rect x=&quot;3601.48&quot; y=&quot;2492.27&quot; width=&quot;57.57&quot; height=&quot;-7.40&quot; style=&quot;fill:none;stroke:#000000;stroke-width:8.64&quot;/&gt;\n",
       "\t&lt;rect x=&quot;3663.37&quot; y=&quot;2487.95&quot; width=&quot;66.21&quot; height=&quot;1.24&quot; style=&quot;fill:#808080&quot;/&gt;\n",
       "\t&lt;rect x=&quot;3667.69&quot; y=&quot;2492.27&quot; width=&quot;57.57&quot; height=&quot;-7.40&quot; style=&quot;fill:none;stroke:#000000;stroke-width:8.64&quot;/&gt;\n",
       "\t&lt;rect x=&quot;3729.58&quot; y=&quot;2488.94&quot; width=&quot;66.08&quot; height=&quot;0.25&quot; style=&quot;fill:#808080&quot;/&gt;\n",
       "\t&lt;rect x=&quot;3733.90&quot; y=&quot;2493.26&quot; width=&quot;57.44&quot; height=&quot;-8.39&quot; style=&quot;fill:none;stroke:#000000;stroke-width:8.64&quot;/&gt;\n",
       "\t&lt;line x1=&quot;390.80&quot; y1=&quot;2489.19&quot; x2=&quot;390.80&quot; y2=&quot;100.86&quot; style=&quot;stroke:#000000;stroke-width:5.76&quot;/&gt;\n",
       "\t&lt;line x1=&quot;390.80&quot; y1=&quot;2489.19&quot; x2=&quot;350.83&quot; y2=&quot;2489.19&quot; style=&quot;stroke:#000000;stroke-width:5.76&quot;/&gt;\n",
       "\t&lt;text x=&quot;300.72&quot; y=&quot;2489.19&quot; style=&quot;font-family:&#x27;Helvetica&#x27;;font-size:99.99px;fill:#000000&quot; transform=&quot;rotate(-90 300.72,2489.19)&quot; text-anchor=&quot;middle&quot;&gt;0&lt;/text&gt;\n",
       "\t&lt;line x1=&quot;390.80&quot; y1=&quot;1912.24&quot; x2=&quot;350.83&quot; y2=&quot;1912.24&quot; style=&quot;stroke:#000000;stroke-width:5.76&quot;/&gt;\n",
       "\t&lt;text x=&quot;300.72&quot; y=&quot;1912.24&quot; style=&quot;font-family:&#x27;Helvetica&#x27;;font-size:99.99px;fill:#000000&quot; transform=&quot;rotate(-90 300.72,1912.24)&quot; text-anchor=&quot;middle&quot;&gt;.1&lt;/text&gt;\n",
       "\t&lt;line x1=&quot;390.80&quot; y1=&quot;1335.30&quot; x2=&quot;350.83&quot; y2=&quot;1335.30&quot; style=&quot;stroke:#000000;stroke-width:5.76&quot;/&gt;\n",
       "\t&lt;text x=&quot;300.72&quot; y=&quot;1335.30&quot; style=&quot;font-family:&#x27;Helvetica&#x27;;font-size:99.99px;fill:#000000&quot; transform=&quot;rotate(-90 300.72,1335.30)&quot; text-anchor=&quot;middle&quot;&gt;.2&lt;/text&gt;\n",
       "\t&lt;line x1=&quot;390.80&quot; y1=&quot;758.24&quot; x2=&quot;350.83&quot; y2=&quot;758.24&quot; style=&quot;stroke:#000000;stroke-width:5.76&quot;/&gt;\n",
       "\t&lt;text x=&quot;300.72&quot; y=&quot;758.24&quot; style=&quot;font-family:&#x27;Helvetica&#x27;;font-size:99.99px;fill:#000000&quot; transform=&quot;rotate(-90 300.72,758.24)&quot; text-anchor=&quot;middle&quot;&gt;.3&lt;/text&gt;\n",
       "\t&lt;line x1=&quot;390.80&quot; y1=&quot;181.30&quot; x2=&quot;350.83&quot; y2=&quot;181.30&quot; style=&quot;stroke:#000000;stroke-width:5.76&quot;/&gt;\n",
       "\t&lt;text x=&quot;300.72&quot; y=&quot;181.30&quot; style=&quot;font-family:&#x27;Helvetica&#x27;;font-size:99.99px;fill:#000000&quot; transform=&quot;rotate(-90 300.72,181.30)&quot; text-anchor=&quot;middle&quot;&gt;.4&lt;/text&gt;\n",
       "\t&lt;text x=&quot;190.71&quot; y=&quot;1294.96&quot; style=&quot;font-family:&#x27;Helvetica&#x27;;font-size:99.99px;fill:#000000&quot; transform=&quot;rotate(-90 190.71,1294.96)&quot; text-anchor=&quot;middle&quot;&gt;Density&lt;/text&gt;\n",
       "\t&lt;line x1=&quot;390.80&quot; y1=&quot;2489.19&quot; x2=&quot;3859.02&quot; y2=&quot;2489.19&quot; style=&quot;stroke:#000000;stroke-width:5.76&quot;/&gt;\n",
       "\t&lt;line x1=&quot;663.42&quot; y1=&quot;2489.19&quot; x2=&quot;663.42&quot; y2=&quot;2529.16&quot; style=&quot;stroke:#000000;stroke-width:5.76&quot;/&gt;\n",
       "\t&lt;text x=&quot;663.42&quot; y=&quot;2619.14&quot; style=&quot;font-family:&#x27;Helvetica&#x27;;font-size:99.99px;fill:#000000&quot; text-anchor=&quot;middle&quot;&gt;-4&lt;/text&gt;\n",
       "\t&lt;line x1=&quot;1415.70&quot; y1=&quot;2489.19&quot; x2=&quot;1415.70&quot; y2=&quot;2529.16&quot; style=&quot;stroke:#000000;stroke-width:5.76&quot;/&gt;\n",
       "\t&lt;text x=&quot;1415.70&quot; y=&quot;2619.14&quot; style=&quot;font-family:&#x27;Helvetica&#x27;;font-size:99.99px;fill:#000000&quot; text-anchor=&quot;middle&quot;&gt;-2&lt;/text&gt;\n",
       "\t&lt;line x1=&quot;2167.98&quot; y1=&quot;2489.19&quot; x2=&quot;2167.98&quot; y2=&quot;2529.16&quot; style=&quot;stroke:#000000;stroke-width:5.76&quot;/&gt;\n",
       "\t&lt;text x=&quot;2167.98&quot; y=&quot;2619.14&quot; style=&quot;font-family:&#x27;Helvetica&#x27;;font-size:99.99px;fill:#000000&quot; text-anchor=&quot;middle&quot;&gt;0&lt;/text&gt;\n",
       "\t&lt;line x1=&quot;2920.25&quot; y1=&quot;2489.19&quot; x2=&quot;2920.25&quot; y2=&quot;2529.16&quot; style=&quot;stroke:#000000;stroke-width:5.76&quot;/&gt;\n",
       "\t&lt;text x=&quot;2920.25&quot; y=&quot;2619.14&quot; style=&quot;font-family:&#x27;Helvetica&#x27;;font-size:99.99px;fill:#000000&quot; text-anchor=&quot;middle&quot;&gt;2&lt;/text&gt;\n",
       "\t&lt;line x1=&quot;3672.53&quot; y1=&quot;2489.19&quot; x2=&quot;3672.53&quot; y2=&quot;2529.16&quot; style=&quot;stroke:#000000;stroke-width:5.76&quot;/&gt;\n",
       "\t&lt;text x=&quot;3672.53&quot; y=&quot;2619.14&quot; style=&quot;font-family:&#x27;Helvetica&#x27;;font-size:99.99px;fill:#000000&quot; text-anchor=&quot;middle&quot;&gt;4&lt;/text&gt;\n",
       "\t&lt;text x=&quot;2124.91&quot; y=&quot;2729.16&quot; style=&quot;font-family:&#x27;Helvetica&#x27;;font-size:99.99px;fill:#000000&quot; text-anchor=&quot;middle&quot;&gt;v1&lt;/text&gt;\n",
       "&lt;/svg&gt;\n",
       "</body></html>\"></iframe>\n"
      ],
      "text/plain": [
       "This front-end cannot display the desired image type."
      ]
     },
     "metadata": {
      "image/svg+xml": {
       "height": 436,
       "width": 600
      },
      "text/html": {
       "height": 436,
       "width": 600
      }
     },
     "output_type": "display_data"
    },
    {
     "name": "stdout",
     "output_type": "stream",
     "text": [
      "\n",
      "\n"
     ]
    }
   ],
   "source": [
    "set scheme s1mono // just a style for our graph\n",
    "hist v1"
   ]
  },
  {
   "cell_type": "markdown",
   "metadata": {},
   "source": [
    "### Importing data to Stata in short: Example from Statistics Finland\n",
    "\n",
    "Next I demonstrate on how to import text and Excel data to Stata. We obtain our data directly through Statistics Finland API (I’ve created the links beforehand). We could also download the data to disk and replace the address with the file path. More on that later... "
   ]
  },
  {
   "cell_type": "code",
   "execution_count": 20,
   "metadata": {},
   "outputs": [
    {
     "name": "stdout",
     "output_type": "stream",
     "text": [
      "\n",
      "\n",
      "(3 vars, 192 obs)\n"
     ]
    }
   ],
   "source": [
    "local delimiter \"tab\" // our data has 'tabulate' key as the delimiter.\n",
    "import delimited using ///\n",
    "https://pxnet2.stat.fi:443/PXWeb/sq/2c23b351-c9a5-4946-b9c1-06c8146e7119 , ///\n",
    "delimiter(`delimiter') clear"
   ]
  },
  {
   "cell_type": "markdown",
   "metadata": {},
   "source": [
    "Let's describe our data in memory:"
   ]
  },
  {
   "cell_type": "code",
   "execution_count": 21,
   "metadata": {},
   "outputs": [
    {
     "name": "stdout",
     "output_type": "stream",
     "text": [
      "\n",
      "              storage   display    value\n",
      "variable name   type    format     label      variable label\n",
      "---------------------------------------------------------------------------------------------------------------------------------------------------------------------------------------------------------------------------------------------------------------\n",
      "month           str7    %9s                   Month\n",
      "commodity       str5    %9s                   Commodity\n",
      "pointfigure     float   %9.0g                 Point figure\n"
     ]
    }
   ],
   "source": [
    "describe _all"
   ]
  },
  {
   "cell_type": "markdown",
   "metadata": {},
   "source": [
    "In Stata, the data is saved as variables. Think them as vectors or matrices or as columns.\n",
    "\n",
    "Notice how the month variable has storage type `str7`. That means it’s a string variable. We can turn it into a time variable that Stata understands:"
   ]
  },
  {
   "cell_type": "code",
   "execution_count": 22,
   "metadata": {},
   "outputs": [],
   "source": [
    "generate temp = monthly(month, \"YM\")\n",
    "drop month\n",
    "rename temp month\n",
    "label variable month \"Month\"\n",
    "format month %tm"
   ]
  },
  {
   "cell_type": "markdown",
   "metadata": {},
   "source": [
    "Above, we first generate a new variable with the `generate` command. Then we delete the old variable with the `drop` command and rename the variable *temp* back to *month* with the `rename` command.\n",
    "\n",
    "Finally, we give the new month variable it’s old label."
   ]
  },
  {
   "cell_type": "code",
   "execution_count": 23,
   "metadata": {},
   "outputs": [
    {
     "name": "stdout",
     "output_type": "stream",
     "text": [
      "\n",
      "              storage   display    value\n",
      "variable name   type    format     label      variable label\n",
      "---------------------------------------------------------------------------------------------------------------------------------------------------------------------------------------------------------------------------------------------------------------\n",
      "commodity       str5    %9s                   Commodity\n",
      "pointfigure     float   %9.0g                 Point figure\n",
      "month           float   %tm                   Month\n"
     ]
    }
   ],
   "source": [
    "describe _all"
   ]
  },
  {
   "cell_type": "markdown",
   "metadata": {},
   "source": [
    "We could also do the same with Excel data. This time Statistics Finland gives us a direct link to an Excel file:"
   ]
  },
  {
   "cell_type": "code",
   "execution_count": 24,
   "metadata": {},
   "outputs": [],
   "source": [
    "import excel using ///\n",
    "https://pxnet2.stat.fi/PXWeb/sq/feec4f38-7ddb-4c9f-b091-a0688c3f7b89 , ///\n",
    "cellrange(A3:F194) firstrow clear"
   ]
  },
  {
   "cell_type": "code",
   "execution_count": 25,
   "metadata": {},
   "outputs": [],
   "source": [
    "keep A B Pointfigure\n",
    "rename A month\n",
    "rename B commodity\n",
    "generate temp = monthly(month, \"YM\")\n",
    "drop month\n",
    "rename temp month\n",
    "label variable month \"Month\"\n",
    "format month %tm"
   ]
  },
  {
   "cell_type": "markdown",
   "metadata": {},
   "source": [
    "Excel files are often quite awkward. Notice how we need to determine the precise cellrange or the data would include some unwanted metadata from the Statistics Finland.\n",
    "\n",
    "Command `keep` is the opposite of `drop`.\n",
    "\n",
    "Finally, to demonstrate the dynamic options of Stata, let’s do a graph:"
   ]
  },
  {
   "cell_type": "code",
   "execution_count": 26,
   "metadata": {},
   "outputs": [
    {
     "data": {
      "application/pdf": "[encoded data removed]",
      "image/svg+xml": [
       "<?xml version=\"1.0\" encoding=\"UTF-8\" standalone=\"no\"?>\n",
       "<!-- This is a Stata 15.1 generated SVG file (http://www.stata.com) -->\n",
       "\n",
       "<svg version=\"1.1\" width=\"600px\" height=\"436px\" viewBox=\"0 0 3960 2880\" xmlns=\"http://www.w3.org/2000/svg\" xmlns:xlink=\"http://www.w3.org/1999/xlink\">\n",
       "\t<desc>Stata Graph - Graph</desc>\n",
       "\t<rect x=\"0\" y=\"0\" width=\"3960\" height=\"2880\" style=\"fill:#FFFFFF;stroke:none\"/>\n",
       "\t<rect x=\"0.00\" y=\"0.00\" width=\"3959.88\" height=\"2880.00\" style=\"fill:#FFFFFF\"/>\n",
       "\t<rect x=\"2.88\" y=\"2.88\" width=\"3954.12\" height=\"2874.24\" style=\"fill:none;stroke:#FFFFFF;stroke-width:5.76\"/>\n",
       "\t<rect x=\"393.68\" y=\"278.23\" width=\"3462.46\" height=\"2208.07\" style=\"fill:none;stroke:#000000;stroke-width:5.76\"/>\n",
       "\t<path d=\" M454.04 2425.95 L471.61 2369.52 L489.31 2345.38 L506.88 2337.34 L524.45 2359.86 L542.02 2350.95 L559.60 2385.60 L577.17 2355.78 L594.74 2312.34 L612.32 2318.78 L630.01 2338.08 L647.58 2336.47 L665.16 2362.21 L682.73 2297.86 L700.30 2272.86 L717.87 2230.17 L735.45 2220.52 L753.02 2212.47 L770.59 2234.25 L788.29 2202.82 L805.86 2191.56 L823.43 2169.78 L841.00 2165.69 L858.58 2156.91 L876.15 2173.74 L893.72 2122.26 L911.29 2059.39 L928.99 2019.17 L946.56 2027.95 L964.14 2015.95 L981.71 2024.74 L999.28 2012.73 L1016.85 1974.86 L1034.43 1949.00 L1052.00 1929.69 L1069.57 1944.17 L1087.27 1857.17 L1104.84 1813.74 L1122.41 1737.13 L1139.98 1724.26 L1157.56 1678.35 L1175.13 1646.92 L1192.70 1659.91 L1210.28 1621.18 L1227.97 1577.74 L1245.54 1579.35 L1263.12 1623.65 L1280.69 1650.13 L1298.26 1671.17 L1315.83 1663.87 L1333.41 1657.44 L1350.98 1659.04 L1368.67 1675.13 L1386.25 1654.22 L1403.82 1710.65 L1421.39 1683.18 L1438.96 1667.95 L1456.54 1714.61 L1474.11 1705.82 L1491.68 1697.66 L1509.26 1687.26 L1526.95 1653.35 L1544.52 1608.31 L1562.10 1584.17 L1579.67 1592.22 L1597.24 1573.65 L1614.81 1618.82 L1632.39 1581.70 L1649.96 1544.70 L1667.65 1510.79 L1685.23 1489.13 L1702.80 1444.83 L1720.37 1411.78 L1737.94 1357.83 L1755.52 1308.70 L1773.09 1290.13 L1790.66 1285.31 L1808.36 1259.44 L1825.93 1285.31 L1843.50 1249.05 L1861.08 1211.18 L1878.65 1188.66 L1896.22 1182.22 L1913.79 1185.44 L1931.37 1126.53 L1948.94 1075.79 L1966.63 1039.53 L1984.21 1007.36 L2001.78 1006.61 L2019.35 1000.18 L2036.92 1017.88 L2054.50 1000.18 L2072.07 963.05 L2089.64 949.32 L2107.34 980.01 L2124.91 967.88 L2142.48 975.18 L2160.06 919.61 L2177.63 876.92 L2195.20 862.32 L2212.77 860.71 L2230.35 866.40 L2247.92 868.88 L2265.61 883.36 L2283.19 850.31 L2300.76 836.58 L2318.33 851.06 L2335.91 815.66 L2353.48 822.10 L2371.05 797.96 L2388.62 775.32 L2406.32 761.71 L2423.89 785.09 L2441.46 778.66 L2459.04 789.05 L2476.61 774.58 L2494.18 722.23 L2511.75 739.92 L2529.33 757.62 L2547.02 770.49 L2564.59 836.58 L2582.17 812.44 L2599.74 781.01 L2617.31 781.88 L2634.89 789.05 L2652.46 789.05 L2670.03 810.84 L2687.60 793.14 L2705.30 780.27 L2722.87 764.92 L2740.44 781.01 L2758.02 793.14 L2775.59 834.22 L2793.16 821.35 L2810.73 785.09 L2828.31 756.01 L2846.00 760.10 L2863.57 754.40 L2881.15 761.71 L2898.72 756.88 L2916.29 740.79 L2933.86 719.75 L2951.44 718.14 L2969.01 694.01 L2986.71 752.79 L3004.28 704.53 L3021.85 704.53 L3039.42 674.71 L3057.00 690.05 L3074.57 682.75 L3092.14 710.10 L3109.71 685.97 L3127.29 665.80 L3144.98 667.40 L3162.55 643.27 L3180.13 647.36 L3197.70 676.31 L3215.27 645.75 L3232.84 626.32 L3250.42 601.44 L3267.99 590.92 L3285.69 570.01 L3303.26 578.05 L3320.83 562.71 L3338.40 542.54 L3355.98 518.40 L3373.55 520.88 L3391.12 532.14 L3408.69 570.01 L3426.27 523.23 L3443.96 516.80 L3461.53 458.76 L3479.11 475.71 L3496.68 469.27 L3514.25 496.62 L3531.82 455.54 L3549.40 452.32 L3566.97 443.53 L3584.67 453.93 L3602.24 441.06 L3619.81 472.49 L3637.38 439.45 L3654.96 456.40 L3672.53 490.19 L3690.10 492.66 L3707.67 473.36 L3725.37 437.84 L3742.94 435.49 L3760.51 436.23 L3778.09 425.84 L3795.66 433.01\" stroke-linecap=\"round\" stroke-linejoin=\"round\" style=\"fill:none;stroke:#606060;stroke-width:8.64\"/>\n",
       "\t<line x1=\"390.80\" y1=\"2489.19\" x2=\"390.80\" y2=\"275.35\" style=\"stroke:#000000;stroke-width:5.76\"/>\n",
       "\t<line x1=\"390.80\" y1=\"2352.56\" x2=\"350.83\" y2=\"2352.56\" style=\"stroke:#000000;stroke-width:5.76\"/>\n",
       "\t<text x=\"300.72\" y=\"2352.56\" style=\"font-family:'Helvetica';font-size:99.99px;fill:#000000\" transform=\"rotate(-90 300.72,2352.56)\" text-anchor=\"middle\">100</text>\n",
       "\t<line x1=\"390.80\" y1=\"1949.74\" x2=\"350.83\" y2=\"1949.74\" style=\"stroke:#000000;stroke-width:5.76\"/>\n",
       "\t<text x=\"300.72\" y=\"1949.74\" style=\"font-family:'Helvetica';font-size:99.99px;fill:#000000\" transform=\"rotate(-90 300.72,1949.74)\" text-anchor=\"middle\">105</text>\n",
       "\t<line x1=\"390.80\" y1=\"1547.05\" x2=\"350.83\" y2=\"1547.05\" style=\"stroke:#000000;stroke-width:5.76\"/>\n",
       "\t<text x=\"300.72\" y=\"1547.05\" style=\"font-family:'Helvetica';font-size:99.99px;fill:#000000\" transform=\"rotate(-90 300.72,1547.05)\" text-anchor=\"middle\">110</text>\n",
       "\t<line x1=\"390.80\" y1=\"1144.23\" x2=\"350.83\" y2=\"1144.23\" style=\"stroke:#000000;stroke-width:5.76\"/>\n",
       "\t<text x=\"300.72\" y=\"1144.23\" style=\"font-family:'Helvetica';font-size:99.99px;fill:#000000\" transform=\"rotate(-90 300.72,1144.23)\" text-anchor=\"middle\">115</text>\n",
       "\t<line x1=\"390.80\" y1=\"741.53\" x2=\"350.83\" y2=\"741.53\" style=\"stroke:#000000;stroke-width:5.76\"/>\n",
       "\t<text x=\"300.72\" y=\"741.53\" style=\"font-family:'Helvetica';font-size:99.99px;fill:#000000\" transform=\"rotate(-90 300.72,741.53)\" text-anchor=\"middle\">120</text>\n",
       "\t<line x1=\"390.80\" y1=\"338.71\" x2=\"350.83\" y2=\"338.71\" style=\"stroke:#000000;stroke-width:5.76\"/>\n",
       "\t<text x=\"300.72\" y=\"338.71\" style=\"font-family:'Helvetica';font-size:99.99px;fill:#000000\" transform=\"rotate(-90 300.72,338.71)\" text-anchor=\"middle\">125</text>\n",
       "\t<text x=\"190.71\" y=\"1382.33\" style=\"font-family:'Helvetica';font-size:99.99px;fill:#000000\" transform=\"rotate(-90 190.71,1382.33)\" text-anchor=\"middle\">Point figure</text>\n",
       "\t<line x1=\"390.80\" y1=\"2489.19\" x2=\"3859.02\" y2=\"2489.19\" style=\"stroke:#000000;stroke-width:5.76\"/>\n",
       "\t<line x1=\"454.16\" y1=\"2489.19\" x2=\"454.16\" y2=\"2529.16\" style=\"stroke:#000000;stroke-width:5.76\"/>\n",
       "\t<text x=\"454.16\" y=\"2619.14\" style=\"font-family:'Helvetica';font-size:99.99px;fill:#000000\" text-anchor=\"middle\">2005m1</text>\n",
       "\t<line x1=\"1509.38\" y1=\"2489.19\" x2=\"1509.38\" y2=\"2529.16\" style=\"stroke:#000000;stroke-width:5.76\"/>\n",
       "\t<text x=\"1509.38\" y=\"2619.14\" style=\"font-family:'Helvetica';font-size:99.99px;fill:#000000\" text-anchor=\"middle\">2010m1</text>\n",
       "\t<line x1=\"2564.59\" y1=\"2489.19\" x2=\"2564.59\" y2=\"2529.16\" style=\"stroke:#000000;stroke-width:5.76\"/>\n",
       "\t<text x=\"2564.59\" y=\"2619.14\" style=\"font-family:'Helvetica';font-size:99.99px;fill:#000000\" text-anchor=\"middle\">2015m1</text>\n",
       "\t<line x1=\"3619.81\" y1=\"2489.19\" x2=\"3619.81\" y2=\"2529.16\" style=\"stroke:#000000;stroke-width:5.76\"/>\n",
       "\t<text x=\"3619.81\" y=\"2619.14\" style=\"font-family:'Helvetica';font-size:99.99px;fill:#000000\" text-anchor=\"middle\">2020m1</text>\n",
       "\t<text x=\"2124.91\" y=\"2729.16\" style=\"font-family:'Helvetica';font-size:99.99px;fill:#000000\" text-anchor=\"middle\">Month</text>\n",
       "\t<text x=\"2124.91\" y=\"215.98\" style=\"font-family:'Helvetica';font-size:139.96px;fill:#000000\" text-anchor=\"middle\">CPI</text>\n",
       "</svg>\n"
      ],
      "text/html": [
       "                <iframe frameborder=\"0\" scrolling=\"no\" height=\"436\" width=\"600\"                srcdoc=\"<html><body>&lt;?xml version=&quot;1.0&quot; encoding=&quot;UTF-8&quot; standalone=&quot;no&quot;?&gt;\n",
       "&lt;!-- This is a Stata 15.1 generated SVG file (http://www.stata.com) --&gt;\n",
       "\n",
       "&lt;svg version=&quot;1.1&quot; width=&quot;600px&quot; height=&quot;436px&quot; viewBox=&quot;0 0 3960 2880&quot; xmlns=&quot;http://www.w3.org/2000/svg&quot; xmlns:xlink=&quot;http://www.w3.org/1999/xlink&quot;&gt;\n",
       "\t&lt;desc&gt;Stata Graph - Graph&lt;/desc&gt;\n",
       "\t&lt;rect x=&quot;0&quot; y=&quot;0&quot; width=&quot;3960&quot; height=&quot;2880&quot; style=&quot;fill:#FFFFFF;stroke:none&quot;/&gt;\n",
       "\t&lt;rect x=&quot;0.00&quot; y=&quot;0.00&quot; width=&quot;3959.88&quot; height=&quot;2880.00&quot; style=&quot;fill:#FFFFFF&quot;/&gt;\n",
       "\t&lt;rect x=&quot;2.88&quot; y=&quot;2.88&quot; width=&quot;3954.12&quot; height=&quot;2874.24&quot; style=&quot;fill:none;stroke:#FFFFFF;stroke-width:5.76&quot;/&gt;\n",
       "\t&lt;rect x=&quot;393.68&quot; y=&quot;278.23&quot; width=&quot;3462.46&quot; height=&quot;2208.07&quot; style=&quot;fill:none;stroke:#000000;stroke-width:5.76&quot;/&gt;\n",
       "\t&lt;path d=&quot; M454.04 2425.95 L471.61 2369.52 L489.31 2345.38 L506.88 2337.34 L524.45 2359.86 L542.02 2350.95 L559.60 2385.60 L577.17 2355.78 L594.74 2312.34 L612.32 2318.78 L630.01 2338.08 L647.58 2336.47 L665.16 2362.21 L682.73 2297.86 L700.30 2272.86 L717.87 2230.17 L735.45 2220.52 L753.02 2212.47 L770.59 2234.25 L788.29 2202.82 L805.86 2191.56 L823.43 2169.78 L841.00 2165.69 L858.58 2156.91 L876.15 2173.74 L893.72 2122.26 L911.29 2059.39 L928.99 2019.17 L946.56 2027.95 L964.14 2015.95 L981.71 2024.74 L999.28 2012.73 L1016.85 1974.86 L1034.43 1949.00 L1052.00 1929.69 L1069.57 1944.17 L1087.27 1857.17 L1104.84 1813.74 L1122.41 1737.13 L1139.98 1724.26 L1157.56 1678.35 L1175.13 1646.92 L1192.70 1659.91 L1210.28 1621.18 L1227.97 1577.74 L1245.54 1579.35 L1263.12 1623.65 L1280.69 1650.13 L1298.26 1671.17 L1315.83 1663.87 L1333.41 1657.44 L1350.98 1659.04 L1368.67 1675.13 L1386.25 1654.22 L1403.82 1710.65 L1421.39 1683.18 L1438.96 1667.95 L1456.54 1714.61 L1474.11 1705.82 L1491.68 1697.66 L1509.26 1687.26 L1526.95 1653.35 L1544.52 1608.31 L1562.10 1584.17 L1579.67 1592.22 L1597.24 1573.65 L1614.81 1618.82 L1632.39 1581.70 L1649.96 1544.70 L1667.65 1510.79 L1685.23 1489.13 L1702.80 1444.83 L1720.37 1411.78 L1737.94 1357.83 L1755.52 1308.70 L1773.09 1290.13 L1790.66 1285.31 L1808.36 1259.44 L1825.93 1285.31 L1843.50 1249.05 L1861.08 1211.18 L1878.65 1188.66 L1896.22 1182.22 L1913.79 1185.44 L1931.37 1126.53 L1948.94 1075.79 L1966.63 1039.53 L1984.21 1007.36 L2001.78 1006.61 L2019.35 1000.18 L2036.92 1017.88 L2054.50 1000.18 L2072.07 963.05 L2089.64 949.32 L2107.34 980.01 L2124.91 967.88 L2142.48 975.18 L2160.06 919.61 L2177.63 876.92 L2195.20 862.32 L2212.77 860.71 L2230.35 866.40 L2247.92 868.88 L2265.61 883.36 L2283.19 850.31 L2300.76 836.58 L2318.33 851.06 L2335.91 815.66 L2353.48 822.10 L2371.05 797.96 L2388.62 775.32 L2406.32 761.71 L2423.89 785.09 L2441.46 778.66 L2459.04 789.05 L2476.61 774.58 L2494.18 722.23 L2511.75 739.92 L2529.33 757.62 L2547.02 770.49 L2564.59 836.58 L2582.17 812.44 L2599.74 781.01 L2617.31 781.88 L2634.89 789.05 L2652.46 789.05 L2670.03 810.84 L2687.60 793.14 L2705.30 780.27 L2722.87 764.92 L2740.44 781.01 L2758.02 793.14 L2775.59 834.22 L2793.16 821.35 L2810.73 785.09 L2828.31 756.01 L2846.00 760.10 L2863.57 754.40 L2881.15 761.71 L2898.72 756.88 L2916.29 740.79 L2933.86 719.75 L2951.44 718.14 L2969.01 694.01 L2986.71 752.79 L3004.28 704.53 L3021.85 704.53 L3039.42 674.71 L3057.00 690.05 L3074.57 682.75 L3092.14 710.10 L3109.71 685.97 L3127.29 665.80 L3144.98 667.40 L3162.55 643.27 L3180.13 647.36 L3197.70 676.31 L3215.27 645.75 L3232.84 626.32 L3250.42 601.44 L3267.99 590.92 L3285.69 570.01 L3303.26 578.05 L3320.83 562.71 L3338.40 542.54 L3355.98 518.40 L3373.55 520.88 L3391.12 532.14 L3408.69 570.01 L3426.27 523.23 L3443.96 516.80 L3461.53 458.76 L3479.11 475.71 L3496.68 469.27 L3514.25 496.62 L3531.82 455.54 L3549.40 452.32 L3566.97 443.53 L3584.67 453.93 L3602.24 441.06 L3619.81 472.49 L3637.38 439.45 L3654.96 456.40 L3672.53 490.19 L3690.10 492.66 L3707.67 473.36 L3725.37 437.84 L3742.94 435.49 L3760.51 436.23 L3778.09 425.84 L3795.66 433.01&quot; stroke-linecap=&quot;round&quot; stroke-linejoin=&quot;round&quot; style=&quot;fill:none;stroke:#606060;stroke-width:8.64&quot;/&gt;\n",
       "\t&lt;line x1=&quot;390.80&quot; y1=&quot;2489.19&quot; x2=&quot;390.80&quot; y2=&quot;275.35&quot; style=&quot;stroke:#000000;stroke-width:5.76&quot;/&gt;\n",
       "\t&lt;line x1=&quot;390.80&quot; y1=&quot;2352.56&quot; x2=&quot;350.83&quot; y2=&quot;2352.56&quot; style=&quot;stroke:#000000;stroke-width:5.76&quot;/&gt;\n",
       "\t&lt;text x=&quot;300.72&quot; y=&quot;2352.56&quot; style=&quot;font-family:&#x27;Helvetica&#x27;;font-size:99.99px;fill:#000000&quot; transform=&quot;rotate(-90 300.72,2352.56)&quot; text-anchor=&quot;middle&quot;&gt;100&lt;/text&gt;\n",
       "\t&lt;line x1=&quot;390.80&quot; y1=&quot;1949.74&quot; x2=&quot;350.83&quot; y2=&quot;1949.74&quot; style=&quot;stroke:#000000;stroke-width:5.76&quot;/&gt;\n",
       "\t&lt;text x=&quot;300.72&quot; y=&quot;1949.74&quot; style=&quot;font-family:&#x27;Helvetica&#x27;;font-size:99.99px;fill:#000000&quot; transform=&quot;rotate(-90 300.72,1949.74)&quot; text-anchor=&quot;middle&quot;&gt;105&lt;/text&gt;\n",
       "\t&lt;line x1=&quot;390.80&quot; y1=&quot;1547.05&quot; x2=&quot;350.83&quot; y2=&quot;1547.05&quot; style=&quot;stroke:#000000;stroke-width:5.76&quot;/&gt;\n",
       "\t&lt;text x=&quot;300.72&quot; y=&quot;1547.05&quot; style=&quot;font-family:&#x27;Helvetica&#x27;;font-size:99.99px;fill:#000000&quot; transform=&quot;rotate(-90 300.72,1547.05)&quot; text-anchor=&quot;middle&quot;&gt;110&lt;/text&gt;\n",
       "\t&lt;line x1=&quot;390.80&quot; y1=&quot;1144.23&quot; x2=&quot;350.83&quot; y2=&quot;1144.23&quot; style=&quot;stroke:#000000;stroke-width:5.76&quot;/&gt;\n",
       "\t&lt;text x=&quot;300.72&quot; y=&quot;1144.23&quot; style=&quot;font-family:&#x27;Helvetica&#x27;;font-size:99.99px;fill:#000000&quot; transform=&quot;rotate(-90 300.72,1144.23)&quot; text-anchor=&quot;middle&quot;&gt;115&lt;/text&gt;\n",
       "\t&lt;line x1=&quot;390.80&quot; y1=&quot;741.53&quot; x2=&quot;350.83&quot; y2=&quot;741.53&quot; style=&quot;stroke:#000000;stroke-width:5.76&quot;/&gt;\n",
       "\t&lt;text x=&quot;300.72&quot; y=&quot;741.53&quot; style=&quot;font-family:&#x27;Helvetica&#x27;;font-size:99.99px;fill:#000000&quot; transform=&quot;rotate(-90 300.72,741.53)&quot; text-anchor=&quot;middle&quot;&gt;120&lt;/text&gt;\n",
       "\t&lt;line x1=&quot;390.80&quot; y1=&quot;338.71&quot; x2=&quot;350.83&quot; y2=&quot;338.71&quot; style=&quot;stroke:#000000;stroke-width:5.76&quot;/&gt;\n",
       "\t&lt;text x=&quot;300.72&quot; y=&quot;338.71&quot; style=&quot;font-family:&#x27;Helvetica&#x27;;font-size:99.99px;fill:#000000&quot; transform=&quot;rotate(-90 300.72,338.71)&quot; text-anchor=&quot;middle&quot;&gt;125&lt;/text&gt;\n",
       "\t&lt;text x=&quot;190.71&quot; y=&quot;1382.33&quot; style=&quot;font-family:&#x27;Helvetica&#x27;;font-size:99.99px;fill:#000000&quot; transform=&quot;rotate(-90 190.71,1382.33)&quot; text-anchor=&quot;middle&quot;&gt;Point figure&lt;/text&gt;\n",
       "\t&lt;line x1=&quot;390.80&quot; y1=&quot;2489.19&quot; x2=&quot;3859.02&quot; y2=&quot;2489.19&quot; style=&quot;stroke:#000000;stroke-width:5.76&quot;/&gt;\n",
       "\t&lt;line x1=&quot;454.16&quot; y1=&quot;2489.19&quot; x2=&quot;454.16&quot; y2=&quot;2529.16&quot; style=&quot;stroke:#000000;stroke-width:5.76&quot;/&gt;\n",
       "\t&lt;text x=&quot;454.16&quot; y=&quot;2619.14&quot; style=&quot;font-family:&#x27;Helvetica&#x27;;font-size:99.99px;fill:#000000&quot; text-anchor=&quot;middle&quot;&gt;2005m1&lt;/text&gt;\n",
       "\t&lt;line x1=&quot;1509.38&quot; y1=&quot;2489.19&quot; x2=&quot;1509.38&quot; y2=&quot;2529.16&quot; style=&quot;stroke:#000000;stroke-width:5.76&quot;/&gt;\n",
       "\t&lt;text x=&quot;1509.38&quot; y=&quot;2619.14&quot; style=&quot;font-family:&#x27;Helvetica&#x27;;font-size:99.99px;fill:#000000&quot; text-anchor=&quot;middle&quot;&gt;2010m1&lt;/text&gt;\n",
       "\t&lt;line x1=&quot;2564.59&quot; y1=&quot;2489.19&quot; x2=&quot;2564.59&quot; y2=&quot;2529.16&quot; style=&quot;stroke:#000000;stroke-width:5.76&quot;/&gt;\n",
       "\t&lt;text x=&quot;2564.59&quot; y=&quot;2619.14&quot; style=&quot;font-family:&#x27;Helvetica&#x27;;font-size:99.99px;fill:#000000&quot; text-anchor=&quot;middle&quot;&gt;2015m1&lt;/text&gt;\n",
       "\t&lt;line x1=&quot;3619.81&quot; y1=&quot;2489.19&quot; x2=&quot;3619.81&quot; y2=&quot;2529.16&quot; style=&quot;stroke:#000000;stroke-width:5.76&quot;/&gt;\n",
       "\t&lt;text x=&quot;3619.81&quot; y=&quot;2619.14&quot; style=&quot;font-family:&#x27;Helvetica&#x27;;font-size:99.99px;fill:#000000&quot; text-anchor=&quot;middle&quot;&gt;2020m1&lt;/text&gt;\n",
       "\t&lt;text x=&quot;2124.91&quot; y=&quot;2729.16&quot; style=&quot;font-family:&#x27;Helvetica&#x27;;font-size:99.99px;fill:#000000&quot; text-anchor=&quot;middle&quot;&gt;Month&lt;/text&gt;\n",
       "\t&lt;text x=&quot;2124.91&quot; y=&quot;215.98&quot; style=&quot;font-family:&#x27;Helvetica&#x27;;font-size:139.96px;fill:#000000&quot; text-anchor=&quot;middle&quot;&gt;CPI&lt;/text&gt;\n",
       "&lt;/svg&gt;\n",
       "</body></html>\"></iframe>\n"
      ],
      "text/plain": [
       "This front-end cannot display the desired image type."
      ]
     },
     "metadata": {
      "image/svg+xml": {
       "height": 436,
       "width": 600
      },
      "text/html": {
       "height": 436,
       "width": 600
      }
     },
     "output_type": "display_data"
    }
   ],
   "source": [
    "line Pointfigure month, title(\"CPI\")"
   ]
  }
 ],
 "metadata": {
  "kernelspec": {
   "display_name": "Stata",
   "language": "stata",
   "name": "stata"
  },
  "language_info": {
   "codemirror_mode": "stata",
   "file_extension": ".do",
   "mimetype": "text/x-stata",
   "name": "stata",
   "version": "15.1"
  }
 },
 "nbformat": 4,
 "nbformat_minor": 4
}

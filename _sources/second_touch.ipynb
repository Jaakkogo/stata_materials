{
 "cells": [
  {
   "cell_type": "markdown",
   "metadata": {},
   "source": [
    "## Some motivation and more Stata commands\n",
    "### `egen` and `bysort`\n",
    "\n",
    "Next we will go through some extremely useful and Stata idiomatics commands, namely the `egen` and `bysort` commands. `egen` stands for *extended generate* and is probably the one of the most important Stata commands after `help` and `gen`.\n",
    "\n",
    "Recall that in the `gen` command requires the user to assign the variable values from some existing Stata commands or by typing the valus self. For instance:\n",
    "\n",
    "```\n",
    "gen dummy = 0\n",
    "replace dummy = 1 if !missing(some_variable)\n",
    "\n",
    "```\n",
    "\n",
    "Or directly from the return value of the `missing` command:\n",
    "\n",
    "```\n",
    "gen dummy = !missing(some_variable)\n",
    "\n",
    "```\n",
    "\n",
    "It's clearly useful to use the return values from known Stata functions if possible. But where to find useful Stata functions?\n",
    "\n",
    "```{note}\n",
    "\n",
    "Strictly speaking Stata functions are a different thing from commands. So far I've used both terms when referring to stuff that you can write to the command line. \n",
    "\n",
    "```\n",
    "\n",
    "`missing` is one function we are already are familiar with. So is `strpos` or `substr` and the other [string manipulation functions](https://www.stata.com/manuals/fnstringfunctions.pdf) mentioned in the previous exercise session. Other examples are [statistical functions](https://www.stata.com/manuals/fnstatisticalfunctions.pdf) such as `normal(z)` that returns the cumulative probability of a given Z-value. The statistical functions are mostly functions for statistical distributions. They can also be used with the `display` command.\n",
    "\n",
    "Probably more useful tricks are the various [random number generators](https://www.stata.com/manuals/fnrandom-numberfunctions.pdf) that can be used for instance with simulations. More on those later. \n",
    "\n",
    "Next here is a minor example that demonstrates different options for generate. I use the command `quietly` to tell Stata not to print any output for commands inside the brackets."
   ]
  },
  {
   "cell_type": "code",
   "execution_count": 1,
   "metadata": {},
   "outputs": [],
   "source": [
    "quietly {\n",
    "    clear\n",
    "    set obs 10\n",
    "    gen text = \"Hello world!\"\n",
    "    gen first_char = substr(text,1,1)\n",
    "    gen random = rnormal()\n",
    "    gen p = normal(random)\n",
    "}    "
   ]
  },
  {
   "cell_type": "code",
   "execution_count": 2,
   "metadata": {},
   "outputs": [
    {
     "data": {
      "text/html": [
       "<div>\n",
       "<style scoped>\n",
       "    .dataframe tbody tr th:only-of-type {\n",
       "        vertical-align: middle;\n",
       "    }\n",
       "\n",
       "    .dataframe tbody tr th {\n",
       "        vertical-align: top;\n",
       "    }\n",
       "\n",
       "    .dataframe thead th {\n",
       "        text-align: right;\n",
       "    }\n",
       "</style>\n",
       "<table border=\"1\" class=\"dataframe\">\n",
       "  <thead>\n",
       "    <tr style=\"text-align: right;\">\n",
       "      <th></th>\n",
       "      <th>text</th>\n",
       "      <th>first_char</th>\n",
       "      <th>random</th>\n",
       "      <th>p</th>\n",
       "    </tr>\n",
       "  </thead>\n",
       "  <tbody>\n",
       "    <tr>\n",
       "      <th>1</th>\n",
       "      <td>Hello world!</td>\n",
       "      <td>H</td>\n",
       "      <td>2.0255878</td>\n",
       "      <td>.97859645</td>\n",
       "    </tr>\n",
       "    <tr>\n",
       "      <th>2</th>\n",
       "      <td>Hello world!</td>\n",
       "      <td>H</td>\n",
       "      <td>1.0426311</td>\n",
       "      <td>.85144043</td>\n",
       "    </tr>\n",
       "    <tr>\n",
       "      <th>3</th>\n",
       "      <td>Hello world!</td>\n",
       "      <td>H</td>\n",
       "      <td>.29771236</td>\n",
       "      <td>.61703867</td>\n",
       "    </tr>\n",
       "    <tr>\n",
       "      <th>4</th>\n",
       "      <td>Hello world!</td>\n",
       "      <td>H</td>\n",
       "      <td>-1.7221316</td>\n",
       "      <td>.04252284</td>\n",
       "    </tr>\n",
       "    <tr>\n",
       "      <th>5</th>\n",
       "      <td>Hello world!</td>\n",
       "      <td>H</td>\n",
       "      <td>-.72919953</td>\n",
       "      <td>.23293981</td>\n",
       "    </tr>\n",
       "    <tr>\n",
       "      <th>6</th>\n",
       "      <td>Hello world!</td>\n",
       "      <td>H</td>\n",
       "      <td>.86182606</td>\n",
       "      <td>.80560839</td>\n",
       "    </tr>\n",
       "    <tr>\n",
       "      <th>7</th>\n",
       "      <td>Hello world!</td>\n",
       "      <td>H</td>\n",
       "      <td>-.23935401</td>\n",
       "      <td>.40541553</td>\n",
       "    </tr>\n",
       "    <tr>\n",
       "      <th>8</th>\n",
       "      <td>Hello world!</td>\n",
       "      <td>H</td>\n",
       "      <td>.51654899</td>\n",
       "      <td>.69726449</td>\n",
       "    </tr>\n",
       "    <tr>\n",
       "      <th>9</th>\n",
       "      <td>Hello world!</td>\n",
       "      <td>H</td>\n",
       "      <td>-1.8120158</td>\n",
       "      <td>.034991879</td>\n",
       "    </tr>\n",
       "    <tr>\n",
       "      <th>10</th>\n",
       "      <td>Hello world!</td>\n",
       "      <td>H</td>\n",
       "      <td>-1.0151243</td>\n",
       "      <td>.15502329</td>\n",
       "    </tr>\n",
       "  </tbody>\n",
       "</table>\n",
       "</div>"
      ],
      "text/plain": [
       "\n",
       "     +------------------------------------------------+\n",
       "     |         text   first_~r      random          p |\n",
       "     |------------------------------------------------|\n",
       "  1. | Hello world!          H    2.025588   .9785964 |\n",
       "  2. | Hello world!          H    1.042631   .8514404 |\n",
       "  3. | Hello world!          H    .2977124   .6170387 |\n",
       "  4. | Hello world!          H   -1.722132   .0425228 |\n",
       "  5. | Hello world!          H   -.7291995   .2329398 |\n",
       "     |------------------------------------------------|\n",
       "  6. | Hello world!          H    .8618261   .8056084 |\n",
       "  7. | Hello world!          H    -.239354   .4054155 |\n",
       "  8. | Hello world!          H     .516549   .6972645 |\n",
       "  9. | Hello world!          H   -1.812016   .0349919 |\n",
       " 10. | Hello world!          H   -1.015124   .1550233 |\n",
       "     +------------------------------------------------+\n",
       "\n"
      ]
     },
     "metadata": {},
     "output_type": "display_data"
    }
   ],
   "source": [
    "%browse"
   ]
  },
  {
   "cell_type": "markdown",
   "metadata": {},
   "source": [
    "Oftentimes we want to generate variables based on some characteristics of existing variables (data). This is where we want to use `egen`. It has various functions that can do exactly that. Let's list a few:\n",
    "\n",
    "1. mean(expression)\n",
    "    * creates a constant for the mean in expression\n",
    "2. sd(expression)\n",
    "    * creates a constant for the standard deviation in expression\n",
    "3. max(expression)\n",
    "    * creates a constant for the max in expression\n",
    "4. count(expression)\n",
    "    * creates a constant containing the number of nonmissing observations of expression\n",
    "    \n",
    "The list goes on. You can view the full list of `egen` functions by typing `help egen` to the command line. Let's not try the command now in action:"
   ]
  },
  {
   "cell_type": "code",
   "execution_count": 3,
   "metadata": {},
   "outputs": [],
   "source": [
    "qui{\n",
    "    clear\n",
    "    set obs 1000000\n",
    "    gen random_var = rnormal()\n",
    "    egen average = mean(random_var)\n",
    "    egen sd = sd(random_var)  \n",
    "}"
   ]
  },
  {
   "cell_type": "code",
   "execution_count": 4,
   "metadata": {},
   "outputs": [
    {
     "data": {
      "text/html": [
       "<div>\n",
       "<style scoped>\n",
       "    .dataframe tbody tr th:only-of-type {\n",
       "        vertical-align: middle;\n",
       "    }\n",
       "\n",
       "    .dataframe tbody tr th {\n",
       "        vertical-align: top;\n",
       "    }\n",
       "\n",
       "    .dataframe thead th {\n",
       "        text-align: right;\n",
       "    }\n",
       "</style>\n",
       "<table border=\"1\" class=\"dataframe\">\n",
       "  <thead>\n",
       "    <tr style=\"text-align: right;\">\n",
       "      <th></th>\n",
       "      <th>random_var</th>\n",
       "      <th>average</th>\n",
       "      <th>sd</th>\n",
       "    </tr>\n",
       "  </thead>\n",
       "  <tbody>\n",
       "    <tr>\n",
       "      <th>1</th>\n",
       "      <td>1.0953676</td>\n",
       "      <td>-.0010069405</td>\n",
       "      <td>1.0000892</td>\n",
       "    </tr>\n",
       "    <tr>\n",
       "      <th>2</th>\n",
       "      <td>1.3326492</td>\n",
       "      <td>-.0010069405</td>\n",
       "      <td>1.0000892</td>\n",
       "    </tr>\n",
       "    <tr>\n",
       "      <th>3</th>\n",
       "      <td>-.360688</td>\n",
       "      <td>-.0010069405</td>\n",
       "      <td>1.0000892</td>\n",
       "    </tr>\n",
       "    <tr>\n",
       "      <th>4</th>\n",
       "      <td>.73510557</td>\n",
       "      <td>-.0010069405</td>\n",
       "      <td>1.0000892</td>\n",
       "    </tr>\n",
       "    <tr>\n",
       "      <th>5</th>\n",
       "      <td>-.96148294</td>\n",
       "      <td>-.0010069405</td>\n",
       "      <td>1.0000892</td>\n",
       "    </tr>\n",
       "  </tbody>\n",
       "</table>\n",
       "</div>"
      ],
      "text/plain": [
       "\n",
       "     +----------------------------------+\n",
       "     | random_~r     average         sd |\n",
       "     |----------------------------------|\n",
       "  1. |  1.095368   -.0010069   1.000089 |\n",
       "  2. |  1.332649   -.0010069   1.000089 |\n",
       "  3. |  -.360688   -.0010069   1.000089 |\n",
       "  4. |  .7351056   -.0010069   1.000089 |\n",
       "  5. | -.9614829   -.0010069   1.000089 |\n",
       "     +----------------------------------+\n",
       "\n"
      ]
     },
     "metadata": {},
     "output_type": "display_data"
    }
   ],
   "source": [
    "%browse 5"
   ]
  },
  {
   "cell_type": "markdown",
   "metadata": {},
   "source": [
    "The real power of `egen` comes for the possibility to use some of the funtions with `by(varlist)`. This is a way to execute Stata commands separately for some groups of observations.\n",
    "\n",
    "The best way to demostrate this is by an example. Let's continue working with our data from Sweden."
   ]
  },
  {
   "cell_type": "code",
   "execution_count": 5,
   "metadata": {},
   "outputs": [
    {
     "name": "stdout",
     "output_type": "stream",
     "text": [
      "\n",
      "Z:\\ECON-C4100\n",
      "\n",
      "\n",
      "\n",
      "\n",
      "Contains data from data/sweden_prices.dta\n",
      "  obs:        14,276                          \n",
      " vars:            15                          24 Jan 2021 22:20\n",
      " size:     6,395,648                          \n",
      "---------------------------------------------------------------------------------------------------------------------------------------------------------------------------------------------------------------------------------------------------------------\n",
      "              storage   display    value\n",
      "variable name   type    format     label      variable label\n",
      "---------------------------------------------------------------------------------------------------------------------------------------------------------------------------------------------------------------------------------------------------------------\n",
      "Produktnamn     str50   %50s                  Produktnamn\n",
      "Varunummer      long    %10.0g                Varunummer\n",
      "ATCkod          str16   %16s                  ATC-kod\n",
      "NPLid           double  %10.0g                NPL id\n",
      "NPLpackid       double  %10.0g                NPL pack-id\n",
      "Form            str86   %86s                  Form\n",
      "Styrka          str43   %43s                  Styrka\n",
      "Förpackning     str142  %142s                 Förpackning\n",
      "Antal           double  %10.0g                Antal\n",
      "Företag         str49   %49s                  Företag\n",
      "AIP             double  %10.0g                AIP\n",
      "AUP             double  %10.0g                AUP\n",
      "AIPperst        double  %10.0g                AIP per st\n",
      "AUPperst        double  %10.0g                AUP per st\n",
      "Subventionerad  str2    %9s                   Subventionerad\n",
      "---------------------------------------------------------------------------------------------------------------------------------------------------------------------------------------------------------------------------------------------------------------\n",
      "Sorted by: \n",
      "     Note: Dataset has changed since last saved.\n"
     ]
    }
   ],
   "source": [
    "cd Z:/ECON-C4100 // change working dir\n",
    "use data/sweden_prices.dta, clear\n",
    "qui destring _all, replace dpcomma\n",
    "describe"
   ]
  },
  {
   "cell_type": "markdown",
   "metadata": {},
   "source": [
    "In this example, we calculate the conditional expectation for prices of [the anatomical main groups in our data](https://www.whocc.no/atc/structure_and_principles/) and for products whose pharmacy purchasing price is more than 1000 kronor. More specifically, we calculate\n",
    "\n",
    "$E(ppp \\;| \\;ATC_1, \\;ppp > 1000)$\n",
    "\n",
    "\n",
    "Steps:\n",
    "\n",
    "1. Extract the 1st level from the ATC variable\n",
    "2. use `egen` with `by` and `cond`\n",
    "\n",
    "`cond` is a regular (and a very useful function!)."
   ]
  },
  {
   "cell_type": "code",
   "execution_count": 12,
   "metadata": {},
   "outputs": [
    {
     "name": "stdout",
     "output_type": "stream",
     "text": [
      "\n",
      "\n",
      "\n",
      "      atc_1 |      Freq.     Percent        Cum.\n",
      "------------+-----------------------------------\n",
      "          A |      1,433       10.04       10.04\n",
      "          B |        962        6.74       16.78\n",
      "          C |      1,443       10.11       26.88\n",
      "          D |        431        3.02       29.90\n",
      "          G |        567        3.97       33.88\n",
      "          H |        403        2.82       36.70\n",
      "          J |      1,032        7.23       43.93\n",
      "          L |      1,804       12.64       56.56\n",
      "          M |        399        2.79       59.36\n",
      "          N |      4,510       31.59       90.95\n",
      "          P |         45        0.32       91.27\n",
      "          R |        746        5.23       96.49\n",
      "          S |        367        2.57       99.06\n",
      "          V |        134        0.94      100.00\n",
      "------------+-----------------------------------\n",
      "      Total |     14,276      100.00\n",
      "\n",
      "\n",
      "\n",
      "  cond_mean |      Freq.     Percent        Cum.\n",
      "------------+-----------------------------------\n",
      "   2022.123 |        567        3.97        3.97\n",
      "   2409.912 |        431        3.02        6.99\n",
      "   2670.016 |      4,510       31.59       38.58\n",
      "   3240.064 |         45        0.32       38.90\n",
      "   3439.819 |        134        0.94       39.84\n",
      "    6087.08 |      1,433       10.04       49.87\n",
      "   6588.213 |        403        2.82       52.70\n",
      "   7943.088 |        367        2.57       55.27\n",
      "   8277.331 |        399        2.79       58.06\n",
      "   8402.929 |        962        6.74       64.80\n",
      "   10566.04 |      1,443       10.11       74.91\n",
      "   13632.82 |      1,032        7.23       82.14\n",
      "   14347.02 |        746        5.23       87.36\n",
      "      14645 |      1,804       12.64      100.00\n",
      "------------+-----------------------------------\n",
      "      Total |     14,276      100.00\n"
     ]
    }
   ],
   "source": [
    "gen atc_1 = substr(ATCkod,1,1)\n",
    "tab atc_1\n",
    "\n",
    "bysort atc_1: egen cond_mean = mean(cond(AIP> 1000, AIP, .))\n",
    "tab cond_mean"
   ]
  },
  {
   "cell_type": "markdown",
   "metadata": {},
   "source": [
    "There's also a simpler way to do the same thing. "
   ]
  },
  {
   "cell_type": "code",
   "execution_count": 13,
   "metadata": {},
   "outputs": [
    {
     "name": "stdout",
     "output_type": "stream",
     "text": [
      "\n",
      "(10504 missing values generated)\n",
      "\n",
      "\n",
      "cond_mean_2 |      Freq.     Percent        Cum.\n",
      "------------+-----------------------------------\n",
      "   2022.123 |        133        3.53        3.53\n",
      "   2409.912 |         38        1.01        4.53\n",
      "   2670.016 |        562       14.90       19.43\n",
      "   3240.064 |         10        0.27       19.70\n",
      "   3439.819 |         91        2.41       22.11\n",
      "    6087.08 |        252        6.68       28.79\n",
      "   6588.213 |        183        4.85       33.64\n",
      "   7943.088 |          5        0.13       33.78\n",
      "   8277.331 |         58        1.54       35.31\n",
      "   8402.929 |        565       14.98       50.29\n",
      "   10566.04 |         95        2.52       52.81\n",
      "   13632.82 |        322        8.54       61.35\n",
      "   14347.02 |        135        3.58       64.93\n",
      "      14645 |      1,323       35.07      100.00\n",
      "------------+-----------------------------------\n",
      "      Total |      3,772      100.00\n"
     ]
    }
   ],
   "source": [
    "bysort atc_1: egen cond_mean_2 = mean(AIP) if AIP > 1000\n",
    "tab cond_mean_2"
   ]
  },
  {
   "cell_type": "markdown",
   "metadata": {},
   "source": [
    "However, notice that now the expectation is saved only for those observations that satisfy the condition.\n",
    "\n",
    "It's also worthwile to note that we can do `by` with several different notations:"
   ]
  },
  {
   "cell_type": "code",
   "execution_count": 14,
   "metadata": {},
   "outputs": [
    {
     "name": "stdout",
     "output_type": "stream",
     "text": [
      "\n",
      "\n",
      "\n",
      "\n",
      "cond_mean_3 |      Freq.     Percent        Cum.\n",
      "------------+-----------------------------------\n",
      "   2022.123 |        567        3.97        3.97\n",
      "   2409.912 |        431        3.02        6.99\n",
      "   2670.016 |      4,510       31.59       38.58\n",
      "   3240.064 |         45        0.32       38.90\n",
      "   3439.819 |        134        0.94       39.84\n",
      "    6087.08 |      1,433       10.04       49.87\n",
      "   6588.213 |        403        2.82       52.70\n",
      "   7943.088 |        367        2.57       55.27\n",
      "   8277.331 |        399        2.79       58.06\n",
      "   8402.929 |        962        6.74       64.80\n",
      "   10566.04 |      1,443       10.11       74.91\n",
      "   13632.82 |      1,032        7.23       82.14\n",
      "   14347.02 |        746        5.23       87.36\n",
      "      14645 |      1,804       12.64      100.00\n",
      "------------+-----------------------------------\n",
      "      Total |     14,276      100.00\n",
      "\n",
      "\n",
      "cond_mean_4 |      Freq.     Percent        Cum.\n",
      "------------+-----------------------------------\n",
      "   2022.123 |        567        3.97        3.97\n",
      "   2409.912 |        431        3.02        6.99\n",
      "   2670.016 |      4,510       31.59       38.58\n",
      "   3240.064 |         45        0.32       38.90\n",
      "   3439.819 |        134        0.94       39.84\n",
      "    6087.08 |      1,433       10.04       49.87\n",
      "   6588.213 |        403        2.82       52.70\n",
      "   7943.088 |        367        2.57       55.27\n",
      "   8277.331 |        399        2.79       58.06\n",
      "   8402.929 |        962        6.74       64.80\n",
      "   10566.04 |      1,443       10.11       74.91\n",
      "   13632.82 |      1,032        7.23       82.14\n",
      "   14347.02 |        746        5.23       87.36\n",
      "      14645 |      1,804       12.64      100.00\n",
      "------------+-----------------------------------\n",
      "      Total |     14,276      100.00\n"
     ]
    }
   ],
   "source": [
    "by atc_1, sort: egen cond_mean_3 = mean(cond(AIP> 1000, AIP, .))\n",
    "egen cond_mean_4 = mean(cond(AIP> 1000, AIP, .)), by(atc_1)\n",
    "tab cond_mean_3\n",
    "tab cond_mean_4"
   ]
  },
  {
   "cell_type": "markdown",
   "metadata": {},
   "source": [
    "### User written packages: `egenmore` and some `motivate`\n",
    "\n",
    "Stata is a completely programmable language. While it is possible to create your own functions, most of the time some one else has already done the work for you. The Stata community has produced many used userwritten packages that you can download directly into Stata with the `ssc` or `net` command, depending where the program is published. The best of the best packages from the Stata community are published in [the Stata Journal](https://www.stata-journal.com/). One of the giants of the community, [Nick Cox](https://www.statalist.org/forums/member/6-nick-cox), is responsible for several of these commands.\n",
    "\n",
    "The most downloaded packages can be printed with the following command:"
   ]
  },
  {
   "cell_type": "code",
   "execution_count": 17,
   "metadata": {},
   "outputs": [
    {
     "name": "stdout",
     "output_type": "stream",
     "text": [
      "\n",
      "Top 10 packages at SSC\n",
      "\n",
      "        Dec 2020   \n",
      "  Rank   # hits    Package       Author(s)\n",
      "  ----------------------------------------------------------------------\n",
      "     1  87810.0    ritest        Simon Hess                              \n",
      "     2  42619.3    outreg2       Roy Wada                                \n",
      "     3  40865.8    estout        Ben Jann                                \n",
      "     4  22085.3    asdoc         Attaullah Shah                          \n",
      "     5  17479.3    winsor2       Lian Yu-jun                             \n",
      "     6  11304.8    ivreg2        Mark E Schaffer, Christopher F Baum,    \n",
      "                                   Steven Stillman                         \n",
      "     7  11267.2    ivreg210      Christopher F Baum, Steven Stillman,    \n",
      "                                   Mark E Schaffer                         \n",
      "     8  11082.4    ivreg29       Christopher F Baum, Mark E Schaffer,    \n",
      "                                   Steven Stillman                         \n",
      "     9  10893.8    ivreg28       Christopher F Baum, Mark E Schaffer,    \n",
      "                                   Steven Stillman                         \n",
      "    10  10715.7    filelist      Robert Picard                           \n",
      "  ----------------------------------------------------------------------\n",
      "  (Click on package name for description)\n"
     ]
    }
   ],
   "source": [
    "ssc hot"
   ]
  },
  {
   "cell_type": "markdown",
   "metadata": {},
   "source": [
    "We will next download two user written packages into Stata which -besides their popularity- are not listed in the Dec 2020 hotlist. These commands are `motivate` and `egenmore`.\n",
    "\n",
    "```\n",
    "ssc install motivate, replace \n",
    "ssc install egenmore, replace\n",
    "\n",
    "```\n",
    "\n",
    "I've already installed these packages so we don't run the `ssc` commands above. However, we can see them in action starting with the `egenmore` package that adds some functions to `egen` (there is no `egenmore` command). For example, `corr(x y)` can be used to manually calculate OLS estimates. We won't do it here, but you will have a similar exercise in the Problem Set 3.\n",
    "\n",
    "To calculate (and save) the covariance and correlation between `AIP` and the length of the name of the product, let's type:"
   ]
  },
  {
   "cell_type": "code",
   "execution_count": 18,
   "metadata": {},
   "outputs": [
    {
     "name": "stdout",
     "output_type": "stream",
     "text": [
      "\n",
      "\n",
      ". tab correlation\n",
      "\n",
      "Correlation |\n",
      "     of AIP |\n",
      "name_length |      Freq.     Percent        Cum.\n",
      "------------+-----------------------------------\n",
      "  -.1616081 |     14,276      100.00      100.00\n",
      "------------+-----------------------------------\n",
      "      Total |     14,276      100.00\n",
      "\n",
      ". tab covariance\n",
      "\n",
      " Covariance |\n",
      "     of AIP |\n",
      "name_length |      Freq.     Percent        Cum.\n",
      "------------+-----------------------------------\n",
      "  -11033.07 |     14,276      100.00      100.00\n",
      "------------+-----------------------------------\n",
      "      Total |     14,276      100.00\n"
     ]
    }
   ],
   "source": [
    "qui {\n",
    "    gen name_length = length(Produktnamn)\n",
    "    egen correlation = corr(AIP name_length)\n",
    "    egen covariance = corr(AIP name_length), covariance\n",
    "}\n",
    "tab correlation\n",
    "tab covariance"
   ]
  },
  {
   "cell_type": "markdown",
   "metadata": {},
   "source": [
    "Having done that, we can congratulate ourselves with the `motivate` command:"
   ]
  },
  {
   "cell_type": "code",
   "execution_count": 19,
   "metadata": {},
   "outputs": [
    {
     "name": "stdout",
     "output_type": "stream",
     "text": [
      "'I find that the harder I work, the more luck I seem to have'\n",
      "                                            Thomas Jefferson\n"
     ]
    }
   ],
   "source": [
    "motivate"
   ]
  },
  {
   "cell_type": "markdown",
   "metadata": {},
   "source": [
    "### Basic univariate regressions in Stata\n",
    "\n",
    "Doing OLS regressions in Stata is quite easy. You use the command `regress`, or `reg` in short, followed by the dependent variable and the indpendent variable(s). Let's try the following (linear) model in stata:\n",
    "\n",
    "$AIP = \\beta_0 + \\beta_1 \\times nameLength + u$"
   ]
  },
  {
   "cell_type": "code",
   "execution_count": 20,
   "metadata": {},
   "outputs": [
    {
     "name": "stdout",
     "output_type": "stream",
     "text": [
      "\n",
      "      Source |       SS           df       MS      Number of obs   =    14,276\n",
      "-------------+----------------------------------   F(1, 14274)     =    382.79\n",
      "       Model |  4.2959e+10         1  4.2959e+10   Prob > F        =    0.0000\n",
      "    Residual |  1.6019e+12    14,274   112225807   R-squared       =    0.0261\n",
      "-------------+----------------------------------   Adj R-squared   =    0.0260\n",
      "       Total |  1.6449e+12    14,275   115227359   Root MSE        =     10594\n",
      "\n",
      "------------------------------------------------------------------------------\n",
      "         AIP |      Coef.   Std. Err.      t    P>|t|     [95% Conf. Interval]\n",
      "-------------+----------------------------------------------------------------\n",
      " name_length |   -272.763   13.94129   -19.57   0.000    -300.0898   -245.4363\n",
      "       _cons |    6318.27    201.164    31.41   0.000     5923.962    6712.577\n",
      "------------------------------------------------------------------------------\n"
     ]
    }
   ],
   "source": [
    "reg AIP name_length"
   ]
  },
  {
   "cell_type": "markdown",
   "metadata": {},
   "source": [
    "The above regression table tells that products that have longer names are less expensive in average. A decrease of one chracter in the product name's length is in average associated with a decrease or roughly 273 kronors in Apotek Inkop Pris (the slope).\n",
    "\n",
    "The table also tells us that based on our model, products whose name is zero characters long cost 6318.27 kronors to the pharmacists (the constant). Finally, the R-squared tells us that our model is able to explain roughly 2.6% of the variation of AIP in the data."
   ]
  }
 ],
 "metadata": {
  "kernelspec": {
   "display_name": "Stata",
   "language": "stata",
   "name": "stata"
  },
  "language_info": {
   "codemirror_mode": "stata",
   "file_extension": ".do",
   "mimetype": "text/x-stata",
   "name": "stata",
   "version": "15.1"
  }
 },
 "nbformat": 4,
 "nbformat_minor": 4
}
